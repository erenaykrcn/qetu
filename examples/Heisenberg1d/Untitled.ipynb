{
 "cells": [
  {
   "cell_type": "code",
   "execution_count": 4,
   "id": "b8b07a72",
   "metadata": {},
   "outputs": [],
   "source": [
    "import sys\n",
    "\n",
    "sys.path.append(\"../../src/groundstate_prep\")\n",
    "from ground_state_prep import prepare_ground_state\n",
    "from utils_gsp import approx_polynomial, get_phis, U\n",
    "\n",
    "sys.path.append(\"../../src/lindbladian\")\n",
    "from lindbladian import ideal_lindbladian, circuit_implementation_lindbladian\n",
    "from utils_lind import crandn, filter_function"
   ]
  },
  {
   "cell_type": "code",
   "execution_count": 5,
   "id": "fab01768",
   "metadata": {},
   "outputs": [
    {
     "name": "stdout",
     "output_type": "stream",
     "text": [
      "Ground State Energy -4.499999999999999\n",
      "a_max (0.8204008002635392-0j)\n",
      "a_premax (0.6930874526523301-0j)\n",
      "c1:  0.07853931633974483\n",
      "c2:  1.5707963267948966\n"
     ]
    }
   ],
   "source": [
    "# Hamiltonian.\n",
    "\n",
    "import numpy as np\n",
    "from numpy import linalg as LA\n",
    "import qib\n",
    "import matplotlib.pyplot as plt\n",
    "\n",
    "L = 2\n",
    "J = (1.5, 2, 1)\n",
    "h = (0, 0, 0)\n",
    "\n",
    "# construct Hamiltonian\n",
    "latt = qib.lattice.IntegerLattice((L,), pbc=True)\n",
    "field = qib.field.Field(qib.field.ParticleType.QUBIT, latt)\n",
    "hamil = qib.HeisenbergHamiltonian(field, J, h).as_matrix().toarray()\n",
    "\n",
    "eigenvalues, eigenvectors = LA.eig(hamil)\n",
    "idx = eigenvalues.argsort()\n",
    "eigenvalues_sort = eigenvalues[idx]\n",
    "eigenvectors_sort = eigenvectors[:,idx]\n",
    "ground_state = eigenvectors_sort[:, 0]\n",
    "print(\"Ground State Energy\", eigenvalues_sort[0].real)\n",
    "\n",
    "dist = 1e-5\n",
    "max_spectrum_length = 40\n",
    "ground_energy_lower_bound = -20\n",
    "c1 = (np.pi-2*dist) / (max_spectrum_length)\n",
    "c2 = dist - c1 * ground_energy_lower_bound\n",
    "\n",
    "eigenvalues_tr = eigenvalues_sort * c1 + c2\n",
    "a_values = np.array([np.cos(eig/2) for eig in eigenvalues_tr])\n",
    "\n",
    "print(\"a_max\", a_values[0])\n",
    "print(\"a_premax\", a_values[1])\n",
    "print(\"c1: \", c1)\n",
    "print(\"c2: \", c2)"
   ]
  },
  {
   "cell_type": "code",
   "execution_count": 3,
   "id": "18b11e0c",
   "metadata": {},
   "outputs": [
    {
     "name": "stdout",
     "output_type": "stream",
     "text": [
      "Absolute Error for the Eigenvalue:  6.939023649199794\n",
      "State fidelity to the ground state:  0.006649964736632279\n"
     ]
    },
    {
     "data": {
      "image/png": "[encoded data removed]",
      "text/plain": [
       "<Figure size 640x480 with 1 Axes>"
      ]
     },
     "metadata": {},
     "output_type": "display_data"
    }
   ],
   "source": [
    "from qiskit.quantum_info import state_fidelity\n",
    "from utils_lind import crandn\n",
    "\n",
    "tau, nsteps = (100, 100)\n",
    "\n",
    "A = np.array([[-1.2106444 +0.j        ,  0.16263648+0.44727927j],\n",
    "       [ 0.16263648-0.44727927j,  1.35230473+0.j        ]])\n",
    "\n",
    "end_state_lind, en_list, err = circuit_implementation_lindbladian(hamil, L, \n",
    "                                                                  tau=tau, nsteps=nsteps,\n",
    "                                                                  A=A\n",
    "                                                                 )\n",
    "\n",
    "print(\"Absolute Error for the Eigenvalue: \", err)\n",
    "print(\"State fidelity to the ground state: \", state_fidelity(end_state_lind, ground_state))\n",
    "plt.semilogx(tau * np.arange(nsteps + 1), en_list, \".\", label=r\"$\\mathrm{tr}[\\rho(t) H]$\")\n",
    "plt.semilogx(tau * np.arange(nsteps + 1), (eigenvalues_sort[0]*np.ones(nsteps + 1)).real, label=r\"$\\lambda_0$\")\n",
    "plt.legend()\n",
    "plt.xlabel(\"time\")\n",
    "plt.ylabel(r\"$\\langle H \\rangle$\")\n",
    "plt.title(\"convergence to ground state\")\n",
    "plt.show()"
   ]
  },
  {
   "cell_type": "code",
   "execution_count": 15,
   "id": "7c7d87bb",
   "metadata": {},
   "outputs": [],
   "source": [
    "X = np.array([[ 0.,  1.], [ 1.,  0.]])\n",
    "Y = np.array([[ 0., -1j], [ 1j,  0.]])\n",
    "Z = np.array([[ 1.,  0.], [ 0., -1.]])\n",
    "I = np.identity(2)"
   ]
  },
  {
   "cell_type": "code",
   "execution_count": 16,
   "id": "dba16090",
   "metadata": {},
   "outputs": [],
   "source": [
    "H = (np.kron(X,X)+np.kron(Y,Y)+np.kron(Z,Z))\n",
    "eigenvalues, eigenvectors = LA.eig(H)"
   ]
  },
  {
   "cell_type": "code",
   "execution_count": 30,
   "id": "8fbdbecc",
   "metadata": {},
   "outputs": [
    {
     "name": "stdout",
     "output_type": "stream",
     "text": [
      "Resulting Unitary Matrix:\n",
      "[[ 5.8016989   1.06150761 -0.20586309  0.18277559]\n",
      " [ 1.09595363 -0.25664727 -0.17502814  0.42624933]\n",
      " [ 0.0146683  -0.15948303  3.74975681  1.32913944]\n",
      " [ 0.21726503  0.4099041   1.30456183 -0.50778221]]\n",
      "       message: Optimization terminated successfully.\n",
      "       success: True\n",
      "        status: 0\n",
      "           fun: 2.0211566311441795\n",
      "             x: [ 5.802e+00  1.062e+00 ...  1.305e+00 -5.078e-01]\n",
      "           nit: 1841\n",
      "          nfev: 2511\n",
      " final_simplex: (array([[ 5.802e+00,  1.062e+00, ...,  1.305e+00,\n",
      "                        -5.078e-01],\n",
      "                       [ 5.802e+00,  1.062e+00, ...,  1.305e+00,\n",
      "                        -5.078e-01],\n",
      "                       ...,\n",
      "                       [ 5.802e+00,  1.062e+00, ...,  1.305e+00,\n",
      "                        -5.078e-01],\n",
      "                       [ 5.802e+00,  1.062e+00, ...,  1.305e+00,\n",
      "                        -5.078e-01]]), array([ 2.021e+00,  2.021e+00, ...,  2.021e+00,  2.021e+00]))\n"
     ]
    }
   ],
   "source": [
    "import numpy as np\n",
    "from scipy.optimize import minimize\n",
    "\n",
    "II = np.kron(I, I)\n",
    "\n",
    "# Objective function to minimize\n",
    "def objective_function(U_flat):\n",
    "    U = U_flat.reshape((4,4))\n",
    "    expiU = (II + 1j*U) @ np.linalg.inv(II - 1j*U)\n",
    "    \n",
    "    result =  np.dot(expiU, H) + np.dot(H, expiU)\n",
    "    norm_squared = np.linalg.norm(result, ord=2)\n",
    "    return norm_squared\n",
    "\n",
    "# Initial guess for the flattened unitary matrix\n",
    "initial_guess = np.random.rand(16)\n",
    "#initial_guess = non_U.reshape(-1)\n",
    "\n",
    "# Minimization using SciPy's minimize function\n",
    "result = minimize(objective_function, initial_guess, \n",
    "                  #constraints={'type': 'eq', 'fun': unitarity_constraint}, \n",
    "                  method='Nelder-Mead'\n",
    "                 )\n",
    "\n",
    "# Reshape the result to obtain the unitary matrix\n",
    "U_result = result.x.reshape((4, 4))\n",
    "print(\"Resulting Unitary Matrix:\")\n",
    "print(U_result)\n",
    "print(result)"
   ]
  },
  {
   "cell_type": "code",
   "execution_count": null,
   "id": "6e9b3402",
   "metadata": {},
   "outputs": [],
   "source": []
  },
  {
   "cell_type": "code",
   "execution_count": null,
   "id": "e5b988d9",
   "metadata": {},
   "outputs": [],
   "source": []
  },
  {
   "cell_type": "code",
   "execution_count": null,
   "id": "dbaddde4",
   "metadata": {},
   "outputs": [],
   "source": []
  },
  {
   "cell_type": "code",
   "execution_count": 6,
   "id": "56b13cce",
   "metadata": {},
   "outputs": [],
   "source": [
    "non_U = np.array([[-0.00256061+0.j, -0.00526094+0.j, -0.00277467+0.j,\n",
    "        -0.00558033+0.j],\n",
    "       [-0.01015302+0.j, -0.0031426 +0.j, -0.01473822+0.j,\n",
    "        -0.00646528+0.j],\n",
    "       [-0.00966782+0.j, -0.01532094+0.j, -0.00208775+0.j,\n",
    "        -0.00487067+0.j],\n",
    "       [-0.01032205+0.j, -0.00573261+0.j, -0.00375217+0.j,\n",
    "        -0.00450941+0.j]])"
   ]
  }
 ],
 "metadata": {
  "kernelspec": {
   "display_name": "Python 3 (ipykernel)",
   "language": "python",
   "name": "python3"
  },
  "language_info": {
   "codemirror_mode": {
    "name": "ipython",
    "version": 3
   },
   "file_extension": ".py",
   "mimetype": "text/x-python",
   "name": "python",
   "nbconvert_exporter": "python",
   "pygments_lexer": "ipython3",
   "version": "3.10.13"
  }
 },
 "nbformat": 4,
 "nbformat_minor": 5
}
