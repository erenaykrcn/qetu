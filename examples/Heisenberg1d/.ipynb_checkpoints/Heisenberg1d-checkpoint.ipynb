{
 "cells": [
  {
   "cell_type": "code",
   "execution_count": 1,
   "id": "c2636af6",
   "metadata": {},
   "outputs": [
    {
     "name": "stderr",
     "output_type": "stream",
     "text": [
      "/Users/erenaykaracan/anaconda3/envs/qc/lib/python3.10/site-packages/numpy/linalg/linalg.py:2180: RuntimeWarning: divide by zero encountered in det\n",
      "  r = _umath_linalg.det(a, signature=signature)\n",
      "/Users/erenaykaracan/anaconda3/envs/qc/lib/python3.10/site-packages/numpy/linalg/linalg.py:2180: RuntimeWarning: invalid value encountered in det\n",
      "  r = _umath_linalg.det(a, signature=signature)\n"
     ]
    }
   ],
   "source": [
    "import qiskit\n",
    "\n",
    "import sys\n",
    "\n",
    "sys.path.append(\"../../src/groundstate_prep\")\n",
    "from ground_state_prep_qiskit import get_error_from_sv\n",
    "from fuzzy_bisection import fuzzy_bisection, fuzzy_bisection_noisy\n",
    "from ground_state_prep import prepare_ground_state\n",
    "from ground_state_prep_qiskit import qetu_rqc_oneLayer\n",
    "from utils_gsp import qc_QETU_cf_heis_R\n",
    "\n",
    "sys.path.append(\"../../src/lindbladian\")\n",
    "from lindbladian import circuit_implementation_lindbladian\n",
    "\n",
    "sys.path.append(\"../../src/qpe\")\n",
    "from utils_qpe import controlled_trotterized_time_evolution"
   ]
  },
  {
   "cell_type": "code",
   "execution_count": 2,
   "id": "8e23dc84",
   "metadata": {},
   "outputs": [
    {
     "name": "stdout",
     "output_type": "stream",
     "text": [
      "Ground State Energy -6.744562646538037\n",
      "a_max (0.9424503231290737-0j)\n",
      "a_premax (0.8090164065892911-0j)\n",
      "c1:  0.2094381769059862\n",
      "c2:  2.0943917690598624\n",
      "[0.94245032-0.00000000e+00j 0.80901641-0.00000000e+00j\n",
      " 0.80901641-0.00000000e+00j 0.66913085-0.00000000e+00j\n",
      " 0.50000144-0.00000000e+00j 0.50000144-1.46430026e-17j\n",
      " 0.50000144+1.46430026e-17j 0.50000144-0.00000000e+00j\n",
      " 0.50000144-0.00000000e+00j 0.50000144-0.00000000e+00j\n",
      " 0.50000144-0.00000000e+00j 0.30901985-0.00000000e+00j\n",
      " 0.30901985-0.00000000e+00j 0.10453277-0.00000000e+00j\n",
      " 0.10453277-0.00000000e+00j 0.02675098-0.00000000e+00j]\n"
     ]
    }
   ],
   "source": [
    "# Hamiltonian.\n",
    "\n",
    "import numpy as np\n",
    "from numpy import linalg as LA\n",
    "import qib\n",
    "import matplotlib.pyplot as plt\n",
    "\n",
    "# Parameters for the Ising Hamiltonian\n",
    "# L has to be even! Due to K only being able to control even Ls!\n",
    "\n",
    "# side length of lattice\n",
    "L = 4\n",
    "# Hamiltonian parameters\n",
    "J = (1,.5,1)\n",
    "h = (0, 0, 0)\n",
    "\n",
    "# construct Hamiltonian\n",
    "latt = qib.lattice.IntegerLattice((L,), pbc=True)\n",
    "field = qib.field.Field(qib.field.ParticleType.QUBIT, latt)\n",
    "hamil = qib.HeisenbergHamiltonian(field, J, h).as_matrix().toarray()\n",
    "\n",
    "eigenvalues, eigenvectors = LA.eig(hamil)\n",
    "idx = eigenvalues.argsort()\n",
    "eigenvalues_sort = eigenvalues[idx]\n",
    "eigenvectors_sort = eigenvectors[:,idx]\n",
    "ground_state = eigenvectors_sort[:, 0]\n",
    "print(\"Ground State Energy\", eigenvalues_sort[0].real)\n",
    "\n",
    "dist = 1e-5\n",
    "max_spectrum_length = 15\n",
    "ground_energy_lower_bound = -10\n",
    "c1 = (np.pi-2*dist) / (max_spectrum_length)\n",
    "c2 = dist - c1 * ground_energy_lower_bound\n",
    "\n",
    "eigenvalues_tr = eigenvalues_sort * c1 + c2\n",
    "a_values = np.array([np.cos(eig/2) for eig in eigenvalues_tr])\n",
    "\n",
    "print(\"a_max\", a_values[0])\n",
    "print(\"a_premax\", a_values[1])\n",
    "print(\"c1: \", c1)\n",
    "print(\"c2: \", c2)\n",
    "\n",
    "print(a_values)"
   ]
  },
  {
   "cell_type": "code",
   "execution_count": 3,
   "id": "f7b8d464",
   "metadata": {},
   "outputs": [
    {
     "name": "stdout",
     "output_type": "stream",
     "text": [
      "Time evolution encoding, absolute error:  0.0317769015827838\n"
     ]
    }
   ],
   "source": [
    "from qiskit import Aer, execute, transpile\n",
    "import rqcopt as oc\n",
    "import scipy\n",
    "\n",
    "def construct_heisenberg_local_term(J, h):\n",
    "    X = np.array([[ 0.,  1.], [ 1.,  0.]])\n",
    "    Y = np.array([[ 0., -1j], [ 1j,  0.]])\n",
    "    Z = np.array([[ 1.,  0.], [ 0., -1.]])\n",
    "    I = np.identity(2)\n",
    "    \n",
    "    hloc = (J[0]*np.kron(X, X) + \n",
    "            J[1]*np.kron(Y, Y) + \n",
    "            J[2]*np.kron(Z, Z) + \n",
    "            h*0.5*(np.kron(X, I) + np.kron(I, X))\n",
    "           ) \n",
    "    return hloc\n",
    "\n",
    "def trotterized_time_evolution(qc, coeffs, hloc, dt, L):\n",
    "    Vlist = [scipy.linalg.expm(-1j*c*dt*hloc) for c in coeffs]\n",
    "    Vlist_gates = []\n",
    "    for V in Vlist:\n",
    "        qc2 = qiskit.QuantumCircuit(2)\n",
    "        qc2.unitary(V, [0, 1], label='str')\n",
    "        Vlist_gates.append(qc2)\n",
    "    perms = [None if i % 2 == 0 else np.roll(range(L), -1) for i in range(len(coeffs))]\n",
    "    for layer, qc_gate in enumerate(Vlist_gates):\n",
    "        for j in range(L//2):\n",
    "            if perms[layer] is not None:\n",
    "                qc.append(qc_gate.to_gate(), [L-(perms[layer][2*j]+1), L-(perms[layer][2*j+1]+1)])\n",
    "            else:\n",
    "                qc.append(qc_gate.to_gate(), [L-(2*j+1), L-(2*j+2)])\n",
    "\n",
    "def qc_heisenberg_U(J1, J2, J3, c1, c2, nsteps, coeffs):\n",
    "    t = c1/2\n",
    "    dt = t / nsteps\n",
    "    hloc1 = construct_heisenberg_local_term((J1, J2, 0), 0)\n",
    "    hloc2 = construct_heisenberg_local_term((0, 0, J3), 0)\n",
    "    qc_cU_ins = qiskit.QuantumCircuit(L)\n",
    "    \n",
    "    for i in range(nsteps):\n",
    "        trotterized_time_evolution(qc_cU_ins, coeffs, hloc1, dt, L)\n",
    "        trotterized_time_evolution(qc_cU_ins, coeffs, hloc2, dt, L)\n",
    "\n",
    "    qc_cU_ins.p(-c2, 0)\n",
    "    qc_cU_ins.x(0)\n",
    "    qc_cU_ins.p(-c2, 0)\n",
    "    qc_cU_ins.x(0)\n",
    "    return qc_cU_ins\n",
    "\n",
    "nsteps = 3\n",
    "coeffs_blan = oc.SplittingMethod.blanes_moan().coeffs\n",
    "qc_U_ins = qc_heisenberg_U(J[0], J[1], J[2], c1, c2, nsteps, coeffs_blan)\n",
    "\n",
    "backend = Aer.get_backend(\"unitary_simulator\")\n",
    "qc_U_unit = execute(transpile(qc_U_ins), backend).result().get_unitary(qc_U_ins, L).data\n",
    "U = scipy.linalg.expm(-1j*(c1/2*hamil + c2*np.identity(2**L)))\n",
    "\n",
    "print(\"Time evolution encoding, absolute error: \", np.linalg.norm(U-qc_U_unit, ord=2))"
   ]
  },
  {
   "cell_type": "code",
   "execution_count": 4,
   "id": "d89c3a48",
   "metadata": {},
   "outputs": [],
   "source": [
    "def qc_heisenberg_cf_U(J1, J2, J3, c1, c2, nsteps, coeffs, dagger):\n",
    "    t = c1/2\n",
    "    dt = t / nsteps\n",
    "    hloc1 = construct_heisenberg_local_term((J1, J2, 0), 0)\n",
    "    hloc2 = construct_heisenberg_local_term((0, 0, J3), 0)\n",
    "    qc_cU_ins = qiskit.QuantumCircuit(L+1)\n",
    "    \n",
    "    #H1=qib.HeisenbergHamiltonian(field, (J[0],J[1],0), (0,0,0)).as_matrix().toarray()\n",
    "    #H2=qib.HeisenbergHamiltonian(field, (0, 0, J[2]), (0,0,0)).as_matrix().toarray()\n",
    "    \n",
    "    if dagger:\n",
    "            qc_cU_ins.x(L)\n",
    "    for i in range(nsteps):\n",
    "        #controlled-hamil1\n",
    "        qc_cU_ins.x(L)\n",
    "        for j in range(L-1, -1, -1):\n",
    "            if j % 2 == 1:\n",
    "                qc_cU_ins.cz(L, j)\n",
    "        qc_cU_ins.x(L)\n",
    "        trotterized_time_evolution(qc_cU_ins, coeffs, hloc1, dt, L)\n",
    "        #qc_cU_ins.unitary(scipy.linalg.expm(-1j*dt*H1), [l for l in range(L-1, -1, -1)])\n",
    "        qc_cU_ins.x(L)\n",
    "        for j in range(L-1, -1, -1):\n",
    "            if j % 2 == 1:\n",
    "                qc_cU_ins.cz(L, j)\n",
    "        qc_cU_ins.x(L)\n",
    "\n",
    "        #controlled-hamil2\n",
    "        qc_cU_ins.x(L)\n",
    "        for j in range(L-1, -1, -1):\n",
    "            if j % 2 == 1:\n",
    "                qc_cU_ins.cx(L, j)\n",
    "        qc_cU_ins.x(L)\n",
    "        trotterized_time_evolution(qc_cU_ins, coeffs, hloc2, dt, L)\n",
    "        #qc_cU_ins.unitary(scipy.linalg.expm(-1j*dt*H2), [l for l in range(L-1, -1, -1)])\n",
    "        qc_cU_ins.x(L)\n",
    "        for j in range(L-1, -1, -1):\n",
    "            if j % 2 == 1:\n",
    "                qc_cU_ins.cx(L, j)\n",
    "        qc_cU_ins.x(L)\n",
    "\n",
    "    qc_cU_ins.cp(-c2, L,  0)\n",
    "    qc_cU_ins.x(0)\n",
    "    qc_cU_ins.cp(-c2, L, 0)\n",
    "    qc_cU_ins.x(0)\n",
    "    \n",
    "    if dagger:\n",
    "        qc_cU_ins.x(L)\n",
    "    return qc_cU_ins\n",
    "    \n",
    "nsteps = 3\n",
    "coeffs_blan = oc.SplittingMethod.blanes_moan().coeffs\n",
    "qc_cU_ins = qc_heisenberg_cf_U(J[0], J[1], J[2], c1, c2, nsteps, coeffs_blan, False)\n",
    "qc_cU_conj_ins = qc_heisenberg_cf_U(J[0], J[1], J[2], c1, c2, nsteps, coeffs_blan, True)"
   ]
  },
  {
   "cell_type": "code",
   "execution_count": 5,
   "id": "9fa0ce8f",
   "metadata": {},
   "outputs": [
    {
     "name": "stdout",
     "output_type": "stream",
     "text": [
      "dt:  1.0\n",
      "Running decomposition of two-qubit gates of the RQC Circuit...\n",
      "F(a_max)^2:  (0.9004707807697423+0j)\n",
      "F(a_premax)^2:  (0.0010397328884593077+0j)\n",
      "QETU Error:  1.999436450847001\n"
     ]
    }
   ],
   "source": [
    "mu, d, c, phis_max_iter, = (0.9, 30, 0.95, 10)\n",
    "\n",
    "qc_qetu, phis_0, qetu_mat = qetu_rqc_oneLayer(\n",
    "                                    L, 0, 0, 1, mu,\n",
    "                                    a_values, d=d, c=c, c2=0,\n",
    "                                    max_iter_for_phis=phis_max_iter,\n",
    "                                    split_U=1,\n",
    "                                    steep=1e-6,\n",
    "                                    #qc_U_custom=(qc_U_ins0, qc_U_ins1),\n",
    "                                    #custom_qc_QETU_cf_R=qc_QETU_cf_heis_R,\n",
    "                                    qc_cU_custom=(qc_cU_ins, qc_cU_conj_ins),\n",
    "                                    H1=qib.HeisenbergHamiltonian(field, (J[0],J[1],J[2]), (0,0,0)).as_matrix().toarray(),\n",
    "                                    H2=qib.HeisenbergHamiltonian(field, (0, 0, J[2]), (0,0,0)).as_matrix().toarray(),\n",
    "                                    heis_c2=c2\n",
    ")"
   ]
  },
  {
   "cell_type": "code",
   "execution_count": 6,
   "id": "8eb1f339",
   "metadata": {
    "scrolled": false
   },
   "outputs": [
    {
     "name": "stdout",
     "output_type": "stream",
     "text": [
      "Absolute Error for the Eigenvalue:  10.74544259234537\n",
      "State fidelity to the ground state:  0.0025496962507923146\n"
     ]
    },
    {
     "data": {
      "image/png": "[encoded data removed]",
      "text/plain": [
       "<Figure size 640x480 with 1 Axes>"
      ]
     },
     "metadata": {},
     "output_type": "display_data"
    }
   ],
   "source": [
    "from qiskit.quantum_info import state_fidelity\n",
    "from utils_lind import crandn\n",
    "\n",
    "tau, nsteps = (10, 50)\n",
    "\n",
    "A = np.array([[ 0.76357818+0.j        , -0.16549788-0.04454574j],\n",
    "       [-0.16549788+0.04454574j,  0.39132369+0.j        ]])\n",
    "\n",
    "end_state_lind, en_list, err = circuit_implementation_lindbladian(hamil, L, \n",
    "                                                                  tau=tau, nsteps=nsteps,\n",
    "                                                                  A=A\n",
    "                                                                 )\n",
    "\n",
    "print(\"Absolute Error for the Eigenvalue: \", err)\n",
    "print(\"State fidelity to the ground state: \", state_fidelity(end_state_lind, ground_state))\n",
    "plt.semilogx(tau * np.arange(nsteps + 1), en_list, \".\", label=r\"$\\mathrm{tr}[\\rho(t) H]$\")\n",
    "plt.semilogx(tau * np.arange(nsteps + 1), (eigenvalues_sort[0]*np.ones(nsteps + 1)).real, label=r\"$\\lambda_0$\")\n",
    "plt.legend()\n",
    "plt.xlabel(\"time\")\n",
    "plt.ylabel(r\"$\\langle H \\rangle$\")\n",
    "plt.title(\"convergence to ground state\")\n",
    "plt.show()"
   ]
  },
  {
   "cell_type": "code",
   "execution_count": 47,
   "id": "78ecf88f",
   "metadata": {
    "scrolled": true
   },
   "outputs": [
    {
     "name": "stdout",
     "output_type": "stream",
     "text": [
      "state_fidelity: 0.2925386259533678\n",
      "state_fidelity: 0.9519373495119958\n",
      "state_fidelity: 0.9960685309289028\n"
     ]
    }
   ],
   "source": [
    "# Firstly, we get a rough estimate of the eigenvalue through the expectation value measurement.\n",
    "from qiskit import transpile, execute, Aer\n",
    "from qiskit.circuit.library import StatePreparation\n",
    "from qiskit.quantum_info import state_fidelity\n",
    "\n",
    "ground_state = eigenvectors_sort[:, 0]\n",
    "\n",
    "backend = Aer.get_backend(\"statevector_simulator\")\n",
    "qc_RQC = qiskit.QuantumCircuit(L+1, L+1)\n",
    "\n",
    "qc_RQC.initialize(np.kron(np.array([1,0]), end_state_lind))\n",
    "for i in range(3):\n",
    "    qc_RQC.append(qc_qetu.to_gate(), [i for i in range(L+1)])\n",
    "    bR = execute(transpile(qc_RQC), backend).result().get_statevector().data\n",
    "    aR = np.kron(np.array([[1,0],[0,0]]), np.identity(2**L)) @ bR\n",
    "    aR = aR / np.linalg.norm(aR)\n",
    "    qc_RQC.reset([i for i in range(L+1)])\n",
    "    qc_RQC.initialize(aR)\n",
    "    print(\"state_fidelity:\", state_fidelity(aR[:2**L], ground_state))"
   ]
  },
  {
   "cell_type": "code",
   "execution_count": 48,
   "id": "01ef3eb3",
   "metadata": {},
   "outputs": [
    {
     "data": {
      "text/plain": [
       "<qiskit.circuit.instructionset.InstructionSet at 0x2b4718850>"
      ]
     },
     "execution_count": 48,
     "metadata": {},
     "output_type": "execute_result"
    }
   ],
   "source": [
    "def Pr_counts(counts, j, zj, *zjplus1):\n",
    "    # Helper Function to retrieve the probability of measuring the qubit number j (and optionally j+1)\n",
    "    prob = 0\n",
    "    nshots = 0\n",
    "    for key, value in counts.items():\n",
    "        nshots += value\n",
    "    \n",
    "    for bitstring, count in counts.items():\n",
    "        bitstring = bitstring[::-1]\n",
    "        bitstring = bitstring[:-1]\n",
    "        \n",
    "        L = len(bitstring)\n",
    "        \n",
    "        if not zjplus1:\n",
    "            if bitstring[j] == str(zj):\n",
    "                prob += count/nshots\n",
    "        else:\n",
    "            if j == L-1:\n",
    "                if bitstring[j] == str(zj) and bitstring[0] == str(zjplus1[0]):\n",
    "                    prob += count/nshots\n",
    "            else:\n",
    "                if bitstring[j] == str(zj) and bitstring[j+1] == str(zjplus1[0]):\n",
    "                    prob += count/nshots\n",
    "    return prob\n",
    "\n",
    "def estimate_eigenvalue_counts2(counts, L):\n",
    "    E = 0\n",
    "    # For consistency with qib, upper range has to be L!\n",
    "    for j in range(L):\n",
    "        for zj in range(2):\n",
    "            for zjplus1 in range(2):\n",
    "                E = E + (((-1)**(zj + zjplus1)) * Pr_counts(counts, j, zj, zjplus1))\n",
    "    return E\n",
    "\n",
    "def estimate_eigenvalue_counts1(counts, L):\n",
    "    E = 0\n",
    "    for j in range(L):\n",
    "        for zj in range(2):\n",
    "            E = E + (((-1)**zj) * Pr_counts(counts, j, zj))\n",
    "    return E\n",
    "\n",
    "qc_Z = qc_RQC.copy()\n",
    "qc_X = qc_Z.copy()\n",
    "qc_X.h([i for i in range(L)])\n",
    "qc_Y = qc_Z.copy()\n",
    "qc_Y.p(-np.pi/2, [i for i in range(L)])\n",
    "qc_Y.h([i for i in range(L)])\n",
    "\n",
    "qc_X.measure([i for i in range(L+1)], [i for i in range(L+1)])\n",
    "qc_Y.measure([i for i in range(L+1)], [i for i in range(L+1)])\n",
    "qc_Z.measure([i for i in range(L+1)], [i for i in range(L+1)])"
   ]
  },
  {
   "cell_type": "code",
   "execution_count": 49,
   "id": "c725b027",
   "metadata": {},
   "outputs": [
    {
     "name": "stdout",
     "output_type": "stream",
     "text": [
      "NoiseModel:\n",
      "  Basis gates: ['cx', 'cy', 'cz', 'id', 'rz', 'sx', 'u1', 'u2', 'u3']\n",
      "  Instructions with noise: ['cy', 'cz', 'u2', 'u1', 'u3', 'cx']\n",
      "  All-qubits errors: ['u1', 'u2', 'u3', 'cx', 'cy', 'cz']\n",
      "getting counts\n",
      "gotten counts\n"
     ]
    },
    {
     "data": {
      "text/plain": [
       "0.36476264653803536"
      ]
     },
     "execution_count": 49,
     "metadata": {},
     "output_type": "execute_result"
    }
   ],
   "source": [
    "from qiskit import Aer\n",
    "from qiskit.providers.aer.noise import NoiseModel, errors\n",
    "\n",
    "depolarizing_error = 1e-3\n",
    "x1_error = errors.depolarizing_error(depolarizing_error*0.1, 1)\n",
    "x2_error = errors.depolarizing_error(depolarizing_error, 2)\n",
    "#x3_error = errors.depolarizing_error(10*depolarizing_error, 3)\n",
    "noise_model = NoiseModel()\n",
    "noise_model.add_all_qubit_quantum_error(x1_error, ['u1', 'u2', 'u3'])\n",
    "noise_model.add_all_qubit_quantum_error(x2_error, ['cx', 'cy', 'cz'])\n",
    "#noise_model.add_all_qubit_quantum_error(x3_error, ['ccx', 'ccy', 'ccz'])\n",
    "print(noise_model)\n",
    "\n",
    "nshots = 1e4\n",
    "backend = Aer.get_backend(\"aer_simulator\")\n",
    "print(\"getting counts\")\n",
    "counts_dict1 = execute(transpile(qc_X), backend, noise_model=noise_model, basis_gates=noise_model.basis_gates,  shots=nshots).result().get_counts()\n",
    "counts_dict2 = execute(transpile(qc_Y), backend, noise_model=noise_model, basis_gates=noise_model.basis_gates,  shots=nshots).result().get_counts()\n",
    "counts_dict3 = execute(transpile(qc_Z), backend, noise_model=noise_model, basis_gates=noise_model.basis_gates,  shots=nshots).result().get_counts()    \n",
    "print(\"gotten counts\")\n",
    "        \n",
    "E_np = J[0] * estimate_eigenvalue_counts2(counts_dict1, L) +  J[1]*estimate_eigenvalue_counts2(counts_dict2, L) + J[2]*estimate_eigenvalue_counts2(counts_dict3, L) \n",
    "np.abs(E_np - eigenvalues_sort[0])"
   ]
  },
  {
   "cell_type": "code",
   "execution_count": 50,
   "id": "8c61d562",
   "metadata": {},
   "outputs": [
    {
     "data": {
      "text/plain": [
       "29653"
      ]
     },
     "execution_count": 50,
     "metadata": {},
     "output_type": "execute_result"
    }
   ],
   "source": [
    "# Number of layers in the ground state preparation circuit\n",
    "\n",
    "transpile(qc_X, basis_gates=noise_model.basis_gates).depth()"
   ]
  },
  {
   "cell_type": "code",
   "execution_count": 28,
   "id": "bdd657dc",
   "metadata": {},
   "outputs": [
    {
     "data": {
      "text/plain": [
       "-6.4434000000000005"
      ]
     },
     "execution_count": 28,
     "metadata": {},
     "output_type": "execute_result"
    }
   ],
   "source": [
    "# Expectation Value measurement delivers us:\n",
    "\n",
    "E_np"
   ]
  },
  {
   "cell_type": "code",
   "execution_count": 62,
   "id": "950e8195",
   "metadata": {},
   "outputs": [
    {
     "name": "stdout",
     "output_type": "stream",
     "text": [
      "Target Absolute Error:  (0.031695232781898675+0j)\n",
      "Target Estimate:  -6.712867413756138\n",
      "Exact a:  (0.920577385177078-0j)\n"
     ]
    }
   ],
   "source": [
    "# Expectation Value measurement falls off, hence we start with a large d=0\n",
    "d = 0\n",
    "\n",
    "dist = 1e-10\n",
    "max_spectrum_length = 10**(d)\n",
    "\n",
    "# Initial search starts with a larger margin, hence multiplication with 2!\n",
    "# Estimation -6 is acquired through expectation value measurement!\n",
    "ground_energy_lower_bound = -6 - max_spectrum_length\n",
    "c1 = (np.pi-2*dist) / (max_spectrum_length)\n",
    "c2 = dist - c1 * ground_energy_lower_bound\n",
    "eigenvalues_tr = eigenvalues_sort * c1 + c2\n",
    "a_values = np.array([np.cos(eig/2) for eig in eigenvalues_tr])\n",
    "\n",
    "a_est = 0.9\n",
    "est_eig = 2*np.arccos(a_est)\n",
    "print(\"Target Absolute Error: \", (est_eig - c2)/c1 - eigenvalues_sort[0])\n",
    "print(\"Target Estimate: \", (est_eig - c2)/c1)\n",
    "print(\"Exact a: \", a_values[0])"
   ]
  },
  {
   "cell_type": "code",
   "execution_count": 55,
   "id": "cdac0243",
   "metadata": {
    "scrolled": false
   },
   "outputs": [
    {
     "name": "stdout",
     "output_type": "stream",
     "text": [
      "Time evolution encoding, absolute error:  0.3631688694907694\n",
      "------------------\n",
      "x: 0.5\n",
      "d:  34\n",
      "left:  0\n",
      "right:  1\n",
      "dt:  1.0\n",
      "Running decomposition of two-qubit gates of the RQC Circuit...\n",
      "F(a_max)^2:  (0.8845685278786686+0j)\n",
      "F(a_premax)^2:  (0.00011586877341690724+0j)\n",
      "state_fidelity: 0.9960685309289026\n",
      "NoiseModel:\n",
      "  Basis gates: ['cu', 'cx', 'cy', 'cz', 'id', 'rz', 'sx', 'u1', 'u2', 'u3']\n",
      "  Instructions with noise: ['cy', 'cu', 'u2', 'cx', 'cz', 'rz', 'sx', 'u3', 'u1']\n",
      "  All-qubits errors: ['u1', 'u2', 'u3', 'rz', 'sx', 'cu', 'cx', 'cy', 'cz']\n",
      "Success Prob:  0.64\n",
      "------------------\n",
      "x: 0.745\n",
      "d:  34\n",
      "left:  0.49\n",
      "right:  1\n",
      "dt:  1.0\n",
      "Running decomposition of two-qubit gates of the RQC Circuit...\n",
      "F(a_max)^2:  (0.8661428713117583+0j)\n",
      "F(a_premax)^2:  (0.00010000000000000129+0j)\n",
      "state_fidelity: 0.9960685309289024\n",
      "NoiseModel:\n",
      "  Basis gates: ['cu', 'cx', 'cy', 'cz', 'id', 'rz', 'sx', 'u1', 'u2', 'u3']\n",
      "  Instructions with noise: ['cy', 'cu', 'u2', 'cx', 'cz', 'rz', 'sx', 'u3', 'u1']\n",
      "  All-qubits errors: ['u1', 'u2', 'u3', 'rz', 'sx', 'cu', 'cx', 'cy', 'cz']\n",
      "Success Prob:  0.66\n",
      "------------------\n",
      "x: 0.8674999999999999\n",
      "d:  34\n",
      "left:  0.735\n",
      "right:  1\n",
      "dt:  1.0\n",
      "Running decomposition of two-qubit gates of the RQC Circuit...\n",
      "F(a_max)^2:  (0.8824909455073822+0j)\n",
      "F(a_premax)^2:  (0.00010000000000000018+0j)\n",
      "state_fidelity: 0.996068530928903\n",
      "NoiseModel:\n",
      "  Basis gates: ['cu', 'cx', 'cy', 'cz', 'id', 'rz', 'sx', 'u1', 'u2', 'u3']\n",
      "  Instructions with noise: ['cy', 'cu', 'u2', 'cx', 'cz', 'rz', 'sx', 'u3', 'u1']\n",
      "  All-qubits errors: ['u1', 'u2', 'u3', 'rz', 'sx', 'cu', 'cx', 'cy', 'cz']\n",
      "Success Prob:  0.42\n",
      "Not steep enough! Search ended!\n"
     ]
    }
   ],
   "source": [
    "nsteps = 10\n",
    "coeffs_blan = oc.SplittingMethod.blanes_moan().coeffs\n",
    "qc_cU_ins = qc_heisenberg_cf_U(J[0], J[1], J[2], c1, c2, nsteps, coeffs_blan, False)\n",
    "qc_cU_conj_ins = qc_heisenberg_cf_U(J[0], J[1], J[2], c1, c2, nsteps, coeffs_blan, True)\n",
    "\n",
    "qc_U_ins = qc_heisenberg_U(J[0], J[1], J[2], c1, c2, nsteps, coeffs_blan)\n",
    "backend = Aer.get_backend(\"unitary_simulator\")\n",
    "qc_U_unit = execute(transpile(qc_U_ins), backend).result().get_unitary(qc_U_ins, L).data\n",
    "U = scipy.linalg.expm(-1j*(c1/2*hamil + c2*np.identity(2**L)))\n",
    "print(\"Time evolution encoding, absolute error: \", np.linalg.norm(U-qc_U_unit, ord=2))\n",
    "\n",
    "\n",
    "a_est = fuzzy_bisection_noisy(qc_qetu, L, 0, 0,\n",
    "                              0, 1, 34, 1e-3, 0, 2, 0, a_values, \n",
    "                              1e-5, nshots=1e2, qetu_layers=3,\n",
    "                              ground_state=eigenvectors_sort[:, 0],\n",
    "                              qetu_initial_state=np.kron(np.array([1,0]), end_state_lind),\n",
    "                              qc_cU_custom=(qc_cU_ins, qc_cU_conj_ins), split_U=1,\n",
    "                             )"
   ]
  },
  {
   "cell_type": "code",
   "execution_count": 64,
   "id": "b4d3de03",
   "metadata": {},
   "outputs": [
    {
     "name": "stdout",
     "output_type": "stream",
     "text": [
      "Time evolution encoding, absolute error:  0.3631688694907694\n",
      "------------------\n",
      "x: 0.5\n",
      "d:  34\n",
      "left:  0\n",
      "right:  1\n",
      "dt:  1.0\n",
      "Running decomposition of two-qubit gates of the RQC Circuit...\n",
      "F(a_max)^2:  (0.8845685278786686+0j)\n",
      "F(a_premax)^2:  (0.00011586877341690724+0j)\n",
      "state_fidelity: 0.996068530928903\n",
      "NoiseModel:\n",
      "  Basis gates: ['cu', 'cx', 'cy', 'cz', 'id', 'rz', 'sx', 'u1', 'u2', 'u3']\n",
      "  Instructions with noise: ['cy', 'cu', 'u2', 'cx', 'cz', 'rz', 'sx', 'u3', 'u1']\n",
      "  All-qubits errors: ['u1', 'u2', 'u3', 'rz', 'sx', 'cu', 'cx', 'cy', 'cz']\n",
      "Success Prob:  0.49645\n",
      "Not steep enough! Search ended!\n"
     ]
    }
   ],
   "source": [
    "nsteps = 10\n",
    "coeffs_blan = oc.SplittingMethod.blanes_moan().coeffs\n",
    "qc_cU_ins = qc_heisenberg_cf_U(J[0], J[1], J[2], c1, c2, nsteps, coeffs_blan, False)\n",
    "qc_cU_conj_ins = qc_heisenberg_cf_U(J[0], J[1], J[2], c1, c2, nsteps, coeffs_blan, True)\n",
    "\n",
    "qc_U_ins = qc_heisenberg_U(J[0], J[1], J[2], c1, c2, nsteps, coeffs_blan)\n",
    "backend = Aer.get_backend(\"unitary_simulator\")\n",
    "qc_U_unit = execute(transpile(qc_U_ins), backend).result().get_unitary(qc_U_ins, L).data\n",
    "U = scipy.linalg.expm(-1j*(c1/2*hamil + c2*np.identity(2**L)))\n",
    "print(\"Time evolution encoding, absolute error: \", np.linalg.norm(U-qc_U_unit, ord=2))\n",
    "\n",
    "a_est = fuzzy_bisection_noisy(qc_qetu, L, 0, 0,\n",
    "                              0, 1, 34, 1e-3, 0, 2, 0, a_values, \n",
    "                              1e-4, nshots=1e2, qetu_layers=3,\n",
    "                              ground_state=eigenvectors_sort[:, 0],\n",
    "                              qetu_initial_state=np.kron(np.array([1,0]), end_state_lind),\n",
    "                              qc_cU_custom=(qc_cU_ins, qc_cU_conj_ins), split_U=1,\n",
    "                             )"
   ]
  },
  {
   "cell_type": "code",
   "execution_count": 56,
   "id": "3202068b",
   "metadata": {},
   "outputs": [
    {
     "name": "stdout",
     "output_type": "stream",
     "text": [
      "Absolute Error:  (0.07601364292727197+0j)\n",
      "Estimated Eigenvalue:  -6.668549003610765\n"
     ]
    }
   ],
   "source": [
    "a_est =  0.8674999999999999\n",
    "est_eig = 2*np.arccos(a_est)\n",
    "print(\"Absolute Error: \", (est_eig - c2)/c1 - eigenvalues_sort[0])\n",
    "print(\"Estimated Eigenvalue: \", (est_eig - c2)/c1)"
   ]
  },
  {
   "cell_type": "code",
   "execution_count": 7,
   "id": "313f6441",
   "metadata": {},
   "outputs": [
    {
     "name": "stdout",
     "output_type": "stream",
     "text": [
      "Target Absolute Error:  (0.0035960935987855436+0j)\n",
      "Target Estimate:  -6.740966552939251\n",
      "Exact a:  (0.6442088264575795-0j)\n"
     ]
    }
   ],
   "source": [
    "# Expectation Value measurement falls off, hence we start with a large d=0\n",
    "d = -1\n",
    "\n",
    "dist = 1e-10\n",
    "max_spectrum_length = 10**(d)\n",
    "\n",
    "# Initial search starts with a larger margin, hence multiplication with 2!\n",
    "# Estimation -6 is acquired through expectation value measurement!\n",
    "ground_energy_lower_bound = -6.7 - max_spectrum_length\n",
    "c1 = (np.pi-2*dist) / (max_spectrum_length)\n",
    "c2 = dist - c1 * ground_energy_lower_bound\n",
    "eigenvalues_tr = eigenvalues_sort * c1 + c2\n",
    "a_values = np.array([np.cos(eig/2) for eig in eigenvalues_tr])\n",
    "\n",
    "a_est = 0.6\n",
    "est_eig = 2*np.arccos(a_est)\n",
    "print(\"Target Absolute Error: \", (est_eig - c2)/c1 - eigenvalues_sort[0])\n",
    "print(\"Target Estimate: \", (est_eig - c2)/c1)\n",
    "print(\"Exact a: \", a_values[0])"
   ]
  },
  {
   "cell_type": "code",
   "execution_count": 9,
   "id": "f207db52",
   "metadata": {},
   "outputs": [
    {
     "name": "stdout",
     "output_type": "stream",
     "text": [
      "Time evolution encoding, absolute error:  0.2732837743513061\n",
      "------------------\n",
      "x: 0.5\n",
      "d:  34\n",
      "left:  0\n",
      "right:  1\n",
      "dt:  1.0\n",
      "Running decomposition of two-qubit gates of the RQC Circuit...\n",
      "F(a_max)^2:  (0.7758822258628864+0j)\n",
      "F(a_premax)^2:  (0.8836013189975267+0j)\n",
      "state_fidelity: 0.9819091594954804\n",
      "NoiseModel:\n",
      "  Basis gates: ['cu', 'cx', 'cy', 'cz', 'id', 'rz', 'sx', 'u1', 'u2', 'u3']\n",
      "  Instructions with noise: ['u1', 'u2', 'cu', 'u3', 'rz', 'cz', 'sx', 'cx', 'cy']\n",
      "  All-qubits errors: ['u1', 'u2', 'u3', 'rz', 'sx', 'cu', 'cx', 'cy', 'cz']\n",
      "Success Prob:  0.48\n",
      "Not steep enough! Search ended!\n"
     ]
    }
   ],
   "source": [
    "nsteps = 200\n",
    "coeffs_blan = oc.SplittingMethod.blanes_moan().coeffs\n",
    "qc_cU_ins = qc_heisenberg_cf_U(J[0], J[1], J[2], c1, c2, nsteps, coeffs_blan, False)\n",
    "qc_cU_conj_ins = qc_heisenberg_cf_U(J[0], J[1], J[2], c1, c2, nsteps, coeffs_blan, True)\n",
    "\n",
    "qc_U_ins = qc_heisenberg_U(J[0], J[1], J[2], c1, c2, nsteps, coeffs_blan)\n",
    "backend = Aer.get_backend(\"unitary_simulator\")\n",
    "qc_U_unit = execute(transpile(qc_U_ins), backend).result().get_unitary(qc_U_ins, L).data\n",
    "U = scipy.linalg.expm(-1j*(c1/2*hamil + c2*np.identity(2**L)))\n",
    "print(\"Time evolution encoding, absolute error: \", np.linalg.norm(U-qc_U_unit, ord=2))\n",
    "\n",
    "\n",
    "a_est = fuzzy_bisection_noisy(qc_qetu, L, 0, 0,\n",
    "                              0, 1, 34, 1e-3, 0, 2, 0, a_values, \n",
    "                              1e-5, nshots=1e2, qetu_layers=3,\n",
    "                              ground_state=eigenvectors_sort[:, 0],\n",
    "                              qetu_initial_state=np.kron(np.array([1,0]), end_state_lind),\n",
    "                              qc_cU_custom=(qc_cU_ins, qc_cU_conj_ins), split_U=1,\n",
    "                             )"
   ]
  },
  {
   "cell_type": "code",
   "execution_count": null,
   "id": "89a52cec",
   "metadata": {},
   "outputs": [],
   "source": [
    "# We cannot get anything sensible from the above search but we showed that the lower bound \n",
    "# for L=4 is 1e-2 abs error for 1e-5 depolar. prob."
   ]
  },
  {
   "cell_type": "code",
   "execution_count": null,
   "id": "eccc4ac2",
   "metadata": {},
   "outputs": [],
   "source": []
  },
  {
   "cell_type": "code",
   "execution_count": null,
   "id": "75b96979",
   "metadata": {},
   "outputs": [],
   "source": []
  },
  {
   "cell_type": "code",
   "execution_count": null,
   "id": "36e3c583",
   "metadata": {},
   "outputs": [],
   "source": []
  },
  {
   "cell_type": "code",
   "execution_count": null,
   "id": "e7399351",
   "metadata": {},
   "outputs": [],
   "source": []
  },
  {
   "cell_type": "code",
   "execution_count": null,
   "id": "ce524fcc",
   "metadata": {},
   "outputs": [],
   "source": []
  },
  {
   "cell_type": "code",
   "execution_count": null,
   "id": "b987eb35",
   "metadata": {},
   "outputs": [],
   "source": []
  },
  {
   "cell_type": "code",
   "execution_count": null,
   "id": "be2a6b57",
   "metadata": {},
   "outputs": [],
   "source": []
  },
  {
   "cell_type": "code",
   "execution_count": 73,
   "id": "98e24b65",
   "metadata": {},
   "outputs": [
    {
     "name": "stdout",
     "output_type": "stream",
     "text": [
      "t: 15.707963266948965\n",
      "Time evolution encoding, absolute error:  1.6572859952488297\n"
     ]
    }
   ],
   "source": [
    "import h5py\n",
    "\n",
    "def qc_U(two_qubit_gates, L, perms):\n",
    "    U = qiskit.QuantumCircuit(L)\n",
    "    for layer, qc_gate in enumerate(two_qubit_gates):\n",
    "        assert L%2 == 0\n",
    "        for j in range(L//2):\n",
    "            if perms[layer] is not None:\n",
    "                U.append(qc_gate.to_gate(), [perms[layer][2*j], perms[layer][2*j+1]])\n",
    "            else:\n",
    "                U.append(qc_gate.to_gate(), [2*j, 2*j+1])\n",
    "    return U\n",
    "\n",
    "t = c1/2\n",
    "print(\"t:\", t)\n",
    "V_list1 = []\n",
    "path1 = f\"../../src/rqcopt/results/heisenberg1d_dynamics_opt_t{t}_dynamics_opt_layers9_1H.hdf5\"\n",
    "with h5py.File(path1, \"r\") as f:\n",
    "    V_list1 = list(f[\"Vlist\"])\n",
    "perms = [None if i % 2 == 0 else np.roll(range(L), -1) for i in range(len(V_list1))]\n",
    "qcs_rqc1 = []\n",
    "for V in V_list1:\n",
    "    qc_rqc = qiskit.QuantumCircuit(2)\n",
    "    qc_rqc.unitary(V, [0, 1])\n",
    "    qcs_rqc1.append(qc_rqc)\n",
    "qc_U_ins1 = qc_U(qcs_rqc1, L, perms)\n",
    "\n",
    "V_list2 = []\n",
    "path2 = f\"../../src/rqcopt/results/heisenberg1d_dynamics_opt_t{t}_dynamics_opt_layers3_2H.hdf5\"\n",
    "with h5py.File(path2, \"r\") as f:\n",
    "    V_list2 = list(f[\"Vlist\"])\n",
    "qcs_rqc2 = []\n",
    "for V in V_list2:\n",
    "    qc_rqc = qiskit.QuantumCircuit(2)\n",
    "    qc_rqc.unitary(V, [0, 1])\n",
    "    qcs_rqc2.append(qc_rqc)\n",
    "qc_U_ins2 = qc_U(qcs_rqc2, L, perms)\n",
    "\n",
    "\n",
    "qc_U_ins = qiskit.QuantumCircuit(L)\n",
    "qc_U_ins.append(qc_U_ins1, [i for i in range(L)])\n",
    "qc_U_ins.append(qc_U_ins2, [i for i in range(L)])\n",
    "\n",
    "backend = Aer.get_backend(\"unitary_simulator\")\n",
    "qc_U_unit = execute(transpile(qc_U_ins), backend).result().get_unitary(qc_U_ins, L).data\n",
    "U = scipy.linalg.expm(-1j*t*hamil)\n",
    "print(\"Time evolution encoding, absolute error: \", np.linalg.norm(U-qc_U_unit, ord=2))"
   ]
  },
  {
   "cell_type": "code",
   "execution_count": null,
   "id": "baa3695f",
   "metadata": {},
   "outputs": [],
   "source": []
  },
  {
   "cell_type": "code",
   "execution_count": null,
   "id": "ceaecacd",
   "metadata": {},
   "outputs": [],
   "source": []
  },
  {
   "cell_type": "code",
   "execution_count": null,
   "id": "ea327c81",
   "metadata": {},
   "outputs": [],
   "source": []
  },
  {
   "cell_type": "code",
   "execution_count": null,
   "id": "0bd44c4c",
   "metadata": {},
   "outputs": [],
   "source": []
  },
  {
   "cell_type": "code",
   "execution_count": null,
   "id": "690525e0",
   "metadata": {},
   "outputs": [],
   "source": []
  },
  {
   "cell_type": "code",
   "execution_count": null,
   "id": "9159e0d6",
   "metadata": {},
   "outputs": [],
   "source": []
  },
  {
   "cell_type": "code",
   "execution_count": null,
   "id": "e8024db2",
   "metadata": {},
   "outputs": [],
   "source": []
  }
 ],
 "metadata": {
  "kernelspec": {
   "display_name": "Python 3 (ipykernel)",
   "language": "python",
   "name": "python3"
  },
  "language_info": {
   "codemirror_mode": {
    "name": "ipython",
    "version": 3
   },
   "file_extension": ".py",
   "mimetype": "text/x-python",
   "name": "python",
   "nbconvert_exporter": "python",
   "pygments_lexer": "ipython3",
   "version": "3.10.13"
  }
 },
 "nbformat": 4,
 "nbformat_minor": 5
}
