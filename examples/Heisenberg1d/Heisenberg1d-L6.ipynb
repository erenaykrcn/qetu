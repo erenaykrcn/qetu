{
 "cells": [
  {
   "cell_type": "code",
   "execution_count": 1,
   "id": "c2636af6",
   "metadata": {},
   "outputs": [
    {
     "name": "stderr",
     "output_type": "stream",
     "text": [
      "/Users/erenaykaracan/anaconda3/envs/qc/lib/python3.10/site-packages/numpy/linalg/linalg.py:2180: RuntimeWarning: divide by zero encountered in det\n",
      "  r = _umath_linalg.det(a, signature=signature)\n",
      "/Users/erenaykaracan/anaconda3/envs/qc/lib/python3.10/site-packages/numpy/linalg/linalg.py:2180: RuntimeWarning: invalid value encountered in det\n",
      "  r = _umath_linalg.det(a, signature=signature)\n"
     ]
    }
   ],
   "source": [
    "import qiskit\n",
    "\n",
    "import sys\n",
    "\n",
    "sys.path.append(\"../../src/groundstate_prep\")\n",
    "from ground_state_prep_qiskit import get_error_from_sv\n",
    "from fuzzy_bisection import fuzzy_bisection, fuzzy_bisection_noisy\n",
    "from ground_state_prep import prepare_ground_state\n",
    "from ground_state_prep_qiskit import qetu_rqc_oneLayer\n",
    "from utils_gsp import qc_QETU_cf_heis_R\n",
    "\n",
    "sys.path.append(\"../../src/lindbladian\")\n",
    "from lindbladian import circuit_implementation_lindbladian\n",
    "\n",
    "sys.path.append(\"../../src/qpe\")\n",
    "from utils_qpe import controlled_trotterized_time_evolution"
   ]
  },
  {
   "cell_type": "code",
   "execution_count": 2,
   "id": "8e23dc84",
   "metadata": {},
   "outputs": [
    {
     "name": "stdout",
     "output_type": "stream",
     "text": [
      "Ground State Energy -9.47213595499958\n",
      "a_max (0.998472314953095-0j)\n",
      "a_premax (0.9700256488277732-0j)\n",
      "c1:  0.2094381769059862\n",
      "c2:  2.0943917690598624\n"
     ]
    }
   ],
   "source": [
    "# Hamiltonian.\n",
    "\n",
    "import numpy as np\n",
    "from numpy import linalg as LA\n",
    "import qib\n",
    "import matplotlib.pyplot as plt\n",
    "\n",
    "# Parameters for the Ising Hamiltonian\n",
    "# L has to be even! Due to K only being able to control even Ls!\n",
    "\n",
    "# side length of lattice\n",
    "L = 6\n",
    "# Hamiltonian parameters\n",
    "J = (1,.5,1)\n",
    "h = (0, 0, 0)\n",
    "\n",
    "# construct Hamiltonian\n",
    "latt = qib.lattice.IntegerLattice((L,), pbc=True)\n",
    "field = qib.field.Field(qib.field.ParticleType.QUBIT, latt)\n",
    "hamil = qib.HeisenbergHamiltonian(field, J, h).as_matrix().toarray()\n",
    "\n",
    "eigenvalues, eigenvectors = LA.eig(hamil)\n",
    "idx = eigenvalues.argsort()\n",
    "eigenvalues_sort = eigenvalues[idx]\n",
    "eigenvectors_sort = eigenvectors[:,idx]\n",
    "ground_state = eigenvectors_sort[:, 0]\n",
    "print(\"Ground State Energy\", eigenvalues_sort[0].real)\n",
    "\n",
    "dist = 1e-5\n",
    "max_spectrum_length = 15\n",
    "ground_energy_lower_bound = -10\n",
    "c1 = (np.pi-2*dist) / (max_spectrum_length)\n",
    "c2 = dist - c1 * ground_energy_lower_bound\n",
    "\n",
    "eigenvalues_tr = eigenvalues_sort * c1 + c2\n",
    "a_values = np.array([np.cos(eig/2) for eig in eigenvalues_tr])\n",
    "\n",
    "print(\"a_max\", a_values[0])\n",
    "print(\"a_premax\", a_values[1])\n",
    "print(\"c1: \", c1)\n",
    "print(\"c2: \", c2)\n",
    "\n",
    "#print(a_values)"
   ]
  },
  {
   "cell_type": "code",
   "execution_count": 3,
   "id": "f7b8d464",
   "metadata": {},
   "outputs": [
    {
     "name": "stdout",
     "output_type": "stream",
     "text": [
      "Time evolution encoding, absolute error:  0.02348071394601231\n"
     ]
    }
   ],
   "source": [
    "from qiskit import Aer, execute, transpile\n",
    "import rqcopt as oc\n",
    "import scipy\n",
    "\n",
    "def construct_heisenberg_local_term(J, h):\n",
    "    X = np.array([[ 0.,  1.], [ 1.,  0.]])\n",
    "    Y = np.array([[ 0., -1j], [ 1j,  0.]])\n",
    "    Z = np.array([[ 1.,  0.], [ 0., -1.]])\n",
    "    I = np.identity(2)\n",
    "    \n",
    "    hloc = (J[0]*np.kron(X, X) + \n",
    "            J[1]*np.kron(Y, Y) + \n",
    "            J[2]*np.kron(Z, Z) + \n",
    "            h*0.5*(np.kron(X, I) + np.kron(I, X))\n",
    "           ) \n",
    "    return hloc\n",
    "\n",
    "def trotterized_time_evolution(qc, coeffs, hloc, dt, L):\n",
    "    Vlist = [scipy.linalg.expm(-1j*c*dt*hloc) for c in coeffs]\n",
    "    Vlist_gates = []\n",
    "    for V in Vlist:\n",
    "        qc2 = qiskit.QuantumCircuit(2)\n",
    "        qc2.unitary(V, [0, 1], label='str')\n",
    "        Vlist_gates.append(qc2)\n",
    "    perms = [None if i % 2 == 0 else np.roll(range(L), -1) for i in range(len(coeffs))]\n",
    "    for layer, qc_gate in enumerate(Vlist_gates):\n",
    "        for j in range(L//2):\n",
    "            if perms[layer] is not None:\n",
    "                qc.append(qc_gate.to_gate(), [L-(perms[layer][2*j]+1), L-(perms[layer][2*j+1]+1)])\n",
    "            else:\n",
    "                qc.append(qc_gate.to_gate(), [L-(2*j+1), L-(2*j+2)])\n",
    "\n",
    "def qc_heisenberg_U(J1, J2, J3, c1, c2, nsteps, coeffs):\n",
    "    t = c1/2\n",
    "    dt = t / nsteps\n",
    "    hloc1 = construct_heisenberg_local_term((J1, J2, 0), 0)\n",
    "    hloc2 = construct_heisenberg_local_term((0, 0, J3), 0)\n",
    "    qc_cU_ins = qiskit.QuantumCircuit(L)\n",
    "    \n",
    "    for i in range(nsteps):\n",
    "        trotterized_time_evolution(qc_cU_ins, coeffs, hloc1, dt, L)\n",
    "        trotterized_time_evolution(qc_cU_ins, coeffs, hloc2, dt, L)\n",
    "\n",
    "    qc_cU_ins.p(-c2, 0)\n",
    "    qc_cU_ins.x(0)\n",
    "    qc_cU_ins.p(-c2, 0)\n",
    "    qc_cU_ins.x(0)\n",
    "    return qc_cU_ins\n",
    "\n",
    "nsteps = 4\n",
    "coeffs_blan = oc.SplittingMethod.blanes_moan().coeffs\n",
    "qc_U_ins = qc_heisenberg_U(J[0], J[1], J[2], c1, c2, nsteps, coeffs_blan)\n",
    "\n",
    "backend = Aer.get_backend(\"unitary_simulator\")\n",
    "qc_U_unit = execute(transpile(qc_U_ins), backend).result().get_unitary(qc_U_ins, L).data\n",
    "U = scipy.linalg.expm(-1j*(c1/2*hamil + c2*np.identity(2**L)))\n",
    "\n",
    "print(\"Time evolution encoding, absolute error: \", np.linalg.norm(U-qc_U_unit, ord=2))"
   ]
  },
  {
   "cell_type": "code",
   "execution_count": 4,
   "id": "d89c3a48",
   "metadata": {},
   "outputs": [],
   "source": [
    "def qc_heisenberg_cf_U(J1, J2, J3, c1, c2, nsteps, coeffs, dagger):\n",
    "    t = c1/2\n",
    "    dt = t / nsteps\n",
    "    hloc1 = construct_heisenberg_local_term((J1, J2, 0), 0)\n",
    "    hloc2 = construct_heisenberg_local_term((0, 0, J3), 0)\n",
    "    qc_cU_ins = qiskit.QuantumCircuit(L+1)\n",
    "    \n",
    "    #H1=qib.HeisenbergHamiltonian(field, (J[0],J[1],0), (0,0,0)).as_matrix().toarray()\n",
    "    #H2=qib.HeisenbergHamiltonian(field, (0, 0, J[2]), (0,0,0)).as_matrix().toarray()\n",
    "    \n",
    "    if dagger:\n",
    "            qc_cU_ins.x(L)\n",
    "    for i in range(nsteps):\n",
    "        #controlled-hamil1\n",
    "        qc_cU_ins.x(L)\n",
    "        for j in range(L-1, -1, -1):\n",
    "            if j % 2 == 1:\n",
    "                qc_cU_ins.cz(L, j)\n",
    "        qc_cU_ins.x(L)\n",
    "        trotterized_time_evolution(qc_cU_ins, coeffs, hloc1, dt, L)\n",
    "        #qc_cU_ins.unitary(scipy.linalg.expm(-1j*dt*H1), [l for l in range(L-1, -1, -1)])\n",
    "        qc_cU_ins.x(L)\n",
    "        for j in range(L-1, -1, -1):\n",
    "            if j % 2 == 1:\n",
    "                qc_cU_ins.cz(L, j)\n",
    "        qc_cU_ins.x(L)\n",
    "\n",
    "        #controlled-hamil2\n",
    "        qc_cU_ins.x(L)\n",
    "        for j in range(L-1, -1, -1):\n",
    "            if j % 2 == 1:\n",
    "                qc_cU_ins.cx(L, j)\n",
    "        qc_cU_ins.x(L)\n",
    "        trotterized_time_evolution(qc_cU_ins, coeffs, hloc2, dt, L)\n",
    "        #qc_cU_ins.unitary(scipy.linalg.expm(-1j*dt*H2), [l for l in range(L-1, -1, -1)])\n",
    "        qc_cU_ins.x(L)\n",
    "        for j in range(L-1, -1, -1):\n",
    "            if j % 2 == 1:\n",
    "                qc_cU_ins.cx(L, j)\n",
    "        qc_cU_ins.x(L)\n",
    "\n",
    "    qc_cU_ins.cp(-c2, L,  0)\n",
    "    qc_cU_ins.x(0)\n",
    "    qc_cU_ins.cp(-c2, L, 0)\n",
    "    qc_cU_ins.x(0)\n",
    "    \n",
    "    if dagger:\n",
    "        qc_cU_ins.x(L)\n",
    "    return qc_cU_ins\n",
    "    \n",
    "nsteps = 4\n",
    "coeffs_blan = oc.SplittingMethod.blanes_moan().coeffs\n",
    "qc_cU_ins = qc_heisenberg_cf_U(J[0], J[1], J[2], c1, c2, nsteps, coeffs_blan, False)\n",
    "qc_cU_conj_ins = qc_heisenberg_cf_U(J[0], J[1], J[2], c1, c2, nsteps, coeffs_blan, True)"
   ]
  },
  {
   "cell_type": "code",
   "execution_count": 28,
   "id": "9fa0ce8f",
   "metadata": {},
   "outputs": [
    {
     "name": "stdout",
     "output_type": "stream",
     "text": [
      "dt:  1.0\n",
      "Running decomposition of two-qubit gates of the RQC Circuit...\n",
      "F(a_max)^2:  (0.8273776932403507+0j)\n",
      "F(a_premax)^2:  (0.030259735241823148+0j)\n",
      "QETU Error:  1.9999200387813345\n"
     ]
    }
   ],
   "source": [
    "mu, d, c, phis_max_iter, = (0.985, 18, 0.99, 10)\n",
    "\n",
    "qc_qetu, phis_0, qetu_mat = qetu_rqc_oneLayer(\n",
    "                                    L, 0, 0, 1, mu,\n",
    "                                    a_values, d=d, c=c, c2=0,\n",
    "                                    max_iter_for_phis=phis_max_iter,\n",
    "                                    split_U=1,\n",
    "                                    steep=1e-6,\n",
    "                                    #qc_U_custom=(qc_U_ins0, qc_U_ins1),\n",
    "                                    #custom_qc_QETU_cf_R=qc_QETU_cf_heis_R,\n",
    "                                    qc_cU_custom=(qc_cU_ins, qc_cU_conj_ins),\n",
    "                                    H1=qib.HeisenbergHamiltonian(field, (J[0],J[1],J[2]), (0,0,0)).as_matrix().toarray(),\n",
    "                                    H2=qib.HeisenbergHamiltonian(field, (0, 0, J[2]), (0,0,0)).as_matrix().toarray(),\n",
    "                                    heis_c2=c2\n",
    ")"
   ]
  },
  {
   "cell_type": "code",
   "execution_count": 27,
   "id": "8eb1f339",
   "metadata": {
    "scrolled": false
   },
   "outputs": [
    {
     "name": "stdout",
     "output_type": "stream",
     "text": [
      "Absolute Error for the Eigenvalue:  13.726360275680081\n",
      "State fidelity to the ground state:  1.0108765804510287e-05\n"
     ]
    },
    {
     "data": {
      "image/png": "[encoded data removed]",
      "text/plain": [
       "<Figure size 640x480 with 1 Axes>"
      ]
     },
     "metadata": {},
     "output_type": "display_data"
    }
   ],
   "source": [
    "from qiskit.quantum_info import state_fidelity\n",
    "from utils_lind import crandn\n",
    "\n",
    "tau, nsteps = (10, 50)\n",
    "\n",
    "#A = crandn((2, 2))\n",
    "#A = (A + A.conj().T)*0.5\n",
    "A = np.array([[ 1.76396944+0.j        , -1.37016467-0.71341355j],\n",
    "       [-1.37016467+0.71341355j, -0.33763868+0.j        ]])\n",
    "\n",
    "end_state_lind, en_list, err = circuit_implementation_lindbladian(hamil, L, \n",
    "                                                                  tau=tau, nsteps=nsteps,\n",
    "                                                                  A=A\n",
    "                                                                 )\n",
    "\n",
    "print(\"Absolute Error for the Eigenvalue: \", err)\n",
    "print(\"State fidelity to the ground state: \", state_fidelity(end_state_lind, ground_state))\n",
    "plt.semilogx(tau * np.arange(nsteps + 1), en_list, \".\", label=r\"$\\mathrm{tr}[\\rho(t) H]$\")\n",
    "plt.semilogx(tau * np.arange(nsteps + 1), (eigenvalues_sort[0]*np.ones(nsteps + 1)).real, label=r\"$\\lambda_0$\")\n",
    "plt.legend()\n",
    "plt.xlabel(\"time\")\n",
    "plt.ylabel(r\"$\\langle H \\rangle$\")\n",
    "plt.title(\"convergence to ground state\")\n",
    "plt.show()"
   ]
  },
  {
   "cell_type": "code",
   "execution_count": 29,
   "id": "78ecf88f",
   "metadata": {
    "scrolled": true
   },
   "outputs": [
    {
     "name": "stdout",
     "output_type": "stream",
     "text": [
      "state_fidelity: 0.00846769876616193\n",
      "state_fidelity: 0.647675221573846\n",
      "state_fidelity: 0.9943990387393383\n",
      "state_fidelity: 0.9992871581316186\n",
      "state_fidelity: 0.9993914261278121\n"
     ]
    }
   ],
   "source": [
    "# Firstly, we get a rough estimate of the eigenvalue through the expectation value measurement.\n",
    "from qiskit import transpile, execute, Aer\n",
    "from qiskit.circuit.library import StatePreparation\n",
    "from qiskit.quantum_info import state_fidelity\n",
    "\n",
    "ground_state = eigenvectors_sort[:, 0]\n",
    "\n",
    "backend = Aer.get_backend(\"statevector_simulator\")\n",
    "qc_RQC = qiskit.QuantumCircuit(L+1, L+1)\n",
    "\n",
    "qc_RQC.initialize(np.kron(np.array([1,0]), end_state_lind))\n",
    "for i in range(5):\n",
    "    qc_RQC.append(qc_qetu.to_gate(), [i for i in range(L+1)])\n",
    "    bR = execute(transpile(qc_RQC), backend).result().get_statevector().data\n",
    "    aR = np.kron(np.array([[1,0],[0,0]]), np.identity(2**L)) @ bR\n",
    "    aR = aR / np.linalg.norm(aR)\n",
    "    qc_RQC.reset([i for i in range(L+1)])\n",
    "    qc_RQC.initialize(aR)\n",
    "    print(\"state_fidelity:\", state_fidelity(aR[:2**L], ground_state))"
   ]
  },
  {
   "cell_type": "code",
   "execution_count": 8,
   "id": "01ef3eb3",
   "metadata": {},
   "outputs": [
    {
     "data": {
      "text/plain": [
       "<qiskit.circuit.instructionset.InstructionSet at 0x2cdbaa7d0>"
      ]
     },
     "execution_count": 8,
     "metadata": {},
     "output_type": "execute_result"
    }
   ],
   "source": [
    "def Pr_counts(counts, j, zj, *zjplus1):\n",
    "    # Helper Function to retrieve the probability of measuring the qubit number j (and optionally j+1)\n",
    "    prob = 0\n",
    "    nshots = 0\n",
    "    for key, value in counts.items():\n",
    "        nshots += value\n",
    "    \n",
    "    for bitstring, count in counts.items():\n",
    "        bitstring = bitstring[::-1]\n",
    "        bitstring = bitstring[:-1]\n",
    "        \n",
    "        L = len(bitstring)\n",
    "        \n",
    "        if not zjplus1:\n",
    "            if bitstring[j] == str(zj):\n",
    "                prob += count/nshots\n",
    "        else:\n",
    "            if j == L-1:\n",
    "                if bitstring[j] == str(zj) and bitstring[0] == str(zjplus1[0]):\n",
    "                    prob += count/nshots\n",
    "            else:\n",
    "                if bitstring[j] == str(zj) and bitstring[j+1] == str(zjplus1[0]):\n",
    "                    prob += count/nshots\n",
    "    return prob\n",
    "\n",
    "def estimate_eigenvalue_counts2(counts, L):\n",
    "    E = 0\n",
    "    # For consistency with qib, upper range has to be L!\n",
    "    for j in range(L):\n",
    "        for zj in range(2):\n",
    "            for zjplus1 in range(2):\n",
    "                E = E + (((-1)**(zj + zjplus1)) * Pr_counts(counts, j, zj, zjplus1))\n",
    "    return E\n",
    "\n",
    "def estimate_eigenvalue_counts1(counts, L):\n",
    "    E = 0\n",
    "    for j in range(L):\n",
    "        for zj in range(2):\n",
    "            E = E + (((-1)**zj) * Pr_counts(counts, j, zj))\n",
    "    return E\n",
    "\n",
    "qc_Z = qc_RQC.copy()\n",
    "qc_X = qc_Z.copy()\n",
    "qc_X.h([i for i in range(L)])\n",
    "qc_Y = qc_Z.copy()\n",
    "qc_Y.p(-np.pi/2, [i for i in range(L)])\n",
    "qc_Y.h([i for i in range(L)])\n",
    "\n",
    "qc_X.measure([i for i in range(L+1)], [i for i in range(L+1)])\n",
    "qc_Y.measure([i for i in range(L+1)], [i for i in range(L+1)])\n",
    "qc_Z.measure([i for i in range(L+1)], [i for i in range(L+1)])"
   ]
  },
  {
   "cell_type": "code",
   "execution_count": 9,
   "id": "c725b027",
   "metadata": {},
   "outputs": [
    {
     "name": "stdout",
     "output_type": "stream",
     "text": [
      "NoiseModel:\n",
      "  Basis gates: ['cx', 'cy', 'cz', 'id', 'rz', 'sx', 'u1', 'u2', 'u3']\n",
      "  Instructions with noise: ['cx', 'u2', 'cy', 'u3', 'u1', 'cz']\n",
      "  All-qubits errors: ['u1', 'u2', 'u3', 'cx', 'cy', 'cz']\n",
      "getting counts\n",
      "gotten counts\n"
     ]
    },
    {
     "data": {
      "text/plain": [
       "0.20733595499957858"
      ]
     },
     "execution_count": 9,
     "metadata": {},
     "output_type": "execute_result"
    }
   ],
   "source": [
    "from qiskit import Aer\n",
    "from qiskit.providers.aer.noise import NoiseModel, errors\n",
    "\n",
    "depolarizing_error = 1e-4\n",
    "x1_error = errors.depolarizing_error(depolarizing_error*0.1, 1)\n",
    "x2_error = errors.depolarizing_error(depolarizing_error, 2)\n",
    "#x3_error = errors.depolarizing_error(10*depolarizing_error, 3)\n",
    "noise_model = NoiseModel()\n",
    "noise_model.add_all_qubit_quantum_error(x1_error, ['u1', 'u2', 'u3'])\n",
    "noise_model.add_all_qubit_quantum_error(x2_error, ['cx', 'cy', 'cz'])\n",
    "#noise_model.add_all_qubit_quantum_error(x3_error, ['ccx', 'ccy', 'ccz'])\n",
    "print(noise_model)\n",
    "\n",
    "nshots = 1e4\n",
    "backend = Aer.get_backend(\"aer_simulator\")\n",
    "print(\"getting counts\")\n",
    "counts_dict1 = execute(transpile(qc_X), backend, noise_model=noise_model, basis_gates=noise_model.basis_gates,  shots=nshots).result().get_counts()\n",
    "counts_dict2 = execute(transpile(qc_Y), backend, noise_model=noise_model, basis_gates=noise_model.basis_gates,  shots=nshots).result().get_counts()\n",
    "counts_dict3 = execute(transpile(qc_Z), backend, noise_model=noise_model, basis_gates=noise_model.basis_gates,  shots=nshots).result().get_counts()    \n",
    "print(\"gotten counts\")\n",
    "        \n",
    "E_np = J[0] * estimate_eigenvalue_counts2(counts_dict1, L) +  J[1]*estimate_eigenvalue_counts2(counts_dict2, L) + J[2]*estimate_eigenvalue_counts2(counts_dict3, L) \n",
    "np.abs(E_np - eigenvalues_sort[0])"
   ]
  },
  {
   "cell_type": "code",
   "execution_count": 10,
   "id": "8c61d562",
   "metadata": {},
   "outputs": [
    {
     "data": {
      "text/plain": [
       "69662"
      ]
     },
     "execution_count": 10,
     "metadata": {},
     "output_type": "execute_result"
    }
   ],
   "source": [
    "# Number of layers in the ground state preparation circuit\n",
    "\n",
    "transpile(qc_X, basis_gates=noise_model.basis_gates).depth()"
   ]
  },
  {
   "cell_type": "code",
   "execution_count": 12,
   "id": "bdd657dc",
   "metadata": {},
   "outputs": [
    {
     "data": {
      "text/plain": [
       "-9.264800000000001"
      ]
     },
     "execution_count": 12,
     "metadata": {},
     "output_type": "execute_result"
    }
   ],
   "source": [
    "# Expectation Value measurement delivers us:\n",
    "\n",
    "E_np"
   ]
  },
  {
   "cell_type": "code",
   "execution_count": 14,
   "id": "950e8195",
   "metadata": {},
   "outputs": [
    {
     "name": "stdout",
     "output_type": "stream",
     "text": [
      "Target Absolute Error:  (0.06247042560706362+0j)\n",
      "Target Estimate:  -9.409665529392516\n",
      "Exact a:  (0.6754902942635787-0j)\n"
     ]
    }
   ],
   "source": [
    "# Expectation Value measurement falls off, hence we start with a large d=0\n",
    "d = 0\n",
    "\n",
    "dist = 1e-10\n",
    "max_spectrum_length = 10**(d)\n",
    "\n",
    "# Initial search starts with a larger margin, hence multiplication with 2!\n",
    "# Estimation -6 is acquired through expectation value measurement!\n",
    "ground_energy_lower_bound = -9 - max_spectrum_length\n",
    "c1 = (np.pi-2*dist) / (max_spectrum_length)\n",
    "c2 = dist - c1 * ground_energy_lower_bound\n",
    "eigenvalues_tr = eigenvalues_sort * c1 + c2\n",
    "a_values = np.array([np.cos(eig/2) for eig in eigenvalues_tr])\n",
    "\n",
    "a_est = 0.6\n",
    "est_eig = 2*np.arccos(a_est)\n",
    "print(\"Target Absolute Error: \", (est_eig - c2)/c1 - eigenvalues_sort[0])\n",
    "print(\"Target Estimate: \", (est_eig - c2)/c1)\n",
    "print(\"Exact a: \", a_values[0])"
   ]
  },
  {
   "cell_type": "code",
   "execution_count": 16,
   "id": "cdac0243",
   "metadata": {
    "scrolled": false
   },
   "outputs": [
    {
     "name": "stdout",
     "output_type": "stream",
     "text": [
      "Time evolution encoding, absolute error:  0.34798363335598237\n",
      "------------------\n",
      "x: 0.5\n",
      "d:  34\n",
      "left:  0\n",
      "right:  1\n",
      "dt:  1.0\n",
      "Running decomposition of two-qubit gates of the RQC Circuit...\n",
      "F(a_max)^2:  (0.7867759232644252+0j)\n",
      "F(a_premax)^2:  (0.8762643737834839+0j)\n",
      "state_fidelity: 0.9374224040963269\n",
      "NoiseModel:\n",
      "  Basis gates: ['cu', 'cx', 'cy', 'cz', 'id', 'rz', 'sx', 'u1', 'u2', 'u3']\n",
      "  Instructions with noise: ['sx', 'cx', 'u2', 'rz', 'cy', 'u3', 'cu', 'u1', 'cz']\n",
      "  All-qubits errors: ['u1', 'u2', 'u3', 'rz', 'sx', 'cu', 'cx', 'cy', 'cz']\n",
      "Success Prob:  0.62\n",
      "------------------\n",
      "x: 0.745\n",
      "d:  34\n",
      "left:  0.49\n",
      "right:  1\n",
      "dt:  1.0\n",
      "Running decomposition of two-qubit gates of the RQC Circuit...\n",
      "F(a_max)^2:  (3.327866069997197e-05+0j)\n",
      "F(a_premax)^2:  (0.7901912366025088+0j)\n",
      "state_fidelity: 0.9374224040963233\n",
      "NoiseModel:\n",
      "  Basis gates: ['cu', 'cx', 'cy', 'cz', 'id', 'rz', 'sx', 'u1', 'u2', 'u3']\n",
      "  Instructions with noise: ['sx', 'cx', 'u2', 'rz', 'cy', 'u3', 'cu', 'u1', 'cz']\n",
      "  All-qubits errors: ['u1', 'u2', 'u3', 'rz', 'sx', 'cu', 'cx', 'cy', 'cz']\n",
      "Success Prob:  0.37\n",
      "------------------\n",
      "x: 0.6225\n",
      "d:  34\n",
      "left:  0.49\n",
      "right:  0.755\n",
      "dt:  1.0\n",
      "Running decomposition of two-qubit gates of the RQC Circuit...\n",
      "F(a_max)^2:  (0.7692885976082304+0j)\n",
      "F(a_premax)^2:  (0.8722377575117738+0j)\n",
      "state_fidelity: 0.9374224040963254\n",
      "NoiseModel:\n",
      "  Basis gates: ['cu', 'cx', 'cy', 'cz', 'id', 'rz', 'sx', 'u1', 'u2', 'u3']\n",
      "  Instructions with noise: ['sx', 'cx', 'u2', 'rz', 'cy', 'u3', 'cu', 'u1', 'cz']\n",
      "  All-qubits errors: ['u1', 'u2', 'u3', 'rz', 'sx', 'cu', 'cx', 'cy', 'cz']\n",
      "Success Prob:  0.48\n",
      "Not steep enough! Search ended!\n"
     ]
    }
   ],
   "source": [
    "nsteps = 15\n",
    "coeffs_blan = oc.SplittingMethod.blanes_moan().coeffs\n",
    "qc_cU_ins = qc_heisenberg_cf_U(J[0], J[1], J[2], c1, c2, nsteps, coeffs_blan, False)\n",
    "qc_cU_conj_ins = qc_heisenberg_cf_U(J[0], J[1], J[2], c1, c2, nsteps, coeffs_blan, True)\n",
    "\n",
    "qc_U_ins = qc_heisenberg_U(J[0], J[1], J[2], c1, c2, nsteps, coeffs_blan)\n",
    "backend = Aer.get_backend(\"unitary_simulator\")\n",
    "qc_U_unit = execute(transpile(qc_U_ins), backend).result().get_unitary(qc_U_ins, L).data\n",
    "U = scipy.linalg.expm(-1j*(c1/2*hamil + c2*np.identity(2**L)))\n",
    "print(\"Time evolution encoding, absolute error: \", np.linalg.norm(U-qc_U_unit, ord=2))\n",
    "\n",
    "\n",
    "a_est = fuzzy_bisection_noisy(qc_qetu, L, 0, 0,\n",
    "                              0, 1, 34, 1e-3, 0, 2, 0, a_values, \n",
    "                              1e-5, nshots=1e2, qetu_layers=3,\n",
    "                              ground_state=eigenvectors_sort[:, 0],\n",
    "                              qetu_initial_state=np.kron(np.array([1,0]), end_state_lind),\n",
    "                              qc_cU_custom=(qc_cU_ins, qc_cU_conj_ins), split_U=1,\n",
    "                             )"
   ]
  },
  {
   "cell_type": "code",
   "execution_count": 17,
   "id": "3202068b",
   "metadata": {},
   "outputs": [
    {
     "name": "stdout",
     "output_type": "stream",
     "text": [
      "Absolute Error:  (0.04437008344475579+0j)\n",
      "Estimated Eigenvalue:  -9.427765871554824\n"
     ]
    }
   ],
   "source": [
    "a_est =  0.6225\n",
    "est_eig = 2*np.arccos(a_est)\n",
    "print(\"Absolute Error: \", (est_eig - c2)/c1 - eigenvalues_sort[0])\n",
    "print(\"Estimated Eigenvalue: \", (est_eig - c2)/c1)"
   ]
  },
  {
   "cell_type": "code",
   "execution_count": 33,
   "id": "313f6441",
   "metadata": {},
   "outputs": [
    {
     "name": "stdout",
     "output_type": "stream",
     "text": [
      "Target Absolute Error:  (0.0008492136239652837+0j)\n",
      "Target Estimate:  -9.471286741375614\n",
      "Exact a:  (0.9057342725462343-0j)\n"
     ]
    }
   ],
   "source": [
    "# Expectation Value measurement falls off, hence we start with a large d=0\n",
    "d = -1\n",
    "\n",
    "dist = 1e-10\n",
    "max_spectrum_length = 10**(d)\n",
    "\n",
    "# Initial search starts with a larger margin, hence multiplication with 2!\n",
    "# Estimation -6 is acquired through expectation value measurement!\n",
    "ground_energy_lower_bound = -9.4 - max_spectrum_length\n",
    "c1 = (np.pi-2*dist) / (max_spectrum_length)\n",
    "c2 = dist - c1 * ground_energy_lower_bound\n",
    "eigenvalues_tr = eigenvalues_sort * c1 + c2\n",
    "a_values = np.array([np.cos(eig/2) for eig in eigenvalues_tr])\n",
    "\n",
    "a_est = 0.9\n",
    "est_eig = 2*np.arccos(a_est)\n",
    "print(\"Target Absolute Error: \", (est_eig - c2)/c1 - eigenvalues_sort[0])\n",
    "print(\"Target Estimate: \", (est_eig - c2)/c1)\n",
    "print(\"Exact a: \", a_values[0])"
   ]
  },
  {
   "cell_type": "code",
   "execution_count": 34,
   "id": "f207db52",
   "metadata": {},
   "outputs": [
    {
     "name": "stdout",
     "output_type": "stream",
     "text": [
      "Time evolution encoding, absolute error:  0.48507494397615236\n",
      "------------------\n",
      "x: 0.5\n",
      "d:  18\n",
      "left:  0\n",
      "right:  1\n",
      "dt:  1.0\n",
      "Running decomposition of two-qubit gates of the RQC Circuit...\n",
      "F(a_max)^2:  (0.8596712523599267+0j)\n",
      "F(a_premax)^2:  (0.7896156972328244+0j)\n",
      "state_fidelity: 0.994399038739337\n",
      "NoiseModel:\n",
      "  Basis gates: ['cu', 'cx', 'cy', 'cz', 'id', 'rz', 'sx', 'u1', 'u2', 'u3']\n",
      "  Instructions with noise: ['cx', 'cz', 'sx', 'cu', 'rz', 'u3', 'cy', 'u2', 'u1']\n",
      "  All-qubits errors: ['u1', 'u2', 'u3', 'rz', 'sx', 'cu', 'cx', 'cy', 'cz']\n",
      "Success Prob:  0.44\n",
      "Not steep enough! Search ended!\n",
      "------------------\n",
      "x: 0.5\n",
      "d:  22\n",
      "left:  -0.01\n",
      "right:  1.01\n",
      "dt:  1.0\n",
      "Running decomposition of two-qubit gates of the RQC Circuit...\n",
      "F(a_max)^2:  (0.8053228356799298+0j)\n",
      "F(a_premax)^2:  (0.7916150640213857+0j)\n"
     ]
    },
    {
     "ename": "KeyboardInterrupt",
     "evalue": "",
     "output_type": "error",
     "traceback": [
      "\u001b[0;31m---------------------------------------------------------------------------\u001b[0m",
      "\u001b[0;31mKeyboardInterrupt\u001b[0m                         Traceback (most recent call last)",
      "Cell \u001b[0;32mIn[34], line 13\u001b[0m\n\u001b[1;32m      9\u001b[0m U \u001b[38;5;241m=\u001b[39m scipy\u001b[38;5;241m.\u001b[39mlinalg\u001b[38;5;241m.\u001b[39mexpm(\u001b[38;5;241m-\u001b[39m\u001b[38;5;241m1\u001b[39mj\u001b[38;5;241m*\u001b[39m(c1\u001b[38;5;241m/\u001b[39m\u001b[38;5;241m2\u001b[39m\u001b[38;5;241m*\u001b[39mhamil \u001b[38;5;241m+\u001b[39m c2\u001b[38;5;241m*\u001b[39mnp\u001b[38;5;241m.\u001b[39midentity(\u001b[38;5;241m2\u001b[39m\u001b[38;5;241m*\u001b[39m\u001b[38;5;241m*\u001b[39mL)))\n\u001b[1;32m     10\u001b[0m \u001b[38;5;28mprint\u001b[39m(\u001b[38;5;124m\"\u001b[39m\u001b[38;5;124mTime evolution encoding, absolute error: \u001b[39m\u001b[38;5;124m\"\u001b[39m, np\u001b[38;5;241m.\u001b[39mlinalg\u001b[38;5;241m.\u001b[39mnorm(U\u001b[38;5;241m-\u001b[39mqc_U_unit, \u001b[38;5;28mord\u001b[39m\u001b[38;5;241m=\u001b[39m\u001b[38;5;241m2\u001b[39m))\n\u001b[0;32m---> 13\u001b[0m a_est \u001b[38;5;241m=\u001b[39m \u001b[43mfuzzy_bisection_noisy\u001b[49m\u001b[43m(\u001b[49m\u001b[43mqc_qetu\u001b[49m\u001b[43m,\u001b[49m\u001b[43m \u001b[49m\u001b[43mL\u001b[49m\u001b[43m,\u001b[49m\u001b[43m \u001b[49m\u001b[38;5;241;43m0\u001b[39;49m\u001b[43m,\u001b[49m\u001b[43m \u001b[49m\u001b[38;5;241;43m0\u001b[39;49m\u001b[43m,\u001b[49m\n\u001b[1;32m     14\u001b[0m \u001b[43m                              \u001b[49m\u001b[38;5;241;43m0\u001b[39;49m\u001b[43m,\u001b[49m\u001b[43m \u001b[49m\u001b[38;5;241;43m1\u001b[39;49m\u001b[43m,\u001b[49m\u001b[43m \u001b[49m\u001b[38;5;241;43m18\u001b[39;49m\u001b[43m,\u001b[49m\u001b[43m \u001b[49m\u001b[38;5;241;43m1e-3\u001b[39;49m\u001b[43m,\u001b[49m\u001b[43m \u001b[49m\u001b[38;5;241;43m0\u001b[39;49m\u001b[43m,\u001b[49m\u001b[43m \u001b[49m\u001b[38;5;241;43m2\u001b[39;49m\u001b[43m,\u001b[49m\u001b[43m \u001b[49m\u001b[38;5;241;43m0\u001b[39;49m\u001b[43m,\u001b[49m\u001b[43m \u001b[49m\u001b[43ma_values\u001b[49m\u001b[43m,\u001b[49m\u001b[43m \u001b[49m\n\u001b[1;32m     15\u001b[0m \u001b[43m                              \u001b[49m\u001b[38;5;241;43m1e-5\u001b[39;49m\u001b[43m,\u001b[49m\u001b[43m \u001b[49m\u001b[43mnshots\u001b[49m\u001b[38;5;241;43m=\u001b[39;49m\u001b[38;5;241;43m1e2\u001b[39;49m\u001b[43m,\u001b[49m\u001b[43m \u001b[49m\u001b[43mqetu_layers\u001b[49m\u001b[38;5;241;43m=\u001b[39;49m\u001b[38;5;241;43m3\u001b[39;49m\u001b[43m,\u001b[49m\n\u001b[1;32m     16\u001b[0m \u001b[43m                              \u001b[49m\u001b[43mground_state\u001b[49m\u001b[38;5;241;43m=\u001b[39;49m\u001b[43meigenvectors_sort\u001b[49m\u001b[43m[\u001b[49m\u001b[43m:\u001b[49m\u001b[43m,\u001b[49m\u001b[43m \u001b[49m\u001b[38;5;241;43m0\u001b[39;49m\u001b[43m]\u001b[49m\u001b[43m,\u001b[49m\n\u001b[1;32m     17\u001b[0m \u001b[43m                              \u001b[49m\u001b[43mqetu_initial_state\u001b[49m\u001b[38;5;241;43m=\u001b[39;49m\u001b[43mnp\u001b[49m\u001b[38;5;241;43m.\u001b[39;49m\u001b[43mkron\u001b[49m\u001b[43m(\u001b[49m\u001b[43mnp\u001b[49m\u001b[38;5;241;43m.\u001b[39;49m\u001b[43marray\u001b[49m\u001b[43m(\u001b[49m\u001b[43m[\u001b[49m\u001b[38;5;241;43m1\u001b[39;49m\u001b[43m,\u001b[49m\u001b[38;5;241;43m0\u001b[39;49m\u001b[43m]\u001b[49m\u001b[43m)\u001b[49m\u001b[43m,\u001b[49m\u001b[43m \u001b[49m\u001b[43mend_state_lind\u001b[49m\u001b[43m)\u001b[49m\u001b[43m,\u001b[49m\n\u001b[1;32m     18\u001b[0m \u001b[43m                              \u001b[49m\u001b[43mqc_cU_custom\u001b[49m\u001b[38;5;241;43m=\u001b[39;49m\u001b[43m(\u001b[49m\u001b[43mqc_cU_ins\u001b[49m\u001b[43m,\u001b[49m\u001b[43m \u001b[49m\u001b[43mqc_cU_conj_ins\u001b[49m\u001b[43m)\u001b[49m\u001b[43m,\u001b[49m\u001b[43m \u001b[49m\u001b[43msplit_U\u001b[49m\u001b[38;5;241;43m=\u001b[39;49m\u001b[38;5;241;43m1\u001b[39;49m\u001b[43m,\u001b[49m\n\u001b[1;32m     19\u001b[0m \u001b[43m                             \u001b[49m\u001b[43m)\u001b[49m\n",
      "File \u001b[0;32m~/Desktop/Docs/QC/repos/qetu/examples/Heisenberg1d/../../src/groundstate_prep/fuzzy_bisection.py:135\u001b[0m, in \u001b[0;36mfuzzy_bisection_noisy\u001b[0;34m(qc_qetu, L, J, g, l, r, d, tolerence, i, c1, c2, a_values, depolarizing_error, max_iter, qetu_layers, RQC_layers, qetu_initial_state, nshots, ground_state, split_U, reuse_RQC, lower_treshold, upper_treshold, qc_U_custom, custom_qc_QETU_cf_R, qc_cU_custom, hamil)\u001b[0m\n\u001b[1;32m    133\u001b[0m     \u001b[38;5;28;01mreturn\u001b[39;00m ((r\u001b[38;5;241m+\u001b[39ml)\u001b[38;5;241m/\u001b[39m\u001b[38;5;241m2\u001b[39m)\n\u001b[1;32m    134\u001b[0m \u001b[38;5;28;01melse\u001b[39;00m:\n\u001b[0;32m--> 135\u001b[0m     \u001b[38;5;28;01mreturn\u001b[39;00m \u001b[43mfuzzy_bisection_noisy\u001b[49m\u001b[43m(\u001b[49m\u001b[43mqc_qetu\u001b[49m\u001b[43m,\u001b[49m\u001b[43m \u001b[49m\u001b[43mL\u001b[49m\u001b[43m,\u001b[49m\u001b[43m \u001b[49m\u001b[43mJ\u001b[49m\u001b[43m,\u001b[49m\u001b[43m \u001b[49m\u001b[43mg\u001b[49m\u001b[43m,\u001b[49m\u001b[43m \u001b[49m\u001b[43ml\u001b[49m\u001b[38;5;241;43m-\u001b[39;49m\u001b[43mh\u001b[49m\u001b[43m,\u001b[49m\u001b[43m \u001b[49m\u001b[43mr\u001b[49m\u001b[38;5;241;43m+\u001b[39;49m\u001b[43mh\u001b[49m\u001b[43m,\u001b[49m\u001b[43m \u001b[49m\u001b[43md\u001b[49m\u001b[43m,\u001b[49m\u001b[43m \u001b[49m\u001b[43mtolerence\u001b[49m\u001b[43m,\u001b[49m\u001b[43m \u001b[49m\u001b[43mi\u001b[49m\u001b[38;5;241;43m+\u001b[39;49m\u001b[38;5;241;43m1\u001b[39;49m\u001b[43m,\u001b[49m\u001b[43m \u001b[49m\u001b[43mc1\u001b[49m\u001b[43m,\u001b[49m\u001b[43m \u001b[49m\u001b[43mc2\u001b[49m\u001b[43m,\u001b[49m\u001b[43m \u001b[49m\u001b[43ma_values\u001b[49m\u001b[43m,\u001b[49m\u001b[43m \u001b[49m\u001b[43mdepolarizing_error\u001b[49m\u001b[43m,\u001b[49m\u001b[43m \u001b[49m\n\u001b[1;32m    136\u001b[0m \u001b[43m        \u001b[49m\u001b[43mmax_iter\u001b[49m\u001b[43m,\u001b[49m\u001b[43m \u001b[49m\u001b[43mqetu_layers\u001b[49m\u001b[43m,\u001b[49m\u001b[43m \u001b[49m\u001b[43mRQC_layers\u001b[49m\u001b[43m,\u001b[49m\u001b[43m \u001b[49m\u001b[43mqetu_initial_state\u001b[49m\u001b[43m,\u001b[49m\u001b[43m \u001b[49m\u001b[43mnshots\u001b[49m\u001b[43m,\u001b[49m\u001b[43m \u001b[49m\u001b[43mground_state\u001b[49m\u001b[43m,\u001b[49m\u001b[43m \u001b[49m\u001b[43msplit_U\u001b[49m\u001b[43m,\u001b[49m\u001b[43m \u001b[49m\n\u001b[1;32m    137\u001b[0m \u001b[43m        \u001b[49m\u001b[43mreuse_RQC\u001b[49m\u001b[38;5;241;43m=\u001b[39;49m\u001b[43mreuse_RQC\u001b[49m\u001b[43m,\u001b[49m\u001b[43m \u001b[49m\u001b[43mqc_U_custom\u001b[49m\u001b[38;5;241;43m=\u001b[39;49m\u001b[43mqc_U_custom\u001b[49m\u001b[43m,\u001b[49m\u001b[43m \u001b[49m\u001b[43mcustom_qc_QETU_cf_R\u001b[49m\u001b[38;5;241;43m=\u001b[39;49m\u001b[43mcustom_qc_QETU_cf_R\u001b[49m\u001b[43m,\u001b[49m\u001b[43m \u001b[49m\n\u001b[1;32m    138\u001b[0m \u001b[43m        \u001b[49m\u001b[43mqc_cU_custom\u001b[49m\u001b[38;5;241;43m=\u001b[39;49m\u001b[43mqc_cU_custom\u001b[49m\u001b[43m,\u001b[49m\u001b[43m  \u001b[49m\u001b[43mhamil\u001b[49m\u001b[38;5;241;43m=\u001b[39;49m\u001b[43mhamil\u001b[49m\u001b[43m)\u001b[49m\n",
      "File \u001b[0;32m~/Desktop/Docs/QC/repos/qetu/examples/Heisenberg1d/../../src/groundstate_prep/fuzzy_bisection.py:65\u001b[0m, in \u001b[0;36mfuzzy_bisection_noisy\u001b[0;34m(qc_qetu, L, J, g, l, r, d, tolerence, i, c1, c2, a_values, depolarizing_error, max_iter, qetu_layers, RQC_layers, qetu_initial_state, nshots, ground_state, split_U, reuse_RQC, lower_treshold, upper_treshold, qc_U_custom, custom_qc_QETU_cf_R, qc_cU_custom, hamil)\u001b[0m\n\u001b[1;32m     62\u001b[0m     \u001b[38;5;28;01mreturn\u001b[39;00m ((r\u001b[38;5;241m+\u001b[39ml)\u001b[38;5;241m/\u001b[39m\u001b[38;5;241m2\u001b[39m)\n\u001b[1;32m     64\u001b[0m t \u001b[38;5;241m=\u001b[39m c1\u001b[38;5;241m/\u001b[39m\u001b[38;5;241m2\u001b[39m\n\u001b[0;32m---> 65\u001b[0m last_layer, phis, _ \u001b[38;5;241m=\u001b[39m \u001b[43mqetu_rqc_oneLayer\u001b[49m\u001b[43m(\u001b[49m\u001b[43mL\u001b[49m\u001b[43m,\u001b[49m\u001b[43m \u001b[49m\u001b[43mJ\u001b[49m\u001b[43m,\u001b[49m\u001b[43m \u001b[49m\u001b[43mg\u001b[49m\u001b[43m,\u001b[49m\u001b[43m \u001b[49m\u001b[43mt\u001b[49m\u001b[43m,\u001b[49m\u001b[43m \u001b[49m\u001b[43mx\u001b[49m\u001b[43m,\u001b[49m\u001b[43m \u001b[49m\u001b[43ma_values\u001b[49m\u001b[43m,\u001b[49m\u001b[43m \u001b[49m\u001b[43md\u001b[49m\u001b[38;5;241;43m=\u001b[39;49m\u001b[43md\u001b[49m\u001b[43m,\u001b[49m\u001b[43m \u001b[49m\u001b[43mc\u001b[49m\u001b[38;5;241;43m=\u001b[39;49m\u001b[43mc\u001b[49m\u001b[43m,\u001b[49m\u001b[43m \u001b[49m\u001b[43mc2\u001b[49m\u001b[38;5;241;43m=\u001b[39;49m\u001b[43mc2\u001b[49m\u001b[43m,\u001b[49m\u001b[43m \u001b[49m\n\u001b[1;32m     66\u001b[0m \u001b[43m    \u001b[49m\u001b[43mmax_iter_for_phis\u001b[49m\u001b[38;5;241;43m=\u001b[39;49m\u001b[43mphis_max_iter\u001b[49m\u001b[43m,\u001b[49m\u001b[43m \u001b[49m\u001b[43mreuse_RQC\u001b[49m\u001b[38;5;241;43m=\u001b[39;49m\u001b[43mreuse_RQC\u001b[49m\u001b[43m,\u001b[49m\u001b[43m \u001b[49m\u001b[43mRQC_layers\u001b[49m\u001b[38;5;241;43m=\u001b[39;49m\u001b[43mRQC_layers\u001b[49m\u001b[43m,\u001b[49m\u001b[43m \u001b[49m\n\u001b[1;32m     67\u001b[0m \u001b[43m    \u001b[49m\u001b[43msplit_U\u001b[49m\u001b[38;5;241;43m=\u001b[39;49m\u001b[43msplit_U\u001b[49m\u001b[43m,\u001b[49m\u001b[43m \u001b[49m\u001b[43mqc_U_custom\u001b[49m\u001b[38;5;241;43m=\u001b[39;49m\u001b[43mqc_U_custom\u001b[49m\u001b[43m,\u001b[49m\u001b[43m \u001b[49m\u001b[43mcustom_qc_QETU_cf_R\u001b[49m\u001b[38;5;241;43m=\u001b[39;49m\u001b[43mcustom_qc_QETU_cf_R\u001b[49m\u001b[43m,\u001b[49m\n\u001b[1;32m     68\u001b[0m \u001b[43m    \u001b[49m\u001b[43mqc_cU_custom\u001b[49m\u001b[38;5;241;43m=\u001b[39;49m\u001b[43mqc_cU_custom\u001b[49m\u001b[43m,\u001b[49m\u001b[43m \u001b[49m\u001b[43mhamil\u001b[49m\u001b[38;5;241;43m=\u001b[39;49m\u001b[43mhamil\u001b[49m\n\u001b[1;32m     69\u001b[0m \u001b[43m    \u001b[49m\u001b[43m)\u001b[49m\n\u001b[1;32m     71\u001b[0m qc \u001b[38;5;241m=\u001b[39m qiskit\u001b[38;5;241m.\u001b[39mQuantumCircuit(L\u001b[38;5;241m+\u001b[39m\u001b[38;5;241m1\u001b[39m, \u001b[38;5;241m1\u001b[39m)\n\u001b[1;32m     72\u001b[0m backend \u001b[38;5;241m=\u001b[39m Aer\u001b[38;5;241m.\u001b[39mget_backend(\u001b[38;5;124m\"\u001b[39m\u001b[38;5;124mstatevector_simulator\u001b[39m\u001b[38;5;124m\"\u001b[39m)\n",
      "File \u001b[0;32m~/Desktop/Docs/QC/repos/qetu/examples/Heisenberg1d/../../src/groundstate_prep/ground_state_prep_qiskit.py:345\u001b[0m, in \u001b[0;36mqetu_rqc_oneLayer\u001b[0;34m(L, J, g, t, mu, a_values, c2, d, c, steep, max_iter_for_phis, RQC_layers, init_state, split_U, reuse_RQC, qc_U_custom, custom_qc_QETU_cf_R, qc_cU_custom, hamil, H1, H2, heis_c2)\u001b[0m\n\u001b[1;32m    343\u001b[0m \u001b[38;5;28;01mif\u001b[39;00m init_state \u001b[38;5;129;01mis\u001b[39;00m \u001b[38;5;129;01mnot\u001b[39;00m \u001b[38;5;28;01mNone\u001b[39;00m:\n\u001b[1;32m    344\u001b[0m     qc_ins\u001b[38;5;241m.\u001b[39minitialize(init_state)\n\u001b[0;32m--> 345\u001b[0m qc_ins\u001b[38;5;241m.\u001b[39mappend(\u001b[43mqc_QETU\u001b[49m\u001b[38;5;241;43m.\u001b[39;49m\u001b[43mto_gate\u001b[49m\u001b[43m(\u001b[49m\u001b[43m)\u001b[49m, [i \u001b[38;5;28;01mfor\u001b[39;00m i \u001b[38;5;129;01min\u001b[39;00m \u001b[38;5;28mrange\u001b[39m(L\u001b[38;5;241m+\u001b[39m\u001b[38;5;241m1\u001b[39m)])\n\u001b[1;32m    348\u001b[0m \u001b[38;5;28;01mreturn\u001b[39;00m qc_ins, phis[\u001b[38;5;241m0\u001b[39m], QETU_mat\n",
      "File \u001b[0;32m~/anaconda3/envs/qc/lib/python3.10/site-packages/qiskit/circuit/quantumcircuit.py:1565\u001b[0m, in \u001b[0;36mQuantumCircuit.to_gate\u001b[0;34m(self, parameter_map, label)\u001b[0m\n\u001b[1;32m   1550\u001b[0m \u001b[38;5;250m\u001b[39m\u001b[38;5;124;03m\"\"\"Create a Gate out of this circuit.\u001b[39;00m\n\u001b[1;32m   1551\u001b[0m \n\u001b[1;32m   1552\u001b[0m \u001b[38;5;124;03mArgs:\u001b[39;00m\n\u001b[0;32m   (...)\u001b[0m\n\u001b[1;32m   1561\u001b[0m \u001b[38;5;124;03m    (can be decomposed back)\u001b[39;00m\n\u001b[1;32m   1562\u001b[0m \u001b[38;5;124;03m\"\"\"\u001b[39;00m\n\u001b[1;32m   1563\u001b[0m \u001b[38;5;28;01mfrom\u001b[39;00m \u001b[38;5;21;01mqiskit\u001b[39;00m\u001b[38;5;21;01m.\u001b[39;00m\u001b[38;5;21;01mconverters\u001b[39;00m\u001b[38;5;21;01m.\u001b[39;00m\u001b[38;5;21;01mcircuit_to_gate\u001b[39;00m \u001b[38;5;28;01mimport\u001b[39;00m circuit_to_gate\n\u001b[0;32m-> 1565\u001b[0m \u001b[38;5;28;01mreturn\u001b[39;00m \u001b[43mcircuit_to_gate\u001b[49m\u001b[43m(\u001b[49m\u001b[38;5;28;43mself\u001b[39;49m\u001b[43m,\u001b[49m\u001b[43m \u001b[49m\u001b[43mparameter_map\u001b[49m\u001b[43m,\u001b[49m\u001b[43m \u001b[49m\u001b[43mlabel\u001b[49m\u001b[38;5;241;43m=\u001b[39;49m\u001b[43mlabel\u001b[49m\u001b[43m)\u001b[49m\n",
      "File \u001b[0;32m~/anaconda3/envs/qc/lib/python3.10/site-packages/qiskit/converters/circuit_to_gate.py:82\u001b[0m, in \u001b[0;36mcircuit_to_gate\u001b[0;34m(circuit, parameter_map, equivalence_library, label)\u001b[0m\n\u001b[1;32m     74\u001b[0m gate \u001b[38;5;241m=\u001b[39m Gate(\n\u001b[1;32m     75\u001b[0m     name\u001b[38;5;241m=\u001b[39mcircuit\u001b[38;5;241m.\u001b[39mname,\n\u001b[1;32m     76\u001b[0m     num_qubits\u001b[38;5;241m=\u001b[39mcircuit\u001b[38;5;241m.\u001b[39mnum_qubits,\n\u001b[1;32m     77\u001b[0m     params\u001b[38;5;241m=\u001b[39m[\u001b[38;5;241m*\u001b[39mparameter_dict\u001b[38;5;241m.\u001b[39mvalues()],\n\u001b[1;32m     78\u001b[0m     label\u001b[38;5;241m=\u001b[39mlabel,\n\u001b[1;32m     79\u001b[0m )\n\u001b[1;32m     80\u001b[0m gate\u001b[38;5;241m.\u001b[39mcondition \u001b[38;5;241m=\u001b[39m \u001b[38;5;28;01mNone\u001b[39;00m\n\u001b[0;32m---> 82\u001b[0m target \u001b[38;5;241m=\u001b[39m \u001b[43mcircuit\u001b[49m\u001b[38;5;241;43m.\u001b[39;49m\u001b[43massign_parameters\u001b[49m\u001b[43m(\u001b[49m\u001b[43mparameter_dict\u001b[49m\u001b[43m,\u001b[49m\u001b[43m \u001b[49m\u001b[43minplace\u001b[49m\u001b[38;5;241;43m=\u001b[39;49m\u001b[38;5;28;43;01mFalse\u001b[39;49;00m\u001b[43m)\u001b[49m\n\u001b[1;32m     84\u001b[0m \u001b[38;5;28;01mif\u001b[39;00m equivalence_library \u001b[38;5;129;01mis\u001b[39;00m \u001b[38;5;129;01mnot\u001b[39;00m \u001b[38;5;28;01mNone\u001b[39;00m:\n\u001b[1;32m     85\u001b[0m     equivalence_library\u001b[38;5;241m.\u001b[39madd_equivalence(gate, target)\n",
      "File \u001b[0;32m~/anaconda3/envs/qc/lib/python3.10/site-packages/qiskit/circuit/quantumcircuit.py:2747\u001b[0m, in \u001b[0;36mQuantumCircuit.assign_parameters\u001b[0;34m(self, parameters, inplace, flat_input, strict)\u001b[0m\n\u001b[1;32m   2745\u001b[0m     target \u001b[38;5;241m=\u001b[39m \u001b[38;5;28mself\u001b[39m\n\u001b[1;32m   2746\u001b[0m \u001b[38;5;28;01melse\u001b[39;00m:\n\u001b[0;32m-> 2747\u001b[0m     target \u001b[38;5;241m=\u001b[39m \u001b[38;5;28;43mself\u001b[39;49m\u001b[38;5;241;43m.\u001b[39;49m\u001b[43mcopy\u001b[49m\u001b[43m(\u001b[49m\u001b[43m)\u001b[49m\n\u001b[1;32m   2748\u001b[0m     target\u001b[38;5;241m.\u001b[39m_increment_instances()\n\u001b[1;32m   2749\u001b[0m     target\u001b[38;5;241m.\u001b[39m_name_update()\n",
      "File \u001b[0;32m~/anaconda3/envs/qc/lib/python3.10/site-packages/qiskit/circuit/quantumcircuit.py:2190\u001b[0m, in \u001b[0;36mQuantumCircuit.copy\u001b[0;34m(self, name)\u001b[0m\n\u001b[1;32m   2180\u001b[0m \u001b[38;5;250m\u001b[39m\u001b[38;5;124;03m\"\"\"Copy the circuit.\u001b[39;00m\n\u001b[1;32m   2181\u001b[0m \n\u001b[1;32m   2182\u001b[0m \u001b[38;5;124;03mArgs:\u001b[39;00m\n\u001b[0;32m   (...)\u001b[0m\n\u001b[1;32m   2186\u001b[0m \u001b[38;5;124;03m  QuantumCircuit: a deepcopy of the current circuit, with the specified name\u001b[39;00m\n\u001b[1;32m   2187\u001b[0m \u001b[38;5;124;03m\"\"\"\u001b[39;00m\n\u001b[1;32m   2188\u001b[0m cpy \u001b[38;5;241m=\u001b[39m \u001b[38;5;28mself\u001b[39m\u001b[38;5;241m.\u001b[39mcopy_empty_like(name)\n\u001b[0;32m-> 2190\u001b[0m operation_copies \u001b[38;5;241m=\u001b[39m {\n\u001b[1;32m   2191\u001b[0m     \u001b[38;5;28mid\u001b[39m(instruction\u001b[38;5;241m.\u001b[39moperation): instruction\u001b[38;5;241m.\u001b[39moperation\u001b[38;5;241m.\u001b[39mcopy() \u001b[38;5;28;01mfor\u001b[39;00m instruction \u001b[38;5;129;01min\u001b[39;00m \u001b[38;5;28mself\u001b[39m\u001b[38;5;241m.\u001b[39m_data\n\u001b[1;32m   2192\u001b[0m }\n\u001b[1;32m   2194\u001b[0m cpy\u001b[38;5;241m.\u001b[39m_parameter_table \u001b[38;5;241m=\u001b[39m ParameterTable(\n\u001b[1;32m   2195\u001b[0m     {\n\u001b[1;32m   2196\u001b[0m         param: ParameterReferences(\n\u001b[0;32m   (...)\u001b[0m\n\u001b[1;32m   2201\u001b[0m     }\n\u001b[1;32m   2202\u001b[0m )\n\u001b[1;32m   2204\u001b[0m cpy\u001b[38;5;241m.\u001b[39m_data \u001b[38;5;241m=\u001b[39m [\n\u001b[1;32m   2205\u001b[0m     instruction\u001b[38;5;241m.\u001b[39mreplace(operation\u001b[38;5;241m=\u001b[39moperation_copies[\u001b[38;5;28mid\u001b[39m(instruction\u001b[38;5;241m.\u001b[39moperation)])\n\u001b[1;32m   2206\u001b[0m     \u001b[38;5;28;01mfor\u001b[39;00m instruction \u001b[38;5;129;01min\u001b[39;00m \u001b[38;5;28mself\u001b[39m\u001b[38;5;241m.\u001b[39m_data\n\u001b[1;32m   2207\u001b[0m ]\n",
      "File \u001b[0;32m~/anaconda3/envs/qc/lib/python3.10/site-packages/qiskit/circuit/quantumcircuit.py:2191\u001b[0m, in \u001b[0;36m<dictcomp>\u001b[0;34m(.0)\u001b[0m\n\u001b[1;32m   2180\u001b[0m \u001b[38;5;250m\u001b[39m\u001b[38;5;124;03m\"\"\"Copy the circuit.\u001b[39;00m\n\u001b[1;32m   2181\u001b[0m \n\u001b[1;32m   2182\u001b[0m \u001b[38;5;124;03mArgs:\u001b[39;00m\n\u001b[0;32m   (...)\u001b[0m\n\u001b[1;32m   2186\u001b[0m \u001b[38;5;124;03m  QuantumCircuit: a deepcopy of the current circuit, with the specified name\u001b[39;00m\n\u001b[1;32m   2187\u001b[0m \u001b[38;5;124;03m\"\"\"\u001b[39;00m\n\u001b[1;32m   2188\u001b[0m cpy \u001b[38;5;241m=\u001b[39m \u001b[38;5;28mself\u001b[39m\u001b[38;5;241m.\u001b[39mcopy_empty_like(name)\n\u001b[1;32m   2190\u001b[0m operation_copies \u001b[38;5;241m=\u001b[39m {\n\u001b[0;32m-> 2191\u001b[0m     \u001b[38;5;28mid\u001b[39m(instruction\u001b[38;5;241m.\u001b[39moperation): \u001b[43minstruction\u001b[49m\u001b[38;5;241;43m.\u001b[39;49m\u001b[43moperation\u001b[49m\u001b[38;5;241;43m.\u001b[39;49m\u001b[43mcopy\u001b[49m\u001b[43m(\u001b[49m\u001b[43m)\u001b[49m \u001b[38;5;28;01mfor\u001b[39;00m instruction \u001b[38;5;129;01min\u001b[39;00m \u001b[38;5;28mself\u001b[39m\u001b[38;5;241m.\u001b[39m_data\n\u001b[1;32m   2192\u001b[0m }\n\u001b[1;32m   2194\u001b[0m cpy\u001b[38;5;241m.\u001b[39m_parameter_table \u001b[38;5;241m=\u001b[39m ParameterTable(\n\u001b[1;32m   2195\u001b[0m     {\n\u001b[1;32m   2196\u001b[0m         param: ParameterReferences(\n\u001b[0;32m   (...)\u001b[0m\n\u001b[1;32m   2201\u001b[0m     }\n\u001b[1;32m   2202\u001b[0m )\n\u001b[1;32m   2204\u001b[0m cpy\u001b[38;5;241m.\u001b[39m_data \u001b[38;5;241m=\u001b[39m [\n\u001b[1;32m   2205\u001b[0m     instruction\u001b[38;5;241m.\u001b[39mreplace(operation\u001b[38;5;241m=\u001b[39moperation_copies[\u001b[38;5;28mid\u001b[39m(instruction\u001b[38;5;241m.\u001b[39moperation)])\n\u001b[1;32m   2206\u001b[0m     \u001b[38;5;28;01mfor\u001b[39;00m instruction \u001b[38;5;129;01min\u001b[39;00m \u001b[38;5;28mself\u001b[39m\u001b[38;5;241m.\u001b[39m_data\n\u001b[1;32m   2207\u001b[0m ]\n",
      "File \u001b[0;32m~/anaconda3/envs/qc/lib/python3.10/site-packages/qiskit/circuit/instruction.py:426\u001b[0m, in \u001b[0;36mInstruction.copy\u001b[0;34m(self, name)\u001b[0m\n\u001b[1;32m    415\u001b[0m \u001b[38;5;28;01mdef\u001b[39;00m \u001b[38;5;21mcopy\u001b[39m(\u001b[38;5;28mself\u001b[39m, name\u001b[38;5;241m=\u001b[39m\u001b[38;5;28;01mNone\u001b[39;00m):\n\u001b[1;32m    416\u001b[0m \u001b[38;5;250m    \u001b[39m\u001b[38;5;124;03m\"\"\"\u001b[39;00m\n\u001b[1;32m    417\u001b[0m \u001b[38;5;124;03m    Copy of the instruction.\u001b[39;00m\n\u001b[1;32m    418\u001b[0m \n\u001b[0;32m   (...)\u001b[0m\n\u001b[1;32m    424\u001b[0m \u001b[38;5;124;03m        was provided\u001b[39;00m\n\u001b[1;32m    425\u001b[0m \u001b[38;5;124;03m    \"\"\"\u001b[39;00m\n\u001b[0;32m--> 426\u001b[0m     cpy \u001b[38;5;241m=\u001b[39m \u001b[38;5;28;43mself\u001b[39;49m\u001b[38;5;241;43m.\u001b[39;49m\u001b[43m__deepcopy__\u001b[49m\u001b[43m(\u001b[49m\u001b[43m)\u001b[49m\n\u001b[1;32m    428\u001b[0m     \u001b[38;5;28;01mif\u001b[39;00m name:\n\u001b[1;32m    429\u001b[0m         cpy\u001b[38;5;241m.\u001b[39mname \u001b[38;5;241m=\u001b[39m name\n",
      "File \u001b[0;32m~/anaconda3/envs/qc/lib/python3.10/site-packages/qiskit/circuit/instruction.py:436\u001b[0m, in \u001b[0;36mInstruction.__deepcopy__\u001b[0;34m(self, _memo)\u001b[0m\n\u001b[1;32m    434\u001b[0m cpy\u001b[38;5;241m.\u001b[39m_params \u001b[38;5;241m=\u001b[39m copy\u001b[38;5;241m.\u001b[39mcopy(\u001b[38;5;28mself\u001b[39m\u001b[38;5;241m.\u001b[39m_params)\n\u001b[1;32m    435\u001b[0m \u001b[38;5;28;01mif\u001b[39;00m \u001b[38;5;28mself\u001b[39m\u001b[38;5;241m.\u001b[39m_definition:\n\u001b[0;32m--> 436\u001b[0m     cpy\u001b[38;5;241m.\u001b[39m_definition \u001b[38;5;241m=\u001b[39m \u001b[43mcopy\u001b[49m\u001b[38;5;241;43m.\u001b[39;49m\u001b[43mdeepcopy\u001b[49m\u001b[43m(\u001b[49m\u001b[38;5;28;43mself\u001b[39;49m\u001b[38;5;241;43m.\u001b[39;49m\u001b[43m_definition\u001b[49m\u001b[43m,\u001b[49m\u001b[43m \u001b[49m\u001b[43m_memo\u001b[49m\u001b[43m)\u001b[49m\n\u001b[1;32m    437\u001b[0m \u001b[38;5;28;01mreturn\u001b[39;00m cpy\n",
      "File \u001b[0;32m~/anaconda3/envs/qc/lib/python3.10/copy.py:172\u001b[0m, in \u001b[0;36mdeepcopy\u001b[0;34m(x, memo, _nil)\u001b[0m\n\u001b[1;32m    170\u001b[0m                 y \u001b[38;5;241m=\u001b[39m x\n\u001b[1;32m    171\u001b[0m             \u001b[38;5;28;01melse\u001b[39;00m:\n\u001b[0;32m--> 172\u001b[0m                 y \u001b[38;5;241m=\u001b[39m \u001b[43m_reconstruct\u001b[49m\u001b[43m(\u001b[49m\u001b[43mx\u001b[49m\u001b[43m,\u001b[49m\u001b[43m \u001b[49m\u001b[43mmemo\u001b[49m\u001b[43m,\u001b[49m\u001b[43m \u001b[49m\u001b[38;5;241;43m*\u001b[39;49m\u001b[43mrv\u001b[49m\u001b[43m)\u001b[49m\n\u001b[1;32m    174\u001b[0m \u001b[38;5;66;03m# If is its own copy, don't memoize.\u001b[39;00m\n\u001b[1;32m    175\u001b[0m \u001b[38;5;28;01mif\u001b[39;00m y \u001b[38;5;129;01mis\u001b[39;00m \u001b[38;5;129;01mnot\u001b[39;00m x:\n",
      "File \u001b[0;32m~/anaconda3/envs/qc/lib/python3.10/copy.py:271\u001b[0m, in \u001b[0;36m_reconstruct\u001b[0;34m(x, memo, func, args, state, listiter, dictiter, deepcopy)\u001b[0m\n\u001b[1;32m    269\u001b[0m \u001b[38;5;28;01mif\u001b[39;00m state \u001b[38;5;129;01mis\u001b[39;00m \u001b[38;5;129;01mnot\u001b[39;00m \u001b[38;5;28;01mNone\u001b[39;00m:\n\u001b[1;32m    270\u001b[0m     \u001b[38;5;28;01mif\u001b[39;00m deep:\n\u001b[0;32m--> 271\u001b[0m         state \u001b[38;5;241m=\u001b[39m \u001b[43mdeepcopy\u001b[49m\u001b[43m(\u001b[49m\u001b[43mstate\u001b[49m\u001b[43m,\u001b[49m\u001b[43m \u001b[49m\u001b[43mmemo\u001b[49m\u001b[43m)\u001b[49m\n\u001b[1;32m    272\u001b[0m     \u001b[38;5;28;01mif\u001b[39;00m \u001b[38;5;28mhasattr\u001b[39m(y, \u001b[38;5;124m'\u001b[39m\u001b[38;5;124m__setstate__\u001b[39m\u001b[38;5;124m'\u001b[39m):\n\u001b[1;32m    273\u001b[0m         y\u001b[38;5;241m.\u001b[39m__setstate__(state)\n",
      "File \u001b[0;32m~/anaconda3/envs/qc/lib/python3.10/copy.py:146\u001b[0m, in \u001b[0;36mdeepcopy\u001b[0;34m(x, memo, _nil)\u001b[0m\n\u001b[1;32m    144\u001b[0m copier \u001b[38;5;241m=\u001b[39m _deepcopy_dispatch\u001b[38;5;241m.\u001b[39mget(\u001b[38;5;28mcls\u001b[39m)\n\u001b[1;32m    145\u001b[0m \u001b[38;5;28;01mif\u001b[39;00m copier \u001b[38;5;129;01mis\u001b[39;00m \u001b[38;5;129;01mnot\u001b[39;00m \u001b[38;5;28;01mNone\u001b[39;00m:\n\u001b[0;32m--> 146\u001b[0m     y \u001b[38;5;241m=\u001b[39m \u001b[43mcopier\u001b[49m\u001b[43m(\u001b[49m\u001b[43mx\u001b[49m\u001b[43m,\u001b[49m\u001b[43m \u001b[49m\u001b[43mmemo\u001b[49m\u001b[43m)\u001b[49m\n\u001b[1;32m    147\u001b[0m \u001b[38;5;28;01melse\u001b[39;00m:\n\u001b[1;32m    148\u001b[0m     \u001b[38;5;28;01mif\u001b[39;00m \u001b[38;5;28missubclass\u001b[39m(\u001b[38;5;28mcls\u001b[39m, \u001b[38;5;28mtype\u001b[39m):\n",
      "File \u001b[0;32m~/anaconda3/envs/qc/lib/python3.10/copy.py:231\u001b[0m, in \u001b[0;36m_deepcopy_dict\u001b[0;34m(x, memo, deepcopy)\u001b[0m\n\u001b[1;32m    229\u001b[0m memo[\u001b[38;5;28mid\u001b[39m(x)] \u001b[38;5;241m=\u001b[39m y\n\u001b[1;32m    230\u001b[0m \u001b[38;5;28;01mfor\u001b[39;00m key, value \u001b[38;5;129;01min\u001b[39;00m x\u001b[38;5;241m.\u001b[39mitems():\n\u001b[0;32m--> 231\u001b[0m     y[deepcopy(key, memo)] \u001b[38;5;241m=\u001b[39m \u001b[43mdeepcopy\u001b[49m\u001b[43m(\u001b[49m\u001b[43mvalue\u001b[49m\u001b[43m,\u001b[49m\u001b[43m \u001b[49m\u001b[43mmemo\u001b[49m\u001b[43m)\u001b[49m\n\u001b[1;32m    232\u001b[0m \u001b[38;5;28;01mreturn\u001b[39;00m y\n",
      "File \u001b[0;32m~/anaconda3/envs/qc/lib/python3.10/copy.py:146\u001b[0m, in \u001b[0;36mdeepcopy\u001b[0;34m(x, memo, _nil)\u001b[0m\n\u001b[1;32m    144\u001b[0m copier \u001b[38;5;241m=\u001b[39m _deepcopy_dispatch\u001b[38;5;241m.\u001b[39mget(\u001b[38;5;28mcls\u001b[39m)\n\u001b[1;32m    145\u001b[0m \u001b[38;5;28;01mif\u001b[39;00m copier \u001b[38;5;129;01mis\u001b[39;00m \u001b[38;5;129;01mnot\u001b[39;00m \u001b[38;5;28;01mNone\u001b[39;00m:\n\u001b[0;32m--> 146\u001b[0m     y \u001b[38;5;241m=\u001b[39m \u001b[43mcopier\u001b[49m\u001b[43m(\u001b[49m\u001b[43mx\u001b[49m\u001b[43m,\u001b[49m\u001b[43m \u001b[49m\u001b[43mmemo\u001b[49m\u001b[43m)\u001b[49m\n\u001b[1;32m    147\u001b[0m \u001b[38;5;28;01melse\u001b[39;00m:\n\u001b[1;32m    148\u001b[0m     \u001b[38;5;28;01mif\u001b[39;00m \u001b[38;5;28missubclass\u001b[39m(\u001b[38;5;28mcls\u001b[39m, \u001b[38;5;28mtype\u001b[39m):\n",
      "File \u001b[0;32m~/anaconda3/envs/qc/lib/python3.10/copy.py:206\u001b[0m, in \u001b[0;36m_deepcopy_list\u001b[0;34m(x, memo, deepcopy)\u001b[0m\n\u001b[1;32m    204\u001b[0m append \u001b[38;5;241m=\u001b[39m y\u001b[38;5;241m.\u001b[39mappend\n\u001b[1;32m    205\u001b[0m \u001b[38;5;28;01mfor\u001b[39;00m a \u001b[38;5;129;01min\u001b[39;00m x:\n\u001b[0;32m--> 206\u001b[0m     append(\u001b[43mdeepcopy\u001b[49m\u001b[43m(\u001b[49m\u001b[43ma\u001b[49m\u001b[43m,\u001b[49m\u001b[43m \u001b[49m\u001b[43mmemo\u001b[49m\u001b[43m)\u001b[49m)\n\u001b[1;32m    207\u001b[0m \u001b[38;5;28;01mreturn\u001b[39;00m y\n",
      "File \u001b[0;32m~/anaconda3/envs/qc/lib/python3.10/copy.py:172\u001b[0m, in \u001b[0;36mdeepcopy\u001b[0;34m(x, memo, _nil)\u001b[0m\n\u001b[1;32m    170\u001b[0m                 y \u001b[38;5;241m=\u001b[39m x\n\u001b[1;32m    171\u001b[0m             \u001b[38;5;28;01melse\u001b[39;00m:\n\u001b[0;32m--> 172\u001b[0m                 y \u001b[38;5;241m=\u001b[39m \u001b[43m_reconstruct\u001b[49m\u001b[43m(\u001b[49m\u001b[43mx\u001b[49m\u001b[43m,\u001b[49m\u001b[43m \u001b[49m\u001b[43mmemo\u001b[49m\u001b[43m,\u001b[49m\u001b[43m \u001b[49m\u001b[38;5;241;43m*\u001b[39;49m\u001b[43mrv\u001b[49m\u001b[43m)\u001b[49m\n\u001b[1;32m    174\u001b[0m \u001b[38;5;66;03m# If is its own copy, don't memoize.\u001b[39;00m\n\u001b[1;32m    175\u001b[0m \u001b[38;5;28;01mif\u001b[39;00m y \u001b[38;5;129;01mis\u001b[39;00m \u001b[38;5;129;01mnot\u001b[39;00m x:\n",
      "File \u001b[0;32m~/anaconda3/envs/qc/lib/python3.10/copy.py:271\u001b[0m, in \u001b[0;36m_reconstruct\u001b[0;34m(x, memo, func, args, state, listiter, dictiter, deepcopy)\u001b[0m\n\u001b[1;32m    269\u001b[0m \u001b[38;5;28;01mif\u001b[39;00m state \u001b[38;5;129;01mis\u001b[39;00m \u001b[38;5;129;01mnot\u001b[39;00m \u001b[38;5;28;01mNone\u001b[39;00m:\n\u001b[1;32m    270\u001b[0m     \u001b[38;5;28;01mif\u001b[39;00m deep:\n\u001b[0;32m--> 271\u001b[0m         state \u001b[38;5;241m=\u001b[39m \u001b[43mdeepcopy\u001b[49m\u001b[43m(\u001b[49m\u001b[43mstate\u001b[49m\u001b[43m,\u001b[49m\u001b[43m \u001b[49m\u001b[43mmemo\u001b[49m\u001b[43m)\u001b[49m\n\u001b[1;32m    272\u001b[0m     \u001b[38;5;28;01mif\u001b[39;00m \u001b[38;5;28mhasattr\u001b[39m(y, \u001b[38;5;124m'\u001b[39m\u001b[38;5;124m__setstate__\u001b[39m\u001b[38;5;124m'\u001b[39m):\n\u001b[1;32m    273\u001b[0m         y\u001b[38;5;241m.\u001b[39m__setstate__(state)\n",
      "File \u001b[0;32m~/anaconda3/envs/qc/lib/python3.10/copy.py:146\u001b[0m, in \u001b[0;36mdeepcopy\u001b[0;34m(x, memo, _nil)\u001b[0m\n\u001b[1;32m    144\u001b[0m copier \u001b[38;5;241m=\u001b[39m _deepcopy_dispatch\u001b[38;5;241m.\u001b[39mget(\u001b[38;5;28mcls\u001b[39m)\n\u001b[1;32m    145\u001b[0m \u001b[38;5;28;01mif\u001b[39;00m copier \u001b[38;5;129;01mis\u001b[39;00m \u001b[38;5;129;01mnot\u001b[39;00m \u001b[38;5;28;01mNone\u001b[39;00m:\n\u001b[0;32m--> 146\u001b[0m     y \u001b[38;5;241m=\u001b[39m \u001b[43mcopier\u001b[49m\u001b[43m(\u001b[49m\u001b[43mx\u001b[49m\u001b[43m,\u001b[49m\u001b[43m \u001b[49m\u001b[43mmemo\u001b[49m\u001b[43m)\u001b[49m\n\u001b[1;32m    147\u001b[0m \u001b[38;5;28;01melse\u001b[39;00m:\n\u001b[1;32m    148\u001b[0m     \u001b[38;5;28;01mif\u001b[39;00m \u001b[38;5;28missubclass\u001b[39m(\u001b[38;5;28mcls\u001b[39m, \u001b[38;5;28mtype\u001b[39m):\n",
      "File \u001b[0;32m~/anaconda3/envs/qc/lib/python3.10/copy.py:211\u001b[0m, in \u001b[0;36m_deepcopy_tuple\u001b[0;34m(x, memo, deepcopy)\u001b[0m\n\u001b[1;32m    210\u001b[0m \u001b[38;5;28;01mdef\u001b[39;00m \u001b[38;5;21m_deepcopy_tuple\u001b[39m(x, memo, deepcopy\u001b[38;5;241m=\u001b[39mdeepcopy):\n\u001b[0;32m--> 211\u001b[0m     y \u001b[38;5;241m=\u001b[39m [deepcopy(a, memo) \u001b[38;5;28;01mfor\u001b[39;00m a \u001b[38;5;129;01min\u001b[39;00m x]\n\u001b[1;32m    212\u001b[0m     \u001b[38;5;66;03m# We're not going to put the tuple in the memo, but it's still important we\u001b[39;00m\n\u001b[1;32m    213\u001b[0m     \u001b[38;5;66;03m# check for it, in case the tuple contains recursive mutable structures.\u001b[39;00m\n\u001b[1;32m    214\u001b[0m     \u001b[38;5;28;01mtry\u001b[39;00m:\n",
      "File \u001b[0;32m~/anaconda3/envs/qc/lib/python3.10/copy.py:211\u001b[0m, in \u001b[0;36m<listcomp>\u001b[0;34m(.0)\u001b[0m\n\u001b[1;32m    210\u001b[0m \u001b[38;5;28;01mdef\u001b[39;00m \u001b[38;5;21m_deepcopy_tuple\u001b[39m(x, memo, deepcopy\u001b[38;5;241m=\u001b[39mdeepcopy):\n\u001b[0;32m--> 211\u001b[0m     y \u001b[38;5;241m=\u001b[39m [\u001b[43mdeepcopy\u001b[49m\u001b[43m(\u001b[49m\u001b[43ma\u001b[49m\u001b[43m,\u001b[49m\u001b[43m \u001b[49m\u001b[43mmemo\u001b[49m\u001b[43m)\u001b[49m \u001b[38;5;28;01mfor\u001b[39;00m a \u001b[38;5;129;01min\u001b[39;00m x]\n\u001b[1;32m    212\u001b[0m     \u001b[38;5;66;03m# We're not going to put the tuple in the memo, but it's still important we\u001b[39;00m\n\u001b[1;32m    213\u001b[0m     \u001b[38;5;66;03m# check for it, in case the tuple contains recursive mutable structures.\u001b[39;00m\n\u001b[1;32m    214\u001b[0m     \u001b[38;5;28;01mtry\u001b[39;00m:\n",
      "File \u001b[0;32m~/anaconda3/envs/qc/lib/python3.10/copy.py:146\u001b[0m, in \u001b[0;36mdeepcopy\u001b[0;34m(x, memo, _nil)\u001b[0m\n\u001b[1;32m    144\u001b[0m copier \u001b[38;5;241m=\u001b[39m _deepcopy_dispatch\u001b[38;5;241m.\u001b[39mget(\u001b[38;5;28mcls\u001b[39m)\n\u001b[1;32m    145\u001b[0m \u001b[38;5;28;01mif\u001b[39;00m copier \u001b[38;5;129;01mis\u001b[39;00m \u001b[38;5;129;01mnot\u001b[39;00m \u001b[38;5;28;01mNone\u001b[39;00m:\n\u001b[0;32m--> 146\u001b[0m     y \u001b[38;5;241m=\u001b[39m \u001b[43mcopier\u001b[49m\u001b[43m(\u001b[49m\u001b[43mx\u001b[49m\u001b[43m,\u001b[49m\u001b[43m \u001b[49m\u001b[43mmemo\u001b[49m\u001b[43m)\u001b[49m\n\u001b[1;32m    147\u001b[0m \u001b[38;5;28;01melse\u001b[39;00m:\n\u001b[1;32m    148\u001b[0m     \u001b[38;5;28;01mif\u001b[39;00m \u001b[38;5;28missubclass\u001b[39m(\u001b[38;5;28mcls\u001b[39m, \u001b[38;5;28mtype\u001b[39m):\n",
      "File \u001b[0;32m~/anaconda3/envs/qc/lib/python3.10/copy.py:231\u001b[0m, in \u001b[0;36m_deepcopy_dict\u001b[0;34m(x, memo, deepcopy)\u001b[0m\n\u001b[1;32m    229\u001b[0m memo[\u001b[38;5;28mid\u001b[39m(x)] \u001b[38;5;241m=\u001b[39m y\n\u001b[1;32m    230\u001b[0m \u001b[38;5;28;01mfor\u001b[39;00m key, value \u001b[38;5;129;01min\u001b[39;00m x\u001b[38;5;241m.\u001b[39mitems():\n\u001b[0;32m--> 231\u001b[0m     y[deepcopy(key, memo)] \u001b[38;5;241m=\u001b[39m \u001b[43mdeepcopy\u001b[49m\u001b[43m(\u001b[49m\u001b[43mvalue\u001b[49m\u001b[43m,\u001b[49m\u001b[43m \u001b[49m\u001b[43mmemo\u001b[49m\u001b[43m)\u001b[49m\n\u001b[1;32m    232\u001b[0m \u001b[38;5;28;01mreturn\u001b[39;00m y\n",
      "File \u001b[0;32m~/anaconda3/envs/qc/lib/python3.10/copy.py:153\u001b[0m, in \u001b[0;36mdeepcopy\u001b[0;34m(x, memo, _nil)\u001b[0m\n\u001b[1;32m    151\u001b[0m copier \u001b[38;5;241m=\u001b[39m \u001b[38;5;28mgetattr\u001b[39m(x, \u001b[38;5;124m\"\u001b[39m\u001b[38;5;124m__deepcopy__\u001b[39m\u001b[38;5;124m\"\u001b[39m, \u001b[38;5;28;01mNone\u001b[39;00m)\n\u001b[1;32m    152\u001b[0m \u001b[38;5;28;01mif\u001b[39;00m copier \u001b[38;5;129;01mis\u001b[39;00m \u001b[38;5;129;01mnot\u001b[39;00m \u001b[38;5;28;01mNone\u001b[39;00m:\n\u001b[0;32m--> 153\u001b[0m     y \u001b[38;5;241m=\u001b[39m \u001b[43mcopier\u001b[49m\u001b[43m(\u001b[49m\u001b[43mmemo\u001b[49m\u001b[43m)\u001b[49m\n\u001b[1;32m    154\u001b[0m \u001b[38;5;28;01melse\u001b[39;00m:\n\u001b[1;32m    155\u001b[0m     reductor \u001b[38;5;241m=\u001b[39m dispatch_table\u001b[38;5;241m.\u001b[39mget(\u001b[38;5;28mcls\u001b[39m)\n",
      "File \u001b[0;32m~/anaconda3/envs/qc/lib/python3.10/site-packages/qiskit/circuit/instruction.py:436\u001b[0m, in \u001b[0;36mInstruction.__deepcopy__\u001b[0;34m(self, _memo)\u001b[0m\n\u001b[1;32m    434\u001b[0m cpy\u001b[38;5;241m.\u001b[39m_params \u001b[38;5;241m=\u001b[39m copy\u001b[38;5;241m.\u001b[39mcopy(\u001b[38;5;28mself\u001b[39m\u001b[38;5;241m.\u001b[39m_params)\n\u001b[1;32m    435\u001b[0m \u001b[38;5;28;01mif\u001b[39;00m \u001b[38;5;28mself\u001b[39m\u001b[38;5;241m.\u001b[39m_definition:\n\u001b[0;32m--> 436\u001b[0m     cpy\u001b[38;5;241m.\u001b[39m_definition \u001b[38;5;241m=\u001b[39m \u001b[43mcopy\u001b[49m\u001b[38;5;241;43m.\u001b[39;49m\u001b[43mdeepcopy\u001b[49m\u001b[43m(\u001b[49m\u001b[38;5;28;43mself\u001b[39;49m\u001b[38;5;241;43m.\u001b[39;49m\u001b[43m_definition\u001b[49m\u001b[43m,\u001b[49m\u001b[43m \u001b[49m\u001b[43m_memo\u001b[49m\u001b[43m)\u001b[49m\n\u001b[1;32m    437\u001b[0m \u001b[38;5;28;01mreturn\u001b[39;00m cpy\n",
      "File \u001b[0;32m~/anaconda3/envs/qc/lib/python3.10/copy.py:172\u001b[0m, in \u001b[0;36mdeepcopy\u001b[0;34m(x, memo, _nil)\u001b[0m\n\u001b[1;32m    170\u001b[0m                 y \u001b[38;5;241m=\u001b[39m x\n\u001b[1;32m    171\u001b[0m             \u001b[38;5;28;01melse\u001b[39;00m:\n\u001b[0;32m--> 172\u001b[0m                 y \u001b[38;5;241m=\u001b[39m \u001b[43m_reconstruct\u001b[49m\u001b[43m(\u001b[49m\u001b[43mx\u001b[49m\u001b[43m,\u001b[49m\u001b[43m \u001b[49m\u001b[43mmemo\u001b[49m\u001b[43m,\u001b[49m\u001b[43m \u001b[49m\u001b[38;5;241;43m*\u001b[39;49m\u001b[43mrv\u001b[49m\u001b[43m)\u001b[49m\n\u001b[1;32m    174\u001b[0m \u001b[38;5;66;03m# If is its own copy, don't memoize.\u001b[39;00m\n\u001b[1;32m    175\u001b[0m \u001b[38;5;28;01mif\u001b[39;00m y \u001b[38;5;129;01mis\u001b[39;00m \u001b[38;5;129;01mnot\u001b[39;00m x:\n",
      "File \u001b[0;32m~/anaconda3/envs/qc/lib/python3.10/copy.py:271\u001b[0m, in \u001b[0;36m_reconstruct\u001b[0;34m(x, memo, func, args, state, listiter, dictiter, deepcopy)\u001b[0m\n\u001b[1;32m    269\u001b[0m \u001b[38;5;28;01mif\u001b[39;00m state \u001b[38;5;129;01mis\u001b[39;00m \u001b[38;5;129;01mnot\u001b[39;00m \u001b[38;5;28;01mNone\u001b[39;00m:\n\u001b[1;32m    270\u001b[0m     \u001b[38;5;28;01mif\u001b[39;00m deep:\n\u001b[0;32m--> 271\u001b[0m         state \u001b[38;5;241m=\u001b[39m \u001b[43mdeepcopy\u001b[49m\u001b[43m(\u001b[49m\u001b[43mstate\u001b[49m\u001b[43m,\u001b[49m\u001b[43m \u001b[49m\u001b[43mmemo\u001b[49m\u001b[43m)\u001b[49m\n\u001b[1;32m    272\u001b[0m     \u001b[38;5;28;01mif\u001b[39;00m \u001b[38;5;28mhasattr\u001b[39m(y, \u001b[38;5;124m'\u001b[39m\u001b[38;5;124m__setstate__\u001b[39m\u001b[38;5;124m'\u001b[39m):\n\u001b[1;32m    273\u001b[0m         y\u001b[38;5;241m.\u001b[39m__setstate__(state)\n",
      "File \u001b[0;32m~/anaconda3/envs/qc/lib/python3.10/copy.py:146\u001b[0m, in \u001b[0;36mdeepcopy\u001b[0;34m(x, memo, _nil)\u001b[0m\n\u001b[1;32m    144\u001b[0m copier \u001b[38;5;241m=\u001b[39m _deepcopy_dispatch\u001b[38;5;241m.\u001b[39mget(\u001b[38;5;28mcls\u001b[39m)\n\u001b[1;32m    145\u001b[0m \u001b[38;5;28;01mif\u001b[39;00m copier \u001b[38;5;129;01mis\u001b[39;00m \u001b[38;5;129;01mnot\u001b[39;00m \u001b[38;5;28;01mNone\u001b[39;00m:\n\u001b[0;32m--> 146\u001b[0m     y \u001b[38;5;241m=\u001b[39m \u001b[43mcopier\u001b[49m\u001b[43m(\u001b[49m\u001b[43mx\u001b[49m\u001b[43m,\u001b[49m\u001b[43m \u001b[49m\u001b[43mmemo\u001b[49m\u001b[43m)\u001b[49m\n\u001b[1;32m    147\u001b[0m \u001b[38;5;28;01melse\u001b[39;00m:\n\u001b[1;32m    148\u001b[0m     \u001b[38;5;28;01mif\u001b[39;00m \u001b[38;5;28missubclass\u001b[39m(\u001b[38;5;28mcls\u001b[39m, \u001b[38;5;28mtype\u001b[39m):\n",
      "File \u001b[0;32m~/anaconda3/envs/qc/lib/python3.10/copy.py:231\u001b[0m, in \u001b[0;36m_deepcopy_dict\u001b[0;34m(x, memo, deepcopy)\u001b[0m\n\u001b[1;32m    229\u001b[0m memo[\u001b[38;5;28mid\u001b[39m(x)] \u001b[38;5;241m=\u001b[39m y\n\u001b[1;32m    230\u001b[0m \u001b[38;5;28;01mfor\u001b[39;00m key, value \u001b[38;5;129;01min\u001b[39;00m x\u001b[38;5;241m.\u001b[39mitems():\n\u001b[0;32m--> 231\u001b[0m     y[deepcopy(key, memo)] \u001b[38;5;241m=\u001b[39m \u001b[43mdeepcopy\u001b[49m\u001b[43m(\u001b[49m\u001b[43mvalue\u001b[49m\u001b[43m,\u001b[49m\u001b[43m \u001b[49m\u001b[43mmemo\u001b[49m\u001b[43m)\u001b[49m\n\u001b[1;32m    232\u001b[0m \u001b[38;5;28;01mreturn\u001b[39;00m y\n",
      "File \u001b[0;32m~/anaconda3/envs/qc/lib/python3.10/copy.py:172\u001b[0m, in \u001b[0;36mdeepcopy\u001b[0;34m(x, memo, _nil)\u001b[0m\n\u001b[1;32m    170\u001b[0m                 y \u001b[38;5;241m=\u001b[39m x\n\u001b[1;32m    171\u001b[0m             \u001b[38;5;28;01melse\u001b[39;00m:\n\u001b[0;32m--> 172\u001b[0m                 y \u001b[38;5;241m=\u001b[39m \u001b[43m_reconstruct\u001b[49m\u001b[43m(\u001b[49m\u001b[43mx\u001b[49m\u001b[43m,\u001b[49m\u001b[43m \u001b[49m\u001b[43mmemo\u001b[49m\u001b[43m,\u001b[49m\u001b[43m \u001b[49m\u001b[38;5;241;43m*\u001b[39;49m\u001b[43mrv\u001b[49m\u001b[43m)\u001b[49m\n\u001b[1;32m    174\u001b[0m \u001b[38;5;66;03m# If is its own copy, don't memoize.\u001b[39;00m\n\u001b[1;32m    175\u001b[0m \u001b[38;5;28;01mif\u001b[39;00m y \u001b[38;5;129;01mis\u001b[39;00m \u001b[38;5;129;01mnot\u001b[39;00m x:\n",
      "File \u001b[0;32m~/anaconda3/envs/qc/lib/python3.10/copy.py:271\u001b[0m, in \u001b[0;36m_reconstruct\u001b[0;34m(x, memo, func, args, state, listiter, dictiter, deepcopy)\u001b[0m\n\u001b[1;32m    269\u001b[0m \u001b[38;5;28;01mif\u001b[39;00m state \u001b[38;5;129;01mis\u001b[39;00m \u001b[38;5;129;01mnot\u001b[39;00m \u001b[38;5;28;01mNone\u001b[39;00m:\n\u001b[1;32m    270\u001b[0m     \u001b[38;5;28;01mif\u001b[39;00m deep:\n\u001b[0;32m--> 271\u001b[0m         state \u001b[38;5;241m=\u001b[39m \u001b[43mdeepcopy\u001b[49m\u001b[43m(\u001b[49m\u001b[43mstate\u001b[49m\u001b[43m,\u001b[49m\u001b[43m \u001b[49m\u001b[43mmemo\u001b[49m\u001b[43m)\u001b[49m\n\u001b[1;32m    272\u001b[0m     \u001b[38;5;28;01mif\u001b[39;00m \u001b[38;5;28mhasattr\u001b[39m(y, \u001b[38;5;124m'\u001b[39m\u001b[38;5;124m__setstate__\u001b[39m\u001b[38;5;124m'\u001b[39m):\n\u001b[1;32m    273\u001b[0m         y\u001b[38;5;241m.\u001b[39m__setstate__(state)\n",
      "File \u001b[0;32m~/anaconda3/envs/qc/lib/python3.10/copy.py:146\u001b[0m, in \u001b[0;36mdeepcopy\u001b[0;34m(x, memo, _nil)\u001b[0m\n\u001b[1;32m    144\u001b[0m copier \u001b[38;5;241m=\u001b[39m _deepcopy_dispatch\u001b[38;5;241m.\u001b[39mget(\u001b[38;5;28mcls\u001b[39m)\n\u001b[1;32m    145\u001b[0m \u001b[38;5;28;01mif\u001b[39;00m copier \u001b[38;5;129;01mis\u001b[39;00m \u001b[38;5;129;01mnot\u001b[39;00m \u001b[38;5;28;01mNone\u001b[39;00m:\n\u001b[0;32m--> 146\u001b[0m     y \u001b[38;5;241m=\u001b[39m \u001b[43mcopier\u001b[49m\u001b[43m(\u001b[49m\u001b[43mx\u001b[49m\u001b[43m,\u001b[49m\u001b[43m \u001b[49m\u001b[43mmemo\u001b[49m\u001b[43m)\u001b[49m\n\u001b[1;32m    147\u001b[0m \u001b[38;5;28;01melse\u001b[39;00m:\n\u001b[1;32m    148\u001b[0m     \u001b[38;5;28;01mif\u001b[39;00m \u001b[38;5;28missubclass\u001b[39m(\u001b[38;5;28mcls\u001b[39m, \u001b[38;5;28mtype\u001b[39m):\n",
      "File \u001b[0;32m~/anaconda3/envs/qc/lib/python3.10/copy.py:211\u001b[0m, in \u001b[0;36m_deepcopy_tuple\u001b[0;34m(x, memo, deepcopy)\u001b[0m\n\u001b[1;32m    210\u001b[0m \u001b[38;5;28;01mdef\u001b[39;00m \u001b[38;5;21m_deepcopy_tuple\u001b[39m(x, memo, deepcopy\u001b[38;5;241m=\u001b[39mdeepcopy):\n\u001b[0;32m--> 211\u001b[0m     y \u001b[38;5;241m=\u001b[39m [deepcopy(a, memo) \u001b[38;5;28;01mfor\u001b[39;00m a \u001b[38;5;129;01min\u001b[39;00m x]\n\u001b[1;32m    212\u001b[0m     \u001b[38;5;66;03m# We're not going to put the tuple in the memo, but it's still important we\u001b[39;00m\n\u001b[1;32m    213\u001b[0m     \u001b[38;5;66;03m# check for it, in case the tuple contains recursive mutable structures.\u001b[39;00m\n\u001b[1;32m    214\u001b[0m     \u001b[38;5;28;01mtry\u001b[39;00m:\n",
      "File \u001b[0;32m~/anaconda3/envs/qc/lib/python3.10/copy.py:211\u001b[0m, in \u001b[0;36m<listcomp>\u001b[0;34m(.0)\u001b[0m\n\u001b[1;32m    210\u001b[0m \u001b[38;5;28;01mdef\u001b[39;00m \u001b[38;5;21m_deepcopy_tuple\u001b[39m(x, memo, deepcopy\u001b[38;5;241m=\u001b[39mdeepcopy):\n\u001b[0;32m--> 211\u001b[0m     y \u001b[38;5;241m=\u001b[39m [\u001b[43mdeepcopy\u001b[49m\u001b[43m(\u001b[49m\u001b[43ma\u001b[49m\u001b[43m,\u001b[49m\u001b[43m \u001b[49m\u001b[43mmemo\u001b[49m\u001b[43m)\u001b[49m \u001b[38;5;28;01mfor\u001b[39;00m a \u001b[38;5;129;01min\u001b[39;00m x]\n\u001b[1;32m    212\u001b[0m     \u001b[38;5;66;03m# We're not going to put the tuple in the memo, but it's still important we\u001b[39;00m\n\u001b[1;32m    213\u001b[0m     \u001b[38;5;66;03m# check for it, in case the tuple contains recursive mutable structures.\u001b[39;00m\n\u001b[1;32m    214\u001b[0m     \u001b[38;5;28;01mtry\u001b[39;00m:\n",
      "File \u001b[0;32m~/anaconda3/envs/qc/lib/python3.10/copy.py:146\u001b[0m, in \u001b[0;36mdeepcopy\u001b[0;34m(x, memo, _nil)\u001b[0m\n\u001b[1;32m    144\u001b[0m copier \u001b[38;5;241m=\u001b[39m _deepcopy_dispatch\u001b[38;5;241m.\u001b[39mget(\u001b[38;5;28mcls\u001b[39m)\n\u001b[1;32m    145\u001b[0m \u001b[38;5;28;01mif\u001b[39;00m copier \u001b[38;5;129;01mis\u001b[39;00m \u001b[38;5;129;01mnot\u001b[39;00m \u001b[38;5;28;01mNone\u001b[39;00m:\n\u001b[0;32m--> 146\u001b[0m     y \u001b[38;5;241m=\u001b[39m \u001b[43mcopier\u001b[49m\u001b[43m(\u001b[49m\u001b[43mx\u001b[49m\u001b[43m,\u001b[49m\u001b[43m \u001b[49m\u001b[43mmemo\u001b[49m\u001b[43m)\u001b[49m\n\u001b[1;32m    147\u001b[0m \u001b[38;5;28;01melse\u001b[39;00m:\n\u001b[1;32m    148\u001b[0m     \u001b[38;5;28;01mif\u001b[39;00m \u001b[38;5;28missubclass\u001b[39m(\u001b[38;5;28mcls\u001b[39m, \u001b[38;5;28mtype\u001b[39m):\n",
      "File \u001b[0;32m~/anaconda3/envs/qc/lib/python3.10/copy.py:231\u001b[0m, in \u001b[0;36m_deepcopy_dict\u001b[0;34m(x, memo, deepcopy)\u001b[0m\n\u001b[1;32m    229\u001b[0m memo[\u001b[38;5;28mid\u001b[39m(x)] \u001b[38;5;241m=\u001b[39m y\n\u001b[1;32m    230\u001b[0m \u001b[38;5;28;01mfor\u001b[39;00m key, value \u001b[38;5;129;01min\u001b[39;00m x\u001b[38;5;241m.\u001b[39mitems():\n\u001b[0;32m--> 231\u001b[0m     y[deepcopy(key, memo)] \u001b[38;5;241m=\u001b[39m \u001b[43mdeepcopy\u001b[49m\u001b[43m(\u001b[49m\u001b[43mvalue\u001b[49m\u001b[43m,\u001b[49m\u001b[43m \u001b[49m\u001b[43mmemo\u001b[49m\u001b[43m)\u001b[49m\n\u001b[1;32m    232\u001b[0m \u001b[38;5;28;01mreturn\u001b[39;00m y\n",
      "File \u001b[0;32m~/anaconda3/envs/qc/lib/python3.10/copy.py:172\u001b[0m, in \u001b[0;36mdeepcopy\u001b[0;34m(x, memo, _nil)\u001b[0m\n\u001b[1;32m    170\u001b[0m                 y \u001b[38;5;241m=\u001b[39m x\n\u001b[1;32m    171\u001b[0m             \u001b[38;5;28;01melse\u001b[39;00m:\n\u001b[0;32m--> 172\u001b[0m                 y \u001b[38;5;241m=\u001b[39m \u001b[43m_reconstruct\u001b[49m\u001b[43m(\u001b[49m\u001b[43mx\u001b[49m\u001b[43m,\u001b[49m\u001b[43m \u001b[49m\u001b[43mmemo\u001b[49m\u001b[43m,\u001b[49m\u001b[43m \u001b[49m\u001b[38;5;241;43m*\u001b[39;49m\u001b[43mrv\u001b[49m\u001b[43m)\u001b[49m\n\u001b[1;32m    174\u001b[0m \u001b[38;5;66;03m# If is its own copy, don't memoize.\u001b[39;00m\n\u001b[1;32m    175\u001b[0m \u001b[38;5;28;01mif\u001b[39;00m y \u001b[38;5;129;01mis\u001b[39;00m \u001b[38;5;129;01mnot\u001b[39;00m x:\n",
      "File \u001b[0;32m~/anaconda3/envs/qc/lib/python3.10/copy.py:264\u001b[0m, in \u001b[0;36m_reconstruct\u001b[0;34m(x, memo, func, args, state, listiter, dictiter, deepcopy)\u001b[0m\n\u001b[1;32m    262\u001b[0m deep \u001b[38;5;241m=\u001b[39m memo \u001b[38;5;129;01mis\u001b[39;00m \u001b[38;5;129;01mnot\u001b[39;00m \u001b[38;5;28;01mNone\u001b[39;00m\n\u001b[1;32m    263\u001b[0m \u001b[38;5;28;01mif\u001b[39;00m deep \u001b[38;5;129;01mand\u001b[39;00m args:\n\u001b[0;32m--> 264\u001b[0m     args \u001b[38;5;241m=\u001b[39m (deepcopy(arg, memo) \u001b[38;5;28;01mfor\u001b[39;00m arg \u001b[38;5;129;01min\u001b[39;00m args)\n\u001b[1;32m    265\u001b[0m y \u001b[38;5;241m=\u001b[39m func(\u001b[38;5;241m*\u001b[39margs)\n\u001b[1;32m    266\u001b[0m \u001b[38;5;28;01mif\u001b[39;00m deep:\n",
      "\u001b[0;31mKeyboardInterrupt\u001b[0m: "
     ]
    }
   ],
   "source": [
    "nsteps = 150\n",
    "coeffs_blan = oc.SplittingMethod.blanes_moan().coeffs\n",
    "qc_cU_ins = qc_heisenberg_cf_U(J[0], J[1], J[2], c1, c2, nsteps, coeffs_blan, False)\n",
    "qc_cU_conj_ins = qc_heisenberg_cf_U(J[0], J[1], J[2], c1, c2, nsteps, coeffs_blan, True)\n",
    "\n",
    "qc_U_ins = qc_heisenberg_U(J[0], J[1], J[2], c1, c2, nsteps, coeffs_blan)\n",
    "backend = Aer.get_backend(\"unitary_simulator\")\n",
    "qc_U_unit = execute(transpile(qc_U_ins), backend).result().get_unitary(qc_U_ins, L).data\n",
    "U = scipy.linalg.expm(-1j*(c1/2*hamil + c2*np.identity(2**L)))\n",
    "print(\"Time evolution encoding, absolute error: \", np.linalg.norm(U-qc_U_unit, ord=2))\n",
    "\n",
    "\n",
    "a_est = fuzzy_bisection_noisy(qc_qetu, L, 0, 0,\n",
    "                              0, 1, 18, 1e-3, 0, 2, 0, a_values, \n",
    "                              1e-5, nshots=1e2, qetu_layers=3,\n",
    "                              ground_state=eigenvectors_sort[:, 0],\n",
    "                              qetu_initial_state=np.kron(np.array([1,0]), end_state_lind),\n",
    "                              qc_cU_custom=(qc_cU_ins, qc_cU_conj_ins), split_U=1,\n",
    "                             )"
   ]
  },
  {
   "cell_type": "code",
   "execution_count": null,
   "id": "89a52cec",
   "metadata": {},
   "outputs": [],
   "source": [
    "# We cannot get anything sensible from the above search but we showed that the lower bound \n",
    "# for L=4 is 1e-2 abs error for 1e-5 depolar. prob."
   ]
  },
  {
   "cell_type": "code",
   "execution_count": null,
   "id": "eccc4ac2",
   "metadata": {},
   "outputs": [],
   "source": []
  },
  {
   "cell_type": "code",
   "execution_count": null,
   "id": "75b96979",
   "metadata": {},
   "outputs": [],
   "source": []
  },
  {
   "cell_type": "code",
   "execution_count": null,
   "id": "36e3c583",
   "metadata": {},
   "outputs": [],
   "source": []
  },
  {
   "cell_type": "code",
   "execution_count": null,
   "id": "e7399351",
   "metadata": {},
   "outputs": [],
   "source": []
  },
  {
   "cell_type": "code",
   "execution_count": null,
   "id": "ce524fcc",
   "metadata": {},
   "outputs": [],
   "source": []
  },
  {
   "cell_type": "code",
   "execution_count": null,
   "id": "b987eb35",
   "metadata": {},
   "outputs": [],
   "source": []
  },
  {
   "cell_type": "code",
   "execution_count": null,
   "id": "be2a6b57",
   "metadata": {},
   "outputs": [],
   "source": []
  },
  {
   "cell_type": "code",
   "execution_count": 73,
   "id": "98e24b65",
   "metadata": {},
   "outputs": [
    {
     "name": "stdout",
     "output_type": "stream",
     "text": [
      "t: 15.707963266948965\n",
      "Time evolution encoding, absolute error:  1.6572859952488297\n"
     ]
    }
   ],
   "source": [
    "import h5py\n",
    "\n",
    "def qc_U(two_qubit_gates, L, perms):\n",
    "    U = qiskit.QuantumCircuit(L)\n",
    "    for layer, qc_gate in enumerate(two_qubit_gates):\n",
    "        assert L%2 == 0\n",
    "        for j in range(L//2):\n",
    "            if perms[layer] is not None:\n",
    "                U.append(qc_gate.to_gate(), [perms[layer][2*j], perms[layer][2*j+1]])\n",
    "            else:\n",
    "                U.append(qc_gate.to_gate(), [2*j, 2*j+1])\n",
    "    return U\n",
    "\n",
    "t = c1/2\n",
    "print(\"t:\", t)\n",
    "V_list1 = []\n",
    "path1 = f\"../../src/rqcopt/results/heisenberg1d_dynamics_opt_t{t}_dynamics_opt_layers9_1H.hdf5\"\n",
    "with h5py.File(path1, \"r\") as f:\n",
    "    V_list1 = list(f[\"Vlist\"])\n",
    "perms = [None if i % 2 == 0 else np.roll(range(L), -1) for i in range(len(V_list1))]\n",
    "qcs_rqc1 = []\n",
    "for V in V_list1:\n",
    "    qc_rqc = qiskit.QuantumCircuit(2)\n",
    "    qc_rqc.unitary(V, [0, 1])\n",
    "    qcs_rqc1.append(qc_rqc)\n",
    "qc_U_ins1 = qc_U(qcs_rqc1, L, perms)\n",
    "\n",
    "V_list2 = []\n",
    "path2 = f\"../../src/rqcopt/results/heisenberg1d_dynamics_opt_t{t}_dynamics_opt_layers3_2H.hdf5\"\n",
    "with h5py.File(path2, \"r\") as f:\n",
    "    V_list2 = list(f[\"Vlist\"])\n",
    "qcs_rqc2 = []\n",
    "for V in V_list2:\n",
    "    qc_rqc = qiskit.QuantumCircuit(2)\n",
    "    qc_rqc.unitary(V, [0, 1])\n",
    "    qcs_rqc2.append(qc_rqc)\n",
    "qc_U_ins2 = qc_U(qcs_rqc2, L, perms)\n",
    "\n",
    "\n",
    "qc_U_ins = qiskit.QuantumCircuit(L)\n",
    "qc_U_ins.append(qc_U_ins1, [i for i in range(L)])\n",
    "qc_U_ins.append(qc_U_ins2, [i for i in range(L)])\n",
    "\n",
    "backend = Aer.get_backend(\"unitary_simulator\")\n",
    "qc_U_unit = execute(transpile(qc_U_ins), backend).result().get_unitary(qc_U_ins, L).data\n",
    "U = scipy.linalg.expm(-1j*t*hamil)\n",
    "print(\"Time evolution encoding, absolute error: \", np.linalg.norm(U-qc_U_unit, ord=2))"
   ]
  },
  {
   "cell_type": "code",
   "execution_count": null,
   "id": "baa3695f",
   "metadata": {},
   "outputs": [],
   "source": []
  },
  {
   "cell_type": "code",
   "execution_count": null,
   "id": "ceaecacd",
   "metadata": {},
   "outputs": [],
   "source": []
  },
  {
   "cell_type": "code",
   "execution_count": null,
   "id": "ea327c81",
   "metadata": {},
   "outputs": [],
   "source": []
  },
  {
   "cell_type": "code",
   "execution_count": null,
   "id": "0bd44c4c",
   "metadata": {},
   "outputs": [],
   "source": []
  },
  {
   "cell_type": "code",
   "execution_count": null,
   "id": "690525e0",
   "metadata": {},
   "outputs": [],
   "source": []
  },
  {
   "cell_type": "code",
   "execution_count": null,
   "id": "9159e0d6",
   "metadata": {},
   "outputs": [],
   "source": []
  },
  {
   "cell_type": "code",
   "execution_count": null,
   "id": "e8024db2",
   "metadata": {},
   "outputs": [],
   "source": []
  },
  {
   "cell_type": "code",
   "execution_count": null,
   "id": "91e8dba9",
   "metadata": {},
   "outputs": [],
   "source": []
  }
 ],
 "metadata": {
  "kernelspec": {
   "display_name": "Python 3 (ipykernel)",
   "language": "python",
   "name": "python3"
  },
  "language_info": {
   "codemirror_mode": {
    "name": "ipython",
    "version": 3
   },
   "file_extension": ".py",
   "mimetype": "text/x-python",
   "name": "python",
   "nbconvert_exporter": "python",
   "pygments_lexer": "ipython3",
   "version": "3.10.13"
  }
 },
 "nbformat": 4,
 "nbformat_minor": 5
}
