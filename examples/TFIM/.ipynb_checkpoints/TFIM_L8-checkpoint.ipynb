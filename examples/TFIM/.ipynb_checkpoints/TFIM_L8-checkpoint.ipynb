{
 "cells": [
  {
   "cell_type": "code",
   "execution_count": 7,
   "id": "fb3c6513",
   "metadata": {},
   "outputs": [],
   "source": [
    "import qiskit\n",
    "\n",
    "import sys\n",
    "\n",
    "sys.path.append(\"../../src/groundstate_prep\")\n",
    "from ground_state_prep_qiskit import get_error_from_sv\n",
    "from fuzzy_bisection import fuzzy_bisection, fuzzy_bisection_noisy\n",
    "from ground_state_prep import prepare_ground_state\n",
    "from ground_state_prep_qiskit import qetu_rqc_oneLayer\n",
    "\n",
    "sys.path.append(\"../../src/lindbladian\")\n",
    "from lindbladian import circuit_implementation_lindbladian"
   ]
  },
  {
   "cell_type": "code",
   "execution_count": 8,
   "id": "5e384dba",
   "metadata": {},
   "outputs": [
    {
     "name": "stdout",
     "output_type": "stream",
     "text": [
      "Ground State Energy -10.251661790966008\n",
      "a_max (0.9430765746878023-0j)\n",
      "a_premax (0.9383059622008219-0j)\n",
      "c1:  0.14279875698135422\n",
      "c2:  2.1419913547203135\n"
     ]
    }
   ],
   "source": [
    "# Hamiltonian.\n",
    "\n",
    "import numpy as np\n",
    "from numpy import linalg as LA\n",
    "import qib\n",
    "import matplotlib.pyplot as plt\n",
    "\n",
    "# Parameters for the Ising Hamiltonian\n",
    "# L has to be even! Due to K only being able to control even Ls!\n",
    "L, J, g = (8, 1, 1)\n",
    "\n",
    "\n",
    "# construct Hamiltonian\n",
    "latt = qib.lattice.IntegerLattice((L,), pbc=True)\n",
    "field = qib.field.Field(qib.field.ParticleType.QUBIT, latt)\n",
    "hamil = qib.IsingHamiltonian(field, J, 0, g).as_matrix().toarray()\n",
    "\n",
    "eigenvalues, eigenvectors = LA.eig(hamil)\n",
    "idx = eigenvalues.argsort()\n",
    "eigenvalues_sort = eigenvalues[idx]\n",
    "eigenvectors_sort = eigenvectors[:,idx]\n",
    "ground_state = eigenvectors_sort[:, 0]\n",
    "print(\"Ground State Energy\", eigenvalues_sort[0].real)\n",
    "\n",
    "dist = 1e-5\n",
    "max_spectrum_length = 22\n",
    "ground_energy_lower_bound = -15\n",
    "c1 = (np.pi-2*dist) / (max_spectrum_length)\n",
    "c2 = dist - c1 * ground_energy_lower_bound\n",
    "\n",
    "eigenvalues_tr = eigenvalues_sort * c1 + c2\n",
    "a_values = np.array([np.cos(eig/2) for eig in eigenvalues_tr])\n",
    "\n",
    "print(\"a_max\", a_values[0])\n",
    "print(\"a_premax\", a_values[1])\n",
    "print(\"c1: \", c1)\n",
    "print(\"c2: \", c2)"
   ]
  },
  {
   "cell_type": "code",
   "execution_count": 9,
   "id": "c6b43766",
   "metadata": {
    "scrolled": true
   },
   "outputs": [
    {
     "name": "stdout",
     "output_type": "stream",
     "text": [
      "dt:  0.07139937849067711\n",
      "Running decomposition of two-qubit gates of the RQC Circuit...\n",
      "AngleFindingError encountered!\n",
      "AngleFindingError encountered!\n",
      "F(a_max)^2:  (0.25964991648181124+0j)\n",
      "Time evolution encoding, absolute error:  8.761210042923762e-07\n",
      "\n",
      "Layer 0\n",
      "Prob 0: 0.00017318280010571028\n",
      "Prob 1: 0.9998268171998923\n",
      "\n",
      "Layer 1\n",
      "Prob 0: 0.014308459760713975\n",
      "Prob 1: 0.9856915402392887\n",
      "\n",
      "Layer 2\n",
      "Prob 0: 0.25560936444032833\n",
      "Prob 1: 0.7443906355596756\n",
      "\n",
      "F(a_max) = (0.25964991648181124+0j)\n",
      "\n",
      " ---------- \n",
      " SUCCESS! \n",
      "\n",
      "Fidelity of the initial state to the ground state: 3.6200334312853224e-05\n",
      "Fidelity of the prepared state to the ground state: 0.9999808870546621\n"
     ]
    }
   ],
   "source": [
    "mu, d, c, phis_max_iter, = (0.94, 30, 0.95, 10)\n",
    "\n",
    "qc_qetu, phis_0 = qetu_rqc_oneLayer(L, J, g, c1/2, mu, a_values, d=d, c=c, c2=c2, max_iter_for_phis=phis_max_iter, reuse_RQC=6)\n",
    "ket_0 = np.array([1, 0])\n",
    "\n",
    "end_state_qetu, E = prepare_ground_state(\n",
    "                        np.array([1 if i==0 else 0 for i in range(2**(L+1))]), mu, d, c, phis_max_iter,\n",
    "                        np.kron(ket_0, ground_state), L, J, g, eigenvalues_sort[0],\n",
    "                        hamil=hamil, max_reps=3, tau=c1, shift=c2, a_max=a_values[0]\n",
    ")"
   ]
  },
  {
   "cell_type": "code",
   "execution_count": 18,
   "id": "5474db3e",
   "metadata": {},
   "outputs": [
    {
     "name": "stdout",
     "output_type": "stream",
     "text": [
      "state_fidelity: 0.05426609208575641\n",
      "state_fidelity: 0.9845791955303812\n",
      "state_fidelity: 0.9999808871935821\n",
      "getting counts\n",
      "gotten counts\n",
      "-6.187840000000003\n",
      "(Depolar. Error: 0.001, t1 = 3e8, t2 = 3e8, gate_t = 0), L=6, nshots=100000.0:  4.063821790966005\n"
     ]
    }
   ],
   "source": [
    "# Firstly, we get a rough estimate of the eigenvalue through the expectation value measurement.\n",
    "from qiskit import transpile, execute, Aer\n",
    "from qiskit.circuit.library import StatePreparation\n",
    "from qiskit.quantum_info import state_fidelity\n",
    "\n",
    "ground_state = eigenvectors_sort[:, 0]\n",
    "\n",
    "backend = Aer.get_backend(\"statevector_simulator\")\n",
    "qc_RQC = qiskit.QuantumCircuit(L+1, L+1)\n",
    "for i in range(3):\n",
    "    qc_RQC.append(qc_qetu.to_gate(), [i for i in range(L+1)])\n",
    "    bR = execute(transpile(qc_RQC), backend).result().get_statevector().data\n",
    "    aR = np.kron(np.array([[1,0],[0,0]]), np.identity(2**L)) @ bR\n",
    "    aR = aR / np.linalg.norm(aR)\n",
    "    qc_RQC.reset([i for i in range(L+1)])\n",
    "    qc_RQC.initialize(aR)\n",
    "    print(\"state_fidelity:\", state_fidelity(aR[:2**L], ground_state))\n",
    "    \n",
    "qc_RQC_H = qc_RQC.copy()\n",
    "qc_RQC_H.h([i for i in range(L+1)])\n",
    "qc_RQC_H.measure([i for i in range(L+1)], [i for i in range(L+1)])\n",
    "qc_RQC.measure([i for i in range(L+1)], [i for i in range(L+1)])\n",
    "\n",
    "err, reps, shots = (1e-3, 1, 1e5)\n",
    "print(f\"(Depolar. Error: {err}, t1 = 3e8, t2 = 3e8, gate_t = 0), L=6, nshots={shots}: \", get_error_from_sv(qc_RQC, qc_RQC_H, err, reps, L, J, g, \n",
    "                                    eigenvalues_sort[0], nshots=shots, t1=3e8, t2=3e8, gate_t=0))"
   ]
  },
  {
   "cell_type": "code",
   "execution_count": 6,
   "id": "5967ed7f",
   "metadata": {},
   "outputs": [
    {
     "name": "stdout",
     "output_type": "stream",
     "text": [
      "Absolute Error:  (-0.15543040253102625+0j)\n",
      "Estimated Eigenvalue:  -10.407092193497034\n",
      "Exact a:  (0.4888489755618025-0j)\n",
      "c1:  0.3141592653389793\n"
     ]
    }
   ],
   "source": [
    "# Expectation Value measurement falls off, hence we start with a large d=1\n",
    "d = 1\n",
    "\n",
    "dist = 1e-10\n",
    "max_spectrum_length = 10**(d)\n",
    "\n",
    "# Initial search starts with a larger margin, hence multiplication with 2!\n",
    "# Estimation -6 is acquired through expectation value measurement!\n",
    "ground_energy_lower_bound = -7 - max_spectrum_length\n",
    "c1 = (np.pi-2*dist) / (max_spectrum_length)\n",
    "c2 = dist - c1 * ground_energy_lower_bound\n",
    "eigenvalues_tr = eigenvalues_sort * c1 + c2\n",
    "a_values = np.array([np.cos(eig/2) for eig in eigenvalues_tr])\n",
    "\n",
    "a_est = 0.51\n",
    "est_eig = 2*np.arccos(a_est)\n",
    "print(\"Target Absolute Error: \", (est_eig - c2)/c1 - eigenvalues_sort[0])\n",
    "print(\"Target Estimate: \", (est_eig - c2)/c1)\n",
    "print(\"Exact a: \", a_values[0])\n",
    "print(\"c1: \", c1)"
   ]
  },
  {
   "cell_type": "code",
   "execution_count": 13,
   "id": "edd27aca",
   "metadata": {
    "scrolled": true
   },
   "outputs": [
    {
     "name": "stdout",
     "output_type": "stream",
     "text": [
      "Absolute Error:  (-0.15543040253102625+0j)\n",
      "Estimated Eigenvalue:  -10.407092193497034\n",
      "Exact a:  (0.4888489755618025-0j)\n",
      "c1:  0.3141592653389793\n",
      "------------------\n",
      "x: 0.5\n",
      "d:  34\n",
      "left:  0\n",
      "right:  1\n",
      "dt:  0.15707963266948965\n",
      "Running decomposition of two-qubit gates of the RQC Circuit...\n",
      "F(a_max)^2:  (0.1320932354358741+0j)\n",
      "Time evolution encoding, absolute error:  5.836182218922035e-07\n",
      "state_fidelity: 0.9999808871935801\n",
      "NoiseModel:\n",
      "  Basis gates: ['cu', 'cx', 'cy', 'cz', 'id', 'rz', 'sx', 'u1', 'u2', 'u3']\n",
      "  Instructions with noise: ['rz', 'cu', 'cy', 'u1', 'u2', 'u3', 'cz', 'sx', 'cx']\n",
      "  All-qubits errors: ['u1', 'u2', 'u3', 'rz', 'sx', 'cu', 'cx', 'cy', 'cz']\n",
      "Success Prob:  0.3596\n",
      "------------------\n",
      "x: 0.255\n",
      "d:  34\n",
      "left:  0\n",
      "right:  0.51\n",
      "dt:  0.15707963266948965\n",
      "Running decomposition of two-qubit gates of the RQC Circuit...\n",
      "F(a_max)^2:  (0.8707023658290978+0j)\n",
      "Time evolution encoding, absolute error:  5.836182218922035e-07\n",
      "state_fidelity: 0.9999808871935728\n",
      "NoiseModel:\n",
      "  Basis gates: ['cu', 'cx', 'cy', 'cz', 'id', 'rz', 'sx', 'u1', 'u2', 'u3']\n",
      "  Instructions with noise: ['rz', 'cu', 'cy', 'u1', 'u2', 'u3', 'cz', 'sx', 'cx']\n",
      "  All-qubits errors: ['u1', 'u2', 'u3', 'rz', 'sx', 'cu', 'cx', 'cy', 'cz']\n",
      "Success Prob:  0.6153\n",
      "------------------\n",
      "x: 0.3775\n",
      "d:  34\n",
      "left:  0.245\n",
      "right:  0.51\n",
      "dt:  0.15707963266948965\n",
      "Running decomposition of two-qubit gates of the RQC Circuit...\n",
      "F(a_max)^2:  (0.8768884423011984+0j)\n",
      "Time evolution encoding, absolute error:  5.836182218922035e-07\n",
      "state_fidelity: 0.9999808871935622\n",
      "NoiseModel:\n",
      "  Basis gates: ['cu', 'cx', 'cy', 'cz', 'id', 'rz', 'sx', 'u1', 'u2', 'u3']\n",
      "  Instructions with noise: ['rz', 'cu', 'cy', 'u1', 'u2', 'u3', 'cz', 'sx', 'cx']\n",
      "  All-qubits errors: ['u1', 'u2', 'u3', 'rz', 'sx', 'cu', 'cx', 'cy', 'cz']\n",
      "Success Prob:  0.6025\n",
      "------------------\n",
      "x: 0.43875\n",
      "d:  34\n",
      "left:  0.3675\n",
      "right:  0.51\n",
      "dt:  0.15707963266948965\n",
      "Running decomposition of two-qubit gates of the RQC Circuit...\n",
      "F(a_max)^2:  (0.7260705150151141+0j)\n",
      "Time evolution encoding, absolute error:  5.836182218922035e-07\n",
      "state_fidelity: 0.9999808871935832\n",
      "NoiseModel:\n",
      "  Basis gates: ['cu', 'cx', 'cy', 'cz', 'id', 'rz', 'sx', 'u1', 'u2', 'u3']\n",
      "  Instructions with noise: ['rz', 'cu', 'cy', 'u1', 'u2', 'u3', 'cz', 'sx', 'cx']\n",
      "  All-qubits errors: ['u1', 'u2', 'u3', 'rz', 'sx', 'cu', 'cx', 'cy', 'cz']\n",
      "Success Prob:  0.527\n",
      "Not steep enough! Search ended!\n"
     ]
    }
   ],
   "source": [
    "a_est = fuzzy_bisection_noisy(qc_qetu, L, J, g, 0, 1, 34, 1e-3, 0, c1, c2, a_values, 1e-3, RQC_layers=5, nshots=1e4, split_U=1, qetu_layers=3, ground_state=eigenvectors_sort[:, 0])"
   ]
  },
  {
   "cell_type": "code",
   "execution_count": 7,
   "id": "3b893eff",
   "metadata": {},
   "outputs": [
    {
     "name": "stdout",
     "output_type": "stream",
     "text": [
      "Absolute Error:  (0.36008919229743697+0j)\n",
      "Estimated Eigenvalue:  -9.89157259866857\n"
     ]
    }
   ],
   "source": [
    "# We demonstrate that we approximated the eigenvalue until the third digit!\n",
    "\n",
    "a_est =  0.43875\n",
    "est_eig = 2*np.arccos(a_est)\n",
    "print(\"Absolute Error: \", (est_eig - c2)/c1 - eigenvalues_sort[0])\n",
    "print(\"Estimated Eigenvalue: \", (est_eig - c2)/c1)\n",
    "\n",
    "current_estimate = np.round((est_eig - c2)/c1, d)"
   ]
  },
  {
   "cell_type": "code",
   "execution_count": 8,
   "id": "89296509",
   "metadata": {},
   "outputs": [
    {
     "name": "stdout",
     "output_type": "stream",
     "text": [
      "Targeted Absolute Error:  (0.08968203011225029+0j)\n",
      "Targeted Estimate:  -10.161979760853757\n",
      "Exact a:  (0.5247224586760199-0j)\n",
      "c1:  3.141592653389793\n",
      "------------------\n",
      "x: 0.5\n",
      "d:  34\n",
      "left:  0\n",
      "right:  1\n",
      "dt:  1.5707963266948965\n",
      "Running decomposition of two-qubit gates of the RQC Circuit...\n",
      "F(a_max)^2:  (0.4513396310214373+0j)\n",
      "Time evolution encoding, absolute error:  0.17148969448378487\n",
      "state_fidelity: 0.9999808866947315\n",
      "NoiseModel:\n",
      "  Basis gates: ['cu', 'cx', 'cy', 'cz', 'id', 'rz', 'sx', 'u1', 'u2', 'u3']\n",
      "  Instructions with noise: ['cu', 'cz', 'cy', 'cx', 'u3', 'u1', 'u2', 'rz', 'sx']\n",
      "  All-qubits errors: ['u1', 'u2', 'u3', 'rz', 'sx', 'cu', 'cx', 'cy', 'cz']\n",
      "Success Prob:  0.4621\n",
      "Not steep enough! Search ended!\n"
     ]
    }
   ],
   "source": [
    "# Expectation Value measurement falls off, hence we start with a large d=1\n",
    "d = 0\n",
    "\n",
    "dist = 1e-10\n",
    "max_spectrum_length = 10**(d)\n",
    "\n",
    "# Initial search starts with a larger margin, hence multiplication with 2!\n",
    "# Estimation -6 is acquired through expectation value measurement!\n",
    "ground_energy_lower_bound = current_estimate - max_spectrum_length\n",
    "c1 = (np.pi-2*dist) / (max_spectrum_length)\n",
    "c2 = dist - c1 * ground_energy_lower_bound\n",
    "eigenvalues_tr = eigenvalues_sort * c1 + c2\n",
    "a_values = np.array([np.cos(eig/2) for eig in eigenvalues_tr])\n",
    "\n",
    "a_est = 0.5\n",
    "est_eig = 2*np.arccos(a_est)\n",
    "print(\"Targeted Absolute Error: \", (est_eig - c2)/c1 - eigenvalues_sort[0])\n",
    "print(\"Targeted Estimate: \", (est_eig - c2)/c1)\n",
    "print(\"Exact a: \", a_values[0])\n",
    "print(\"c1: \", c1)\n",
    "\n",
    "a_est = fuzzy_bisection_noisy(qc_qetu, L, J, g, 0, 1, 34, 1e-3, 0, c1, c2, a_values, 1e-3, RQC_layers=9, nshots=1e4, split_U=1, qetu_layers=3, reuse_RQC=6, ground_state=eigenvectors_sort[:, 0])"
   ]
  },
  {
   "cell_type": "code",
   "execution_count": 9,
   "id": "fb29c7d3",
   "metadata": {},
   "outputs": [
    {
     "name": "stdout",
     "output_type": "stream",
     "text": [
      "Absolute Error:  (0.018328457643283613+0j)\n",
      "Estimated Eigenvalue:  -10.233333333322724\n"
     ]
    }
   ],
   "source": [
    "# We demonstrate that we approximated the eigenvalue until the third digit!\n",
    "\n",
    "a_est =  0.5\n",
    "est_eig = 2*np.arccos(a_est)\n",
    "print(\"Absolute Error: \", (est_eig - c2)/c1 - eigenvalues_sort[0])\n",
    "print(\"Estimated Eigenvalue: \", (est_eig - c2)/c1)"
   ]
  },
  {
   "cell_type": "code",
   "execution_count": 16,
   "id": "8e98f607",
   "metadata": {
    "scrolled": true
   },
   "outputs": [
    {
     "name": "stdout",
     "output_type": "stream",
     "text": [
      "Current Estimate:  -10.2\n",
      "Targeted Absolute Error:  (0.002298453187377092+0j)\n",
      "Targeted Estimate:  -10.24936333777863\n",
      "Exact a:  (0.7253216496469405-0j)\n",
      "c1:  31.41592653389793\n"
     ]
    }
   ],
   "source": [
    "# Expectation Value measurement falls off, hence we start with a large d=1\n",
    "d = -1\n",
    "\n",
    "dist = 1e-10\n",
    "max_spectrum_length = 10**(d)\n",
    "\n",
    "# Initial search starts with a larger margin, hence multiplication with 2!\n",
    "# Estimation -6 is acquired through expectation value measurement!\n",
    "current_estimate = -10.2\n",
    "ground_energy_lower_bound = current_estimate - max_spectrum_length\n",
    "c1 = (np.pi-2*dist) / (max_spectrum_length)\n",
    "c2 = dist - c1 * ground_energy_lower_bound\n",
    "eigenvalues_tr = eigenvalues_sort * c1 + c2\n",
    "a_values = np.array([np.cos(eig/2) for eig in eigenvalues_tr])\n",
    "\n",
    "a_est = 0.7\n",
    "est_eig = 2*np.arccos(a_est)\n",
    "print(\"Current Estimate: \", current_estimate)\n",
    "print(\"Targeted Absolute Error: \", (est_eig - c2)/c1 - eigenvalues_sort[0])\n",
    "print(\"Targeted Estimate: \", (est_eig - c2)/c1)\n",
    "print(\"Exact a: \", a_values[0])\n",
    "print(\"c1: \", c1)\n",
    "a_est = fuzzy_bisection_noisy(qc_qetu, L, J, g, 0, 1, 34, 1e-3, 0, c1, c2, \n",
    "                              a_values, 1e-3, RQC_layers=11, nshots=1e5, \n",
    "                              split_U=10, qetu_layers=3, \n",
    "                              reuse_RQC=6, ground_state=eigenvectors_sort[:, 0])"
   ]
  },
  {
   "cell_type": "code",
   "execution_count": 17,
   "id": "3b3e6e6b",
   "metadata": {},
   "outputs": [
    {
     "name": "stdout",
     "output_type": "stream",
     "text": [
      "Absolute Error:  (0.0032937445107528163+0j)\n",
      "Estimated Eigenvalue:  -10.248368046455255\n"
     ]
    }
   ],
   "source": [
    "# We demonstrate that we approximated the eigenvalue until the second digit!\n",
    "\n",
    "a_est =  (0.6225 + 0.755)/2 # took the treshold to be 0.45-0.55 \n",
    "est_eig = 2*np.arccos(a_est)\n",
    "print(\"Absolute Error: \", (est_eig - c2)/c1 - eigenvalues_sort[0])\n",
    "print(\"Estimated Eigenvalue: \", (est_eig - c2)/c1)"
   ]
  },
  {
   "cell_type": "code",
   "execution_count": 4,
   "id": "3bf86066",
   "metadata": {},
   "outputs": [],
   "source": [
    "import scipy\n",
    "\n",
    "def trotterized_time_evolution(qc, coeffs, hloc, dt, L, nsteps):\n",
    "    Vlist = [scipy.linalg.expm(-1j*c*dt*hloc) for c in coeffs]\n",
    "    Vlist_gates = []\n",
    "    for V in Vlist:\n",
    "        qc2 = qiskit.QuantumCircuit(2)\n",
    "        qc2.unitary(V, [0, 1], label='str')\n",
    "        Vlist_gates.append(qc2)\n",
    "    perms = [None if i % 2 == 0 else np.roll(range(L), -1) for i in range(len(coeffs))]\n",
    "    for i in range(nsteps):\n",
    "        for layer, qc_gate in enumerate(Vlist_gates):\n",
    "            for j in range(L//2):\n",
    "                if perms[layer] is not None:\n",
    "                    qc.append(qc_gate.to_gate(), [L-(perms[layer][2*j]+1), L-(perms[layer][2*j+1]+1)])\n",
    "                else:\n",
    "                    qc.append(qc_gate.to_gate(), [L-(2*j+1), L-(2*j+2)])\n",
    "    \n",
    "def construct_ising_local_term(J, g):\n",
    "    X = np.array([[0.,  1.], [1.,  0.]])\n",
    "    Z = np.array([[1.,  0.], [0., -1.]])\n",
    "    I = np.identity(2)\n",
    "    return J*np.kron(Z, Z) + g*0.5*(np.kron(X, I) + np.kron(I, X))"
   ]
  },
  {
   "cell_type": "code",
   "execution_count": 12,
   "id": "4cf1f045",
   "metadata": {},
   "outputs": [
    {
     "name": "stdout",
     "output_type": "stream",
     "text": [
      "Current Estimate:  -10.25\n",
      "Targeted Absolute Error:  (0.00037990662926468133+0j)\n",
      "Targeted Estimate:  -10.251281884336743\n",
      "Exact a:  (0.25807919253063566-0j)\n",
      "c1:  314.1592653389793\n",
      "------------------\n",
      "x: 0.5\n",
      "d:  34\n",
      "left:  0\n",
      "right:  1\n",
      "dt:  1.5707963266948965\n",
      "Running decomposition of two-qubit gates of the RQC Circuit...\n",
      "F(a_max)^2:  (0.00020027817136537626+0j)\n",
      "Time evolution encoding, absolute error:  0.0003716295845425342\n",
      "state_fidelity: 0.9999808871724251\n",
      "NoiseModel:\n",
      "  Basis gates: ['cu', 'cx', 'cy', 'cz', 'id', 'rz', 'sx', 'u1', 'u2', 'u3']\n",
      "  Instructions with noise: ['cy', 'u2', 'sx', 'cu', 'u1', 'u3', 'cz', 'cx', 'rz']\n",
      "  All-qubits errors: ['u1', 'u2', 'u3', 'rz', 'sx', 'cu', 'cx', 'cy', 'cz']\n",
      "Success Prob:  0.4163\n",
      "------------------\n",
      "x: 0.255\n",
      "d:  34\n",
      "left:  0\n",
      "right:  0.51\n",
      "dt:  1.5707963266948965\n",
      "Running decomposition of two-qubit gates of the RQC Circuit...\n",
      "F(a_max)^2:  (0.2523445336526018+0j)\n",
      "Time evolution encoding, absolute error:  0.0003716295845425342\n",
      "state_fidelity: 0.9999808871724424\n",
      "NoiseModel:\n",
      "  Basis gates: ['cu', 'cx', 'cy', 'cz', 'id', 'rz', 'sx', 'u1', 'u2', 'u3']\n",
      "  Instructions with noise: ['cy', 'u2', 'sx', 'cu', 'u1', 'u3', 'cz', 'cx', 'rz']\n",
      "  All-qubits errors: ['u1', 'u2', 'u3', 'rz', 'sx', 'cu', 'cx', 'cy', 'cz']\n",
      "Success Prob:  0.51561\n",
      "Not steep enough! Search ended!\n"
     ]
    }
   ],
   "source": [
    "# Expectation Value measurement falls off, hence we start with a large d=1\n",
    "d = -2\n",
    "\n",
    "dist = 1e-10\n",
    "max_spectrum_length = 10**(d)\n",
    "\n",
    "# Initial search starts with a larger margin, hence multiplication with 2!\n",
    "# Estimation -6 is acquired through expectation value measurement!\n",
    "current_estimate = -10.25\n",
    "ground_energy_lower_bound = current_estimate - max_spectrum_length\n",
    "c1 = (np.pi-2*dist) / (max_spectrum_length)\n",
    "c2 = dist - c1 * ground_energy_lower_bound\n",
    "eigenvalues_tr = eigenvalues_sort * c1 + c2\n",
    "a_values = np.array([np.cos(eig/2) for eig in eigenvalues_tr])\n",
    "\n",
    "a_est = 0.2\n",
    "est_eig = 2*np.arccos(a_est)\n",
    "print(\"Current Estimate: \", current_estimate)\n",
    "print(\"Targeted Absolute Error: \", (est_eig - c2)/c1 - eigenvalues_sort[0])\n",
    "print(\"Targeted Estimate: \", (est_eig - c2)/c1)\n",
    "print(\"Exact a: \", a_values[0])\n",
    "print(\"c1: \", c1)\n",
    "\n",
    "#t, nsteps = (c1/2, 300)\n",
    "#dt = t / nsteps\n",
    "\n",
    "#import rqcopt as oc\n",
    "#coeffs = oc.SplittingMethod.blanes_moan().coeffs\n",
    "#hloc = construct_ising_local_term(J, g)\n",
    "#qc_U_bm = qiskit.QuantumCircuit(L)\n",
    "#trotterized_time_evolution(qc_U_bm, coeffs, hloc, dt, L, nsteps)\n",
    "\n",
    "a_est = fuzzy_bisection_noisy(qc_qetu, L, J, g, 0, 1, 34, 1e-3, 0, c1, c2, a_values, 1e-3,  \n",
    "                              RQC_layers=11, nshots=1e5, lower_treshold=0.45,\n",
    "                              split_U=100, qetu_layers=3, upper_treshold=0.55,\n",
    "                              reuse_RQC=6, ground_state=eigenvectors_sort[:, 0])"
   ]
  },
  {
   "cell_type": "code",
   "execution_count": 13,
   "id": "08b2808d",
   "metadata": {},
   "outputs": [
    {
     "name": "stdout",
     "output_type": "stream",
     "text": [
      "Absolute Error:  (2.0281505008767908e-05+0j)\n",
      "Estimated Eigenvalue:  -10.251641509460999\n"
     ]
    }
   ],
   "source": [
    "# This is the lower boundry of this approach, as we see that the third digit is off by 1.\n",
    "# The search ends here and hence the lower bound of the absolute error is: O(1e-5)\n",
    "\n",
    "a_est =  0.255\n",
    "est_eig = 2*np.arccos(a_est)\n",
    "print(\"Absolute Error: \", (est_eig - c2)/c1 - eigenvalues_sort[0])\n",
    "print(\"Estimated Eigenvalue: \", (est_eig - c2)/c1)"
   ]
  },
  {
   "cell_type": "code",
   "execution_count": null,
   "id": "3f295726",
   "metadata": {
    "scrolled": true
   },
   "outputs": [],
   "source": [
    "# We investigate if lowering the noise delivers the correct result.\n",
    "d = -2\n",
    "\n",
    "dist = 1e-10\n",
    "max_spectrum_length = 10**(d)\n",
    "\n",
    "current_estimate = -10.25\n",
    "ground_energy_lower_bound = current_estimate - max_spectrum_length\n",
    "c1 = (np.pi-2*dist) / (max_spectrum_length)\n",
    "c2 = dist - c1 * ground_energy_lower_bound\n",
    "eigenvalues_tr = eigenvalues_sort * c1 + c2\n",
    "a_values = np.array([np.cos(eig/2) for eig in eigenvalues_tr])\n",
    "\n",
    "a_est = 0.2\n",
    "est_eig = 2*np.arccos(a_est)\n",
    "print(\"Current Estimate: \", current_estimate)\n",
    "print(\"Targeted Absolute Error: \", (est_eig - c2)/c1 - eigenvalues_sort[0])\n",
    "print(\"Targeted Estimate: \", (est_eig - c2)/c1)\n",
    "print(\"Exact a: \", a_values[0])\n",
    "print(\"c1: \", c1)\n",
    "\n",
    "a_est = fuzzy_bisection_noisy(qc_qetu, L, J, g, 0, 1, 34, 1e-3, 0, c1, c2, a_values, 1e-4,  \n",
    "                              RQC_layers=11, nshots=1e5, lower_treshold=0.45,\n",
    "                              split_U=100, qetu_layers=3, upper_treshold=0.55,\n",
    "                              reuse_RQC=6, ground_state=eigenvectors_sort[:, 0])"
   ]
  },
  {
   "cell_type": "code",
   "execution_count": 19,
   "id": "b17ce90a",
   "metadata": {},
   "outputs": [
    {
     "name": "stdout",
     "output_type": "stream",
     "text": [
      "Absolute Error:  (0.0003555315194070374+0j)\n",
      "Estimated Eigenvalue:  -10.2513062594466\n"
     ]
    }
   ],
   "source": [
    "# This is the lower boundry of this approach, as we see that\n",
    "# towering the noise did deliver correct digit, we can continue!\n",
    "\n",
    "\n",
    "a_est = (0.265 + 0.1425)/2\n",
    "est_eig = 2*np.arccos(a_est)\n",
    "print(\"Absolute Error: \", (est_eig - c2)/c1 - eigenvalues_sort[0])\n",
    "print(\"Estimated Eigenvalue: \", (est_eig - c2)/c1)"
   ]
  }
 ],
 "metadata": {
  "kernelspec": {
   "display_name": "Python 3 (ipykernel)",
   "language": "python",
   "name": "python3"
  },
  "language_info": {
   "codemirror_mode": {
    "name": "ipython",
    "version": 3
   },
   "file_extension": ".py",
   "mimetype": "text/x-python",
   "name": "python",
   "nbconvert_exporter": "python",
   "pygments_lexer": "ipython3",
   "version": "3.10.13"
  }
 },
 "nbformat": 4,
 "nbformat_minor": 5
}
