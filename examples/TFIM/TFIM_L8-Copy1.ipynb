{
 "cells": [
  {
   "cell_type": "code",
   "execution_count": 1,
   "id": "fb3c6513",
   "metadata": {},
   "outputs": [
    {
     "name": "stderr",
     "output_type": "stream",
     "text": [
      "/Users/erenaykaracan/anaconda3/envs/qc/lib/python3.10/site-packages/numpy/linalg/linalg.py:2180: RuntimeWarning: divide by zero encountered in det\n",
      "  r = _umath_linalg.det(a, signature=signature)\n",
      "/Users/erenaykaracan/anaconda3/envs/qc/lib/python3.10/site-packages/numpy/linalg/linalg.py:2180: RuntimeWarning: invalid value encountered in det\n",
      "  r = _umath_linalg.det(a, signature=signature)\n"
     ]
    }
   ],
   "source": [
    "import qiskit\n",
    "\n",
    "import sys\n",
    "\n",
    "sys.path.append(\"../../src/groundstate_prep\")\n",
    "from ground_state_prep_qiskit import get_error_from_sv\n",
    "from fuzzy_bisection import fuzzy_bisection, fuzzy_bisection_noisy\n",
    "from ground_state_prep import prepare_ground_state\n",
    "from ground_state_prep_qiskit import qetu_rqc_oneLayer\n",
    "\n",
    "sys.path.append(\"../../src/lindbladian\")\n",
    "from lindbladian import circuit_implementation_lindbladian"
   ]
  },
  {
   "cell_type": "code",
   "execution_count": 3,
   "id": "5e384dba",
   "metadata": {},
   "outputs": [
    {
     "name": "stdout",
     "output_type": "stream",
     "text": [
      "Ground State Energy -7.72740661031253\n",
      "a_max (0.9841123852998529-0j)\n",
      "a_premax (0.9802305965323852-0j)\n",
      "c1:  0.15707863267948965\n",
      "c2:  1.5707963267948966\n"
     ]
    }
   ],
   "source": [
    "# Hamiltonian.\n",
    "\n",
    "import numpy as np\n",
    "from numpy import linalg as LA\n",
    "import qib\n",
    "import matplotlib.pyplot as plt\n",
    "\n",
    "# Parameters for the Ising Hamiltonian\n",
    "# L has to be even! Due to K only being able to control even Ls!\n",
    "L, J, g = (6, 1, 1)\n",
    "\n",
    "\n",
    "# construct Hamiltonian\n",
    "latt = qib.lattice.IntegerLattice((L,), pbc=True)\n",
    "field = qib.field.Field(qib.field.ParticleType.QUBIT, latt)\n",
    "hamil = qib.IsingHamiltonian(field, J, 0, g).as_matrix().toarray()\n",
    "\n",
    "eigenvalues, eigenvectors = LA.eig(hamil)\n",
    "idx = eigenvalues.argsort()\n",
    "eigenvalues_sort = eigenvalues[idx]\n",
    "eigenvectors_sort = eigenvectors[:,idx]\n",
    "ground_state = eigenvectors_sort[:, 0]\n",
    "print(\"Ground State Energy\", eigenvalues_sort[0].real)\n",
    "\n",
    "dist = 1e-5\n",
    "max_spectrum_length = 20\n",
    "ground_energy_lower_bound = -10\n",
    "c1 = (np.pi-2*dist) / (max_spectrum_length)\n",
    "c2 = dist - c1 * ground_energy_lower_bound\n",
    "\n",
    "eigenvalues_tr = eigenvalues_sort * c1 + c2\n",
    "a_values = np.array([np.cos(eig/2) for eig in eigenvalues_tr])\n",
    "\n",
    "print(\"a_max\", a_values[0])\n",
    "print(\"a_premax\", a_values[1])\n",
    "print(\"c1: \", c1)\n",
    "print(\"c2: \", c2)"
   ]
  },
  {
   "cell_type": "code",
   "execution_count": 4,
   "id": "c6b43766",
   "metadata": {
    "scrolled": true
   },
   "outputs": [
    {
     "name": "stdout",
     "output_type": "stream",
     "text": [
      "dt:  0.07853931633974483\n",
      "coeffs_start_n5: [0.25, 0.5, 0.5, 0.5, 0.25]\n",
      "Running decomposition of two-qubit gates of the RQC Circuit...\n",
      "F(a_max)^2:  (0.35592335445153805+0j)\n",
      "Time evolution encoding, absolute error:  9.088305772182315e-07\n",
      "\n",
      "Layer 0\n",
      "Prob 0: 0.00037938947339851315\n",
      "Prob 1: 0.9996206105265987\n",
      "\n",
      "Layer 1\n",
      "Prob 0: 0.1545270236886597\n",
      "Prob 1: 0.8454729763113416\n",
      "\n",
      "Layer 2\n",
      "Prob 0: 0.3554661325043956\n",
      "Prob 1: 0.6445338674956088\n",
      "\n",
      "F(a_max) = (0.35592335445153805+0j)\n",
      "\n",
      " ---------- \n",
      " SUCCESS! \n",
      "\n",
      "Fidelity of the initial state to the ground state: 0.00046231599435407063\n",
      "Fidelity of the prepared state to the ground state: 0.9999985337099334\n"
     ]
    }
   ],
   "source": [
    "mu, d, c, phis_max_iter, = (0.98, 30, 0.95, 10)\n",
    "\n",
    "qc_qetu, phis_0 = qetu_rqc_oneLayer(L, J, g, c1/2, mu, a_values, d=d, c=c, c2=c2, max_iter_for_phis=phis_max_iter, reuse_RQC=6)\n",
    "ket_0 = np.array([1, 0])\n",
    "\n",
    "end_state_qetu, E = prepare_ground_state(\n",
    "                        np.array([1 if i==0 else 0 for i in range(2**(L+1))]), mu, d, c, phis_max_iter,\n",
    "                        np.kron(ket_0, ground_state), L, J, g, eigenvalues_sort[0],\n",
    "                        hamil=hamil, max_reps=3, tau=c1, shift=c2, a_max=a_values[0]\n",
    ")"
   ]
  },
  {
   "cell_type": "code",
   "execution_count": 5,
   "id": "5474db3e",
   "metadata": {},
   "outputs": [
    {
     "name": "stdout",
     "output_type": "stream",
     "text": [
      "state_fidelity: 0.4336816534450247\n",
      "state_fidelity: 0.9988067398294455\n",
      "state_fidelity: 0.9999985336659767\n",
      "getting counts\n",
      "gotten counts\n",
      "-6.69008\n",
      "(Depolar. Error: 0.001, t1 = 3e8, t2 = 3e8, gate_t = 0), L=6, nshots=100000.0:  1.0373266103125296\n"
     ]
    }
   ],
   "source": [
    "# Firstly, we get a rough estimate of the eigenvalue through the expectation value measurement.\n",
    "from qiskit import transpile, execute, Aer\n",
    "from qiskit.circuit.library import StatePreparation\n",
    "from qiskit.quantum_info import state_fidelity\n",
    "\n",
    "ground_state = eigenvectors_sort[:, 0]\n",
    "\n",
    "backend = Aer.get_backend(\"statevector_simulator\")\n",
    "qc_RQC = qiskit.QuantumCircuit(L+1, L+1)\n",
    "for i in range(3):\n",
    "    qc_RQC.append(qc_qetu.to_gate(), [i for i in range(L+1)])\n",
    "    bR = execute(transpile(qc_RQC), backend).result().get_statevector().data\n",
    "    aR = np.kron(np.array([[1,0],[0,0]]), np.identity(2**L)) @ bR\n",
    "    aR = aR / np.linalg.norm(aR)\n",
    "    qc_RQC.reset([i for i in range(L+1)])\n",
    "    qc_RQC.initialize(aR)\n",
    "    print(\"state_fidelity:\", state_fidelity(aR[:2**L], ground_state))\n",
    "    \n",
    "qc_RQC_H = qc_RQC.copy()\n",
    "qc_RQC_H.h([i for i in range(L+1)])\n",
    "qc_RQC_H.measure([i for i in range(L+1)], [i for i in range(L+1)])\n",
    "qc_RQC.measure([i for i in range(L+1)], [i for i in range(L+1)])\n",
    "\n",
    "err, reps, shots = (1e-3, 1, 1e5)\n",
    "print(f\"(Depolar. Error: {err}, t1 = 3e8, t2 = 3e8, gate_t = 0), L=6, nshots={shots}: \", get_error_from_sv(qc_RQC, qc_RQC_H, err, reps, L, J, g, \n",
    "                                    eigenvalues_sort[0], nshots=shots, t1=3e8, t2=3e8, gate_t=0))"
   ]
  },
  {
   "cell_type": "code",
   "execution_count": 7,
   "id": "5967ed7f",
   "metadata": {},
   "outputs": [
    {
     "name": "stdout",
     "output_type": "stream",
     "text": [
      "Target Absolute Error:  (0.014539196556391687+0j)\n",
      "Target Estimate:  -7.712867413756138\n",
      "Exact a:  (0.9097193382472657-0j)\n",
      "c1:  3.141592653389793\n"
     ]
    }
   ],
   "source": [
    "d = 0\n",
    "\n",
    "dist = 1e-10\n",
    "max_spectrum_length = 10**(d)\n",
    "\n",
    "# Initial search starts with a larger margin, hence multiplication with 2!\n",
    "# Estimation -6 is acquired through expectation value measurement!\n",
    "ground_energy_lower_bound = -7 - max_spectrum_length\n",
    "c1 = (np.pi-2*dist) / (max_spectrum_length)\n",
    "c2 = dist - c1 * ground_energy_lower_bound\n",
    "eigenvalues_tr = eigenvalues_sort * c1 + c2\n",
    "a_values = np.array([np.cos(eig/2) for eig in eigenvalues_tr])\n",
    "\n",
    "a_est = 0.9\n",
    "est_eig = 2*np.arccos(a_est)\n",
    "print(\"Target Absolute Error: \", (est_eig - c2)/c1 - eigenvalues_sort[0])\n",
    "print(\"Target Estimate: \", (est_eig - c2)/c1)\n",
    "print(\"Exact a: \", a_values[0])\n",
    "print(\"c1: \", c1)"
   ]
  },
  {
   "cell_type": "code",
   "execution_count": 10,
   "id": "edd27aca",
   "metadata": {
    "scrolled": true
   },
   "outputs": [
    {
     "name": "stdout",
     "output_type": "stream",
     "text": [
      "------------------\n",
      "x: 0.5\n",
      "d:  34\n",
      "left:  0\n",
      "right:  1\n",
      "dt:  1.5707963266948965\n",
      "Running decomposition of two-qubit gates of the RQC Circuit...\n",
      "F(a_max)^2:  (0.8626778142162942+0j)\n",
      "Time evolution encoding, absolute error:  0.012835266800805566\n",
      "state_fidelity: 0.9999985336659782\n",
      "NoiseModel:\n",
      "  Basis gates: ['cu', 'cx', 'cy', 'cz', 'id', 'rz', 'sx', 'u1', 'u2', 'u3']\n",
      "  Instructions with noise: ['u2', 'cz', 'u3', 'sx', 'rz', 'cx', 'u1', 'cu', 'cy']\n",
      "  All-qubits errors: ['u1', 'u2', 'u3', 'rz', 'sx', 'cu', 'cx', 'cy', 'cz']\n",
      "Success Prob:  0.7181\n",
      "------------------\n",
      "x: 0.745\n",
      "d:  34\n",
      "left:  0.49\n",
      "right:  1\n",
      "dt:  1.5707963266948965\n",
      "Running decomposition of two-qubit gates of the RQC Circuit...\n",
      "F(a_max)^2:  (0.8823258877625176+0j)\n",
      "Time evolution encoding, absolute error:  0.012835266800805566\n",
      "state_fidelity: 0.9999985336659811\n",
      "NoiseModel:\n",
      "  Basis gates: ['cu', 'cx', 'cy', 'cz', 'id', 'rz', 'sx', 'u1', 'u2', 'u3']\n",
      "  Instructions with noise: ['u2', 'cz', 'u3', 'sx', 'rz', 'cx', 'u1', 'cu', 'cy']\n",
      "  All-qubits errors: ['u1', 'u2', 'u3', 'rz', 'sx', 'cu', 'cx', 'cy', 'cz']\n",
      "Success Prob:  0.6903\n",
      "------------------\n",
      "x: 0.8674999999999999\n",
      "d:  34\n",
      "left:  0.735\n",
      "right:  1\n",
      "dt:  1.5707963266948965\n",
      "Running decomposition of two-qubit gates of the RQC Circuit...\n",
      "F(a_max)^2:  (0.8736021658926045+0j)\n",
      "Time evolution encoding, absolute error:  0.012835266800805566\n",
      "state_fidelity: 0.9999985336659778\n",
      "NoiseModel:\n",
      "  Basis gates: ['cu', 'cx', 'cy', 'cz', 'id', 'rz', 'sx', 'u1', 'u2', 'u3']\n",
      "  Instructions with noise: ['u2', 'cz', 'u3', 'sx', 'rz', 'cx', 'u1', 'cu', 'cy']\n",
      "  All-qubits errors: ['u1', 'u2', 'u3', 'rz', 'sx', 'cu', 'cx', 'cy', 'cz']\n",
      "Success Prob:  0.683\n",
      "------------------\n",
      "x: 0.92875\n",
      "d:  34\n",
      "left:  0.8574999999999999\n",
      "right:  1\n",
      "dt:  1.5707963266948965\n",
      "Running decomposition of two-qubit gates of the RQC Circuit...\n",
      "F(a_max)^2:  (0.012549473652359634+0j)\n",
      "Time evolution encoding, absolute error:  0.012835266800805566\n",
      "state_fidelity: 0.99999853366598\n",
      "NoiseModel:\n",
      "  Basis gates: ['cu', 'cx', 'cy', 'cz', 'id', 'rz', 'sx', 'u1', 'u2', 'u3']\n",
      "  Instructions with noise: ['u2', 'cz', 'u3', 'sx', 'rz', 'cx', 'u1', 'cu', 'cy']\n",
      "  All-qubits errors: ['u1', 'u2', 'u3', 'rz', 'sx', 'cu', 'cx', 'cy', 'cz']\n",
      "Success Prob:  0.2062\n",
      "------------------\n",
      "x: 0.898125\n",
      "d:  34\n",
      "left:  0.8574999999999999\n",
      "right:  0.93875\n",
      "dt:  1.5707963266948965\n",
      "Running decomposition of two-qubit gates of the RQC Circuit...\n",
      "F(a_max)^2:  (0.43324178285305376+0j)\n",
      "Time evolution encoding, absolute error:  0.012835266800805566\n",
      "state_fidelity: 0.9999985336659813\n",
      "NoiseModel:\n",
      "  Basis gates: ['cu', 'cx', 'cy', 'cz', 'id', 'rz', 'sx', 'u1', 'u2', 'u3']\n",
      "  Instructions with noise: ['u2', 'cz', 'u3', 'sx', 'rz', 'cx', 'u1', 'cu', 'cy']\n",
      "  All-qubits errors: ['u1', 'u2', 'u3', 'rz', 'sx', 'cu', 'cx', 'cy', 'cz']\n",
      "Success Prob:  0.4398\n",
      "Not steep enough! Search ended!\n"
     ]
    }
   ],
   "source": [
    "a_est = fuzzy_bisection_noisy(qc_qetu, L, J, g, 0, 1, 34, 1e-3, 0, c1, c2, a_values, 1e-3, \n",
    "                              RQC_layers=11, reuse_RQC=4,\n",
    "                              nshots=1e4, split_U=1, qetu_layers=3, \n",
    "                              ground_state=eigenvectors_sort[:, 0])"
   ]
  },
  {
   "cell_type": "code",
   "execution_count": 11,
   "id": "41bf3417",
   "metadata": {},
   "outputs": [
    {
     "name": "stdout",
     "output_type": "stream",
     "text": [
      "Absolute Error:  (0.017265599390645647+0j)\n",
      "Estimated Eigenvalue:  -7.710141010921884\n"
     ]
    }
   ],
   "source": [
    "# The run above will get stuck around the given interval.\n",
    "# We demonstrate that we approximated the eigenvalue until the target digit!\n",
    "\n",
    "a_est = 0.898125\n",
    "est_eig = 2*np.arccos(a_est)\n",
    "print(\"Absolute Error: \", (est_eig - c2)/c1 - eigenvalues_sort[0])\n",
    "print(\"Estimated Eigenvalue: \", (est_eig - c2)/c1)"
   ]
  },
  {
   "cell_type": "code",
   "execution_count": 14,
   "id": "8fb52d2c",
   "metadata": {},
   "outputs": [
    {
     "name": "stdout",
     "output_type": "stream",
     "text": [
      "Target Absolute Error:  (0.0012086342271544481+0j)\n",
      "Target Estimate:  -7.726197976085375\n",
      "Exact a:  (0.41732707623569687-0j)\n",
      "c1:  31.41592653389793\n"
     ]
    }
   ],
   "source": [
    "d = -1\n",
    "\n",
    "dist = 1e-10\n",
    "max_spectrum_length = 10**(d)\n",
    "\n",
    "# Initial search starts with a larger margin, hence multiplication with 2!\n",
    "# Estimation -6 is acquired through expectation value measurement!\n",
    "ground_energy_lower_bound = -7.7 - max_spectrum_length\n",
    "c1 = (np.pi-2*dist) / (max_spectrum_length)\n",
    "c2 = dist - c1 * ground_energy_lower_bound\n",
    "eigenvalues_tr = eigenvalues_sort * c1 + c2\n",
    "a_values = np.array([np.cos(eig/2) for eig in eigenvalues_tr])\n",
    "\n",
    "a_est = 0.4\n",
    "est_eig = 2*np.arccos(a_est)\n",
    "print(\"Target Absolute Error: \", (est_eig - c2)/c1 - eigenvalues_sort[0])\n",
    "print(\"Target Estimate: \", (est_eig - c2)/c1)\n",
    "print(\"Exact a: \", a_values[0])\n",
    "print(\"c1: \", c1)"
   ]
  },
  {
   "cell_type": "code",
   "execution_count": 15,
   "id": "6db0ee58",
   "metadata": {
    "scrolled": true
   },
   "outputs": [
    {
     "name": "stdout",
     "output_type": "stream",
     "text": [
      "------------------\n",
      "x: 0.5\n",
      "d:  34\n",
      "left:  0\n",
      "right:  1\n",
      "dt:  1.5707963266948965\n",
      "Running decomposition of two-qubit gates of the RQC Circuit...\n",
      "F(a_max)^2:  (0.00029961791734363927+0j)\n",
      "Time evolution encoding, absolute error:  0.08431247448857775\n",
      "state_fidelity: 0.9999985336659787\n",
      "NoiseModel:\n",
      "  Basis gates: ['cu', 'cx', 'cy', 'cz', 'id', 'rz', 'sx', 'u1', 'u2', 'u3']\n",
      "  Instructions with noise: ['u2', 'cz', 'u3', 'sx', 'rz', 'cx', 'u1', 'cu', 'cy']\n",
      "  All-qubits errors: ['u1', 'u2', 'u3', 'rz', 'sx', 'cu', 'cx', 'cy', 'cz']\n",
      "Success Prob:  0.2542\n",
      "------------------\n",
      "x: 0.255\n",
      "d:  34\n",
      "left:  0\n",
      "right:  0.51\n",
      "dt:  1.5707963266948965\n",
      "Running decomposition of two-qubit gates of the RQC Circuit...\n",
      "F(a_max)^2:  (0.7740109984924529+0j)\n",
      "Time evolution encoding, absolute error:  0.08431247448857775\n",
      "state_fidelity: 0.9999985336659782\n",
      "NoiseModel:\n",
      "  Basis gates: ['cu', 'cx', 'cy', 'cz', 'id', 'rz', 'sx', 'u1', 'u2', 'u3']\n",
      "  Instructions with noise: ['u2', 'cz', 'u3', 'sx', 'rz', 'cx', 'u1', 'cu', 'cy']\n",
      "  All-qubits errors: ['u1', 'u2', 'u3', 'rz', 'sx', 'cu', 'cx', 'cy', 'cz']\n",
      "Success Prob:  0.6909\n",
      "------------------\n",
      "x: 0.3775\n",
      "d:  34\n",
      "left:  0.245\n",
      "right:  0.51\n",
      "dt:  1.5707963266948965\n",
      "Running decomposition of two-qubit gates of the RQC Circuit...\n",
      "F(a_max)^2:  (0.6161316270315831+0j)\n",
      "Time evolution encoding, absolute error:  0.08431247448857775\n",
      "state_fidelity: 0.9999985336659762\n",
      "NoiseModel:\n",
      "  Basis gates: ['cu', 'cx', 'cy', 'cz', 'id', 'rz', 'sx', 'u1', 'u2', 'u3']\n",
      "  Instructions with noise: ['u2', 'cz', 'u3', 'sx', 'rz', 'cx', 'u1', 'cu', 'cy']\n",
      "  All-qubits errors: ['u1', 'u2', 'u3', 'rz', 'sx', 'cu', 'cx', 'cy', 'cz']\n",
      "Success Prob:  0.6088\n",
      "------------------\n",
      "x: 0.43875\n",
      "d:  34\n",
      "left:  0.3675\n",
      "right:  0.51\n",
      "dt:  1.5707963266948965\n",
      "Running decomposition of two-qubit gates of the RQC Circuit...\n",
      "F(a_max)^2:  (0.08816857549540848+0j)\n",
      "Time evolution encoding, absolute error:  0.08431247448857775\n",
      "state_fidelity: 0.9999985336659765\n",
      "NoiseModel:\n",
      "  Basis gates: ['cu', 'cx', 'cy', 'cz', 'id', 'rz', 'sx', 'u1', 'u2', 'u3']\n",
      "  Instructions with noise: ['u2', 'cz', 'u3', 'sx', 'rz', 'cx', 'u1', 'cu', 'cy']\n",
      "  All-qubits errors: ['u1', 'u2', 'u3', 'rz', 'sx', 'cu', 'cx', 'cy', 'cz']\n",
      "Success Prob:  0.3166\n",
      "------------------\n",
      "x: 0.40812499999999996\n",
      "d:  34\n",
      "left:  0.3675\n",
      "right:  0.44875\n",
      "dt:  1.5707963266948965\n",
      "Running decomposition of two-qubit gates of the RQC Circuit...\n",
      "F(a_max)^2:  (0.26164161220849974+0j)\n",
      "Time evolution encoding, absolute error:  0.08431247448857775\n",
      "state_fidelity: 0.999998533665978\n",
      "NoiseModel:\n",
      "  Basis gates: ['cu', 'cx', 'cy', 'cz', 'id', 'rz', 'sx', 'u1', 'u2', 'u3']\n",
      "  Instructions with noise: ['u2', 'cz', 'u3', 'sx', 'rz', 'cx', 'u1', 'cu', 'cy']\n",
      "  All-qubits errors: ['u1', 'u2', 'u3', 'rz', 'sx', 'cu', 'cx', 'cy', 'cz']\n",
      "Success Prob:  0.4107\n",
      "Not steep enough! Search ended!\n"
     ]
    }
   ],
   "source": [
    "a_est = fuzzy_bisection_noisy(qc_qetu, L, J, g, 0, 1, 34, 1e-3, 0, c1, c2, a_values, 1e-3, \n",
    "                              RQC_layers=11, reuse_RQC=4,\n",
    "                              nshots=1e4, split_U=10, qetu_layers=3,\n",
    "                              ground_state=eigenvectors_sort[:, 0])"
   ]
  },
  {
   "cell_type": "code",
   "execution_count": 16,
   "id": "6c66cf92",
   "metadata": {},
   "outputs": [
    {
     "name": "stdout",
     "output_type": "stream",
     "text": [
      "Absolute Error:  (0.0006449041686389378+0j)\n",
      "Estimated Eigenvalue:  -7.726761706143891\n"
     ]
    }
   ],
   "source": [
    "# The run above will get stuck around the given interval.\n",
    "# We demonstrate that we approximated the eigenvalue until the target digit!\n",
    "\n",
    "a_est = 0.4081\n",
    "est_eig = 2*np.arccos(a_est)\n",
    "print(\"Absolute Error: \", (est_eig - c2)/c1 - eigenvalues_sort[0])\n",
    "print(\"Estimated Eigenvalue: \", (est_eig - c2)/c1)"
   ]
  },
  {
   "cell_type": "code",
   "execution_count": 18,
   "id": "159093cd",
   "metadata": {},
   "outputs": [
    {
     "name": "stdout",
     "output_type": "stream",
     "text": [
      "Target Absolute Error:  (0.00027793617496829626+0j)\n",
      "Target Estimate:  -7.727128674137561\n",
      "Exact a:  (0.9181665075674552-0j)\n",
      "c1:  314.1592653389793\n"
     ]
    }
   ],
   "source": [
    "d = -2\n",
    "\n",
    "dist = 1e-10\n",
    "max_spectrum_length = 10**(d)\n",
    "\n",
    "# Initial search starts with a larger margin, hence multiplication with 2!\n",
    "# Estimation -6 is acquired through expectation value measurement!\n",
    "ground_energy_lower_bound = -7.72 - max_spectrum_length\n",
    "c1 = (np.pi-2*dist) / (max_spectrum_length)\n",
    "c2 = dist - c1 * ground_energy_lower_bound\n",
    "eigenvalues_tr = eigenvalues_sort * c1 + c2\n",
    "a_values = np.array([np.cos(eig/2) for eig in eigenvalues_tr])\n",
    "\n",
    "a_est = 0.9\n",
    "est_eig = 2*np.arccos(a_est)\n",
    "print(\"Target Absolute Error: \", (est_eig - c2)/c1 - eigenvalues_sort[0])\n",
    "print(\"Target Estimate: \", (est_eig - c2)/c1)\n",
    "print(\"Exact a: \", a_values[0])\n",
    "print(\"c1: \", c1)"
   ]
  },
  {
   "cell_type": "code",
   "execution_count": 19,
   "id": "536a021f",
   "metadata": {
    "scrolled": true
   },
   "outputs": [
    {
     "name": "stdout",
     "output_type": "stream",
     "text": [
      "------------------\n",
      "x: 0.5\n",
      "d:  34\n",
      "left:  0\n",
      "right:  1\n",
      "dt:  1.5707963266948965\n",
      "Running decomposition of two-qubit gates of the RQC Circuit...\n",
      "F(a_max)^2:  (0.880294221370931+0j)\n",
      "Time evolution encoding, absolute error:  0.7932353774850149\n",
      "state_fidelity: 0.9999985336659778\n",
      "NoiseModel:\n",
      "  Basis gates: ['cu', 'cx', 'cy', 'cz', 'id', 'rz', 'sx', 'u1', 'u2', 'u3']\n",
      "  Instructions with noise: ['u2', 'cz', 'u3', 'sx', 'rz', 'cx', 'u1', 'cu', 'cy']\n",
      "  All-qubits errors: ['u1', 'u2', 'u3', 'rz', 'sx', 'cu', 'cx', 'cy', 'cz']\n",
      "Success Prob:  0.7183\n",
      "------------------\n",
      "x: 0.745\n",
      "d:  34\n",
      "left:  0.49\n",
      "right:  1\n",
      "dt:  1.5707963266948965\n",
      "Running decomposition of two-qubit gates of the RQC Circuit...\n",
      "F(a_max)^2:  (0.870352265549684+0j)\n",
      "Time evolution encoding, absolute error:  0.7932353774850149\n",
      "state_fidelity: 0.9999985336659794\n",
      "NoiseModel:\n",
      "  Basis gates: ['cu', 'cx', 'cy', 'cz', 'id', 'rz', 'sx', 'u1', 'u2', 'u3']\n",
      "  Instructions with noise: ['u2', 'cz', 'u3', 'sx', 'rz', 'cx', 'u1', 'cu', 'cy']\n",
      "  All-qubits errors: ['u1', 'u2', 'u3', 'rz', 'sx', 'cu', 'cx', 'cy', 'cz']\n",
      "Success Prob:  0.6652\n",
      "------------------\n",
      "x: 0.8674999999999999\n",
      "d:  34\n",
      "left:  0.735\n",
      "right:  1\n",
      "dt:  1.5707963266948965\n",
      "Running decomposition of two-qubit gates of the RQC Circuit...\n",
      "F(a_max)^2:  (0.8861816064350587+0j)\n",
      "Time evolution encoding, absolute error:  0.7932353774850149\n",
      "state_fidelity: 0.9999985336659767\n",
      "NoiseModel:\n",
      "  Basis gates: ['cu', 'cx', 'cy', 'cz', 'id', 'rz', 'sx', 'u1', 'u2', 'u3']\n",
      "  Instructions with noise: ['u2', 'cz', 'u3', 'sx', 'rz', 'cx', 'u1', 'cu', 'cy']\n",
      "  All-qubits errors: ['u1', 'u2', 'u3', 'rz', 'sx', 'cu', 'cx', 'cy', 'cz']\n",
      "Success Prob:  0.6857\n",
      "------------------\n",
      "x: 0.92875\n",
      "d:  34\n",
      "left:  0.8574999999999999\n",
      "right:  1\n",
      "dt:  1.5707963266948965\n",
      "Running decomposition of two-qubit gates of the RQC Circuit...\n",
      "F(a_max)^2:  (0.0501820988008616+0j)\n",
      "Time evolution encoding, absolute error:  0.7932353774850149\n",
      "state_fidelity: 0.9999985336659742\n",
      "NoiseModel:\n",
      "  Basis gates: ['cu', 'cx', 'cy', 'cz', 'id', 'rz', 'sx', 'u1', 'u2', 'u3']\n",
      "  Instructions with noise: ['u2', 'cz', 'u3', 'sx', 'rz', 'cx', 'u1', 'cu', 'cy']\n",
      "  All-qubits errors: ['u1', 'u2', 'u3', 'rz', 'sx', 'cu', 'cx', 'cy', 'cz']\n",
      "Success Prob:  0.2199\n",
      "------------------\n",
      "x: 0.898125\n",
      "d:  34\n",
      "left:  0.8574999999999999\n",
      "right:  0.93875\n",
      "dt:  1.5707963266948965\n",
      "Running decomposition of two-qubit gates of the RQC Circuit...\n",
      "F(a_max)^2:  (0.6282793374676938+0j)\n",
      "Time evolution encoding, absolute error:  0.7932353774850149\n",
      "state_fidelity: 0.9999985336659794\n",
      "NoiseModel:\n",
      "  Basis gates: ['cu', 'cx', 'cy', 'cz', 'id', 'rz', 'sx', 'u1', 'u2', 'u3']\n",
      "  Instructions with noise: ['u2', 'cz', 'u3', 'sx', 'rz', 'cx', 'u1', 'cu', 'cy']\n",
      "  All-qubits errors: ['u1', 'u2', 'u3', 'rz', 'sx', 'cu', 'cx', 'cy', 'cz']\n",
      "Success Prob:  0.5413\n",
      "Not steep enough! Search ended!\n"
     ]
    }
   ],
   "source": [
    "a_est = fuzzy_bisection_noisy(qc_qetu, L, J, g, 0, 1, 34, 1e-3, 0, c1, c2, a_values, 1e-3, \n",
    "                              RQC_layers=11, reuse_RQC=4,\n",
    "                              nshots=1e4, split_U=100, qetu_layers=3,\n",
    "                              ground_state=eigenvectors_sort[:, 0])"
   ]
  },
  {
   "cell_type": "code",
   "execution_count": 20,
   "id": "a2dad227",
   "metadata": {},
   "outputs": [
    {
     "name": "stdout",
     "output_type": "stream",
     "text": [
      "Absolute Error:  (0.0003052002033117063+0j)\n",
      "Estimated Eigenvalue:  -7.727101410109218\n"
     ]
    }
   ],
   "source": [
    "# The run above will get stuck around the given interval.\n",
    "# We demonstrate that we approximated the eigenvalue until the target digit!\n",
    "\n",
    "a_est =0.898125\n",
    "est_eig = 2*np.arccos(a_est)\n",
    "print(\"Absolute Error: \", (est_eig - c2)/c1 - eigenvalues_sort[0])\n",
    "print(\"Estimated Eigenvalue: \", (est_eig - c2)/c1)"
   ]
  },
  {
   "cell_type": "code",
   "execution_count": 22,
   "id": "9869d16c",
   "metadata": {},
   "outputs": [
    {
     "name": "stdout",
     "output_type": "stream",
     "text": [
      "Target Absolute Error:  (-3.0552168635011867e-06+0j)\n",
      "Target Estimate:  -7.727409665529393\n",
      "Exact a:  (0.5961538065341769-0j)\n",
      "c1:  3141.592653389793\n"
     ]
    }
   ],
   "source": [
    "d = -3\n",
    "\n",
    "dist = 1e-10\n",
    "max_spectrum_length = 10**(d)\n",
    "\n",
    "# Initial search starts with a larger margin, hence multiplication with 2!\n",
    "# Estimation -6 is acquired through expectation value measurement!\n",
    "ground_energy_lower_bound = -7.727 - max_spectrum_length\n",
    "c1 = (np.pi-2*dist) / (max_spectrum_length)\n",
    "c2 = dist - c1 * ground_energy_lower_bound\n",
    "eigenvalues_tr = eigenvalues_sort * c1 + c2\n",
    "a_values = np.array([np.cos(eig/2) for eig in eigenvalues_tr])\n",
    "\n",
    "a_est = 0.6\n",
    "est_eig = 2*np.arccos(a_est)\n",
    "print(\"Target Absolute Error: \", (est_eig - c2)/c1 - eigenvalues_sort[0])\n",
    "print(\"Target Estimate: \", (est_eig - c2)/c1)\n",
    "print(\"Exact a: \", a_values[0])\n",
    "print(\"c1: \", c1)"
   ]
  },
  {
   "cell_type": "code",
   "execution_count": null,
   "id": "2ab96975",
   "metadata": {},
   "outputs": [],
   "source": []
  }
 ],
 "metadata": {
  "kernelspec": {
   "display_name": "Python 3 (ipykernel)",
   "language": "python",
   "name": "python3"
  },
  "language_info": {
   "codemirror_mode": {
    "name": "ipython",
    "version": 3
   },
   "file_extension": ".py",
   "mimetype": "text/x-python",
   "name": "python",
   "nbconvert_exporter": "python",
   "pygments_lexer": "ipython3",
   "version": "3.10.13"
  }
 },
 "nbformat": 4,
 "nbformat_minor": 5
}
