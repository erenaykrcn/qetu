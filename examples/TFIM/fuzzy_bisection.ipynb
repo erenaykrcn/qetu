{
 "cells": [
  {
   "cell_type": "code",
   "execution_count": 2,
   "id": "9e2820d6",
   "metadata": {},
   "outputs": [],
   "source": [
    "import sys\n",
    "\n",
    "sys.path.append(\"../../src/groundstate_prep\")\n",
    "from fuzzy_bisection import fuzzy_bisection\n",
    "from ground_state_prep import prepare_ground_state\n",
    "\n",
    "sys.path.append(\"../../src/lindbladian\")\n",
    "from lindbladian import circuit_implementation_lindbladian"
   ]
  },
  {
   "cell_type": "code",
   "execution_count": 3,
   "id": "f76f4a04",
   "metadata": {},
   "outputs": [
    {
     "name": "stdout",
     "output_type": "stream",
     "text": [
      "Ground State Energy -7.727406610312517\n",
      "a_max (0.9921530917736707-0j)\n",
      "a_premax (0.9885924745552997-0j)\n",
      "c1:  0.19622454084936208\n",
      "c2:  1.7670208676442587\n"
     ]
    }
   ],
   "source": [
    "# Hamiltonian.\n",
    "\n",
    "import numpy as np\n",
    "from numpy import linalg as LA\n",
    "import qib\n",
    "import matplotlib.pyplot as plt\n",
    "\n",
    "# Parameters for the Ising Hamiltonian\n",
    "# L has to be even! Due to K only being able to control even Ls!\n",
    "L, J, g = (6, 1, 1)\n",
    "\n",
    "\n",
    "# construct Hamiltonian\n",
    "latt = qib.lattice.IntegerLattice((L,), pbc=True)\n",
    "field = qib.field.Field(qib.field.ParticleType.QUBIT, latt)\n",
    "hamil = qib.IsingHamiltonian(field, J, 0, g).as_matrix().toarray()\n",
    "\n",
    "eigenvalues, eigenvectors = LA.eig(hamil)\n",
    "idx = eigenvalues.argsort()\n",
    "eigenvalues_sort = eigenvalues[idx]\n",
    "eigenvectors_sort = eigenvectors[:,idx]\n",
    "ground_state = eigenvectors_sort[:, 0]\n",
    "print(\"Ground State Energy\", eigenvalues_sort[0].real)\n",
    "\n",
    "dist = 0.001\n",
    "max_spectrum_length = 16\n",
    "ground_energy_lower_bound = -9\n",
    "c1 = (np.pi-2*dist) / (max_spectrum_length)\n",
    "c2 = dist - c1 * ground_energy_lower_bound\n",
    "\n",
    "eigenvalues_tr = eigenvalues_sort * c1 + c2\n",
    "a_values = np.array([np.cos(eig/2) for eig in eigenvalues_tr])\n",
    "\n",
    "print(\"a_max\", a_values[0])\n",
    "print(\"a_premax\", a_values[1])\n",
    "print(\"c1: \", c1)\n",
    "print(\"c2: \", c2)"
   ]
  },
  {
   "cell_type": "code",
   "execution_count": 4,
   "id": "0c8f24ca",
   "metadata": {},
   "outputs": [
    {
     "name": "stdout",
     "output_type": "stream",
     "text": [
      "\n",
      "Layer 0\n",
      "Prob 0: 0.08339700191905328\n",
      "Prob 1: 0.916602998080947\n",
      "\n",
      "Layer 1\n",
      "Prob 0: 0.09804355119790571\n",
      "Prob 1: 0.9019564488020938\n",
      "\n",
      "Layer 2\n",
      "Prob 0: 0.10116326035064872\n",
      "Prob 1: 0.8988367396493514\n",
      "\n",
      "Layer 3\n",
      "Prob 0: 0.1022018381316293\n",
      "Prob 1: 0.8977981618683705\n",
      "\n",
      "Layer 4\n",
      "Prob 0: 0.10253502829533823\n",
      "Prob 1: 0.8974649717046618\n",
      "\n",
      "F(a_max) = (0.1026838363758513+0j)\n",
      "\n",
      " ---------- \n",
      " SUCCESS! \n",
      "\n",
      "Fidelity of the initial state to the ground state: 0.7585850631971753\n",
      "Fidelity of the prepared state to the ground state: 0.999310886804061\n"
     ]
    }
   ],
   "source": [
    "mu, d, c, phis_max_iter, = (0.99, 30, 0.95, 10)\n",
    "\n",
    "tau, nsteps = (1, 1500)\n",
    "end_state_lind, en_list, err = circuit_implementation_lindbladian(hamil, L, tau=tau, nsteps=nsteps)\n",
    "\n",
    "ket_0 = np.array([1,0])\n",
    "end_state_qetu, E = prepare_ground_state(\n",
    "                        np.kron(ket_0, end_state_lind), mu, d, c, phis_max_iter,\n",
    "                        np.kron(ket_0, ground_state), L, J, g, eigenvalues_sort[0],\n",
    "                        hamil=hamil, max_reps=5, tau=c1, shift=c2, a_max=a_values[0]\n",
    ")"
   ]
  },
  {
   "cell_type": "code",
   "execution_count": 5,
   "id": "9877b0f4",
   "metadata": {},
   "outputs": [
    {
     "name": "stdout",
     "output_type": "stream",
     "text": [
      "------------------\n",
      "x: 0.5\n",
      "d:  14\n",
      "left:  0\n",
      "right:  1\n",
      "Prob 0: 0.9403862913465652\n",
      "Prob 1: 0.05961370865343385\n",
      "F(a_max)**2:  (0.9404807454460484+0j)\n",
      "Success Prob:  0.9403862913465652\n",
      "------------------\n",
      "x: 0.745\n",
      "d:  14\n",
      "left:  0.49\n",
      "right:  1\n"
     ]
    },
    {
     "name": "stderr",
     "output_type": "stream",
     "text": [
      "C:\\Users\\erena\\AppData\\Local\\Programs\\Python\\Python310\\lib\\site-packages\\cvxpy\\problems\\problem.py:1387: UserWarning: Solution may be inaccurate. Try another solver, adjusting the solver settings, or solve with verbose=True for more information.\n",
      "  warnings.warn(\n"
     ]
    },
    {
     "name": "stdout",
     "output_type": "stream",
     "text": [
      "Prob 0: 0.858729295834927\n",
      "Prob 1: 0.14127070416507465\n",
      "F(a_max)**2:  (0.8588381830267405+0j)\n",
      "Success Prob:  0.858729295834927\n",
      "------------------\n",
      "x: 0.8674999999999999\n",
      "d:  14\n",
      "left:  0.735\n",
      "right:  1\n",
      "Prob 0: 0.8585642512872751\n",
      "Prob 1: 0.1414357487127249\n",
      "F(a_max)**2:  (0.8586248916517395+0j)\n",
      "Success Prob:  0.8585642512872751\n",
      "------------------\n",
      "x: 0.92875\n",
      "d:  14\n",
      "left:  0.8574999999999999\n",
      "right:  1\n",
      "Prob 0: 0.984422601128019\n",
      "Prob 1: 0.015577398871981046\n",
      "F(a_max)**2:  (0.9845340796468466+0j)\n",
      "Success Prob:  0.984422601128019\n",
      "------------------\n",
      "x: 0.959375\n",
      "d:  14\n",
      "left:  0.91875\n",
      "right:  1\n",
      "Prob 0: 0.7245804600911738\n",
      "Prob 1: 0.2754195399088241\n",
      "F(a_max)**2:  (0.7247094310732473+0j)\n",
      "Success Prob:  0.7245804600911738\n",
      "------------------\n",
      "x: 0.9746874999999999\n",
      "d:  14\n",
      "left:  0.949375\n",
      "right:  1\n",
      "Prob 0: 0.5939095561204485\n",
      "Prob 1: 0.40609044387955173\n",
      "F(a_max)**2:  (0.59404105552365+0j)\n",
      "Success Prob:  0.5939095561204485\n",
      "Not steep enough!\n",
      "------------------\n",
      "x: 0.9746874999999999\n",
      "d:  18\n",
      "left:  0.939375\n",
      "right:  1.01\n",
      "Prob 0: 0.5946633941542713\n",
      "Prob 1: 0.4053366058457279\n",
      "F(a_max)**2:  (0.5947978088743481+0j)\n",
      "Success Prob:  0.5946633941542713\n",
      "Not steep enough!\n",
      "------------------\n",
      "x: 0.9746874999999999\n",
      "d:  22\n",
      "left:  0.929375\n",
      "right:  1.02\n",
      "Prob 0: 0.8034539629271013\n",
      "Prob 1: 0.1965460370728985\n",
      "F(a_max)**2:  (0.803616280450599+0j)\n",
      "Success Prob:  0.8034539629271013\n",
      "------------------\n",
      "x: 0.99234375\n",
      "d:  22\n",
      "left:  0.9646874999999999\n",
      "right:  1.02\n",
      "End of Search! \n",
      " Error: 0.00019065822632924334\n",
      "Estimated a: 0.99234375\n",
      "a: (0.9921530917736707-0j)\n"
     ]
    }
   ],
   "source": [
    "a_est = fuzzy_bisection(end_state_qetu, 0, 1, 14, 0.005, 0, hamil, c1, c2, a_values[0])\n",
    "print(\"Estimated a: \" + str(a_est))\n",
    "print(\"a: \" + str(a_values[0]))"
   ]
  }
 ],
 "metadata": {
  "kernelspec": {
   "display_name": "Python 3 (ipykernel)",
   "language": "python",
   "name": "python3"
  },
  "language_info": {
   "codemirror_mode": {
    "name": "ipython",
    "version": 3
   },
   "file_extension": ".py",
   "mimetype": "text/x-python",
   "name": "python",
   "nbconvert_exporter": "python",
   "pygments_lexer": "ipython3",
   "version": "3.10.7"
  }
 },
 "nbformat": 4,
 "nbformat_minor": 5
}
