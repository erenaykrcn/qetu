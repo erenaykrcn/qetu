{
 "cells": [
  {
   "cell_type": "code",
   "execution_count": 1,
   "id": "8940f15b",
   "metadata": {},
   "outputs": [],
   "source": [
    "import sys\n",
    "\n",
    "sys.path.append(\"../../src/groundstate_prep\")\n",
    "from ground_state_prep_qiskit import get_error_from_sv, prepare_ground_state_qiskit\n",
    "from utils_gsp import approx_polynomial, get_phis, U\n",
    "\n",
    "sys.path.append(\"../../src/lindbladian\")\n",
    "from lindbladian import ideal_lindbladian, circuit_implementation_lindbladian\n",
    "from utils_lind import crandn"
   ]
  },
  {
   "cell_type": "code",
   "execution_count": 2,
   "id": "9c61e1a0",
   "metadata": {},
   "outputs": [
    {
     "name": "stdout",
     "output_type": "stream",
     "text": [
      "Ground State Energy -7.727406610312517\n"
     ]
    }
   ],
   "source": [
    "# Hamiltonian.\n",
    "\n",
    "import numpy as np\n",
    "from numpy import linalg as LA\n",
    "import qib\n",
    "import matplotlib.pyplot as plt\n",
    "\n",
    "# Parameters for the Ising Hamiltonian\n",
    "# L has to be even! Due to K only being able to control even Ls!\n",
    "L, J, g = (6, 1, 1)\n",
    "\n",
    "\n",
    "# construct Hamiltonian\n",
    "latt = qib.lattice.IntegerLattice((L,), pbc=True)\n",
    "field = qib.field.Field(qib.field.ParticleType.QUBIT, latt)\n",
    "hamil = qib.IsingHamiltonian(field, J, 0, g).as_matrix().toarray()\n",
    "\n",
    "eigenvalues, eigenvectors = LA.eig(hamil)\n",
    "idx = eigenvalues.argsort()\n",
    "eigenvalues_sort = eigenvalues[idx]\n",
    "eigenvectors_sort = eigenvectors[:,idx]\n",
    "ground_state = eigenvectors_sort[:, 0]\n",
    "print(\"Ground State Energy\", eigenvalues_sort[0].real)"
   ]
  },
  {
   "cell_type": "code",
   "execution_count": 3,
   "id": "34076413",
   "metadata": {},
   "outputs": [
    {
     "name": "stdout",
     "output_type": "stream",
     "text": [
      "Absolute Error for the Eigenvalue:  0.4731727540735058\n",
      "State fidelity to the ground state:  0.7585850631971753\n"
     ]
    },
    {
     "data": {
      "image/png": "[encoded data removed]",
      "text/plain": [
       "<Figure size 640x480 with 1 Axes>"
      ]
     },
     "metadata": {},
     "output_type": "display_data"
    }
   ],
   "source": [
    "from qiskit.quantum_info import state_fidelity\n",
    "\n",
    "tau, nsteps = (1, 1500)\n",
    "end_state_lind, en_list, err = circuit_implementation_lindbladian(hamil, L, tau=tau, nsteps=nsteps)\n",
    "\n",
    "print(\"Absolute Error for the Eigenvalue: \", err)\n",
    "print(\"State fidelity to the ground state: \", state_fidelity(end_state_lind, ground_state))\n",
    "plt.semilogx(tau * np.arange(nsteps + 1), en_list, \".\", label=r\"$\\mathrm{tr}[\\rho(t) H]$\")\n",
    "plt.semilogx(tau * np.arange(nsteps + 1), (eigenvalues_sort[0]*np.ones(nsteps + 1)).real, label=r\"$\\lambda_0$\")\n",
    "plt.legend()\n",
    "plt.xlabel(\"time\")\n",
    "plt.ylabel(r\"$\\langle H \\rangle$\")\n",
    "plt.title(\"convergence to ground state\")\n",
    "plt.show()"
   ]
  },
  {
   "cell_type": "code",
   "execution_count": 4,
   "id": "eb51f65e",
   "metadata": {},
   "outputs": [
    {
     "name": "stdout",
     "output_type": "stream",
     "text": [
      "a_max (0.9921530917736707-0j)\n",
      "a_premax (0.9885924745552997-0j)\n",
      "c1:  0.19622454084936208\n",
      "c2:  1.7670208676442587\n",
      "t:  0.09811227042468104\n"
     ]
    }
   ],
   "source": [
    "# Linear transformation of the hamiltonian to fit the eigenvalues in the [-1, 1] interval.\n",
    "\n",
    "dist = 0.001\n",
    "\n",
    "# Have to be guessed, depending on the used Hamiltonian\n",
    "# If we have a good initial overlap, we can decrease this \n",
    "# max_spectrum_length and get a larger spectral gap after transformation.\n",
    "max_spectrum_length = 16\n",
    "ground_energy_lower_bound = -9\n",
    "c1 = (np.pi-2*dist) / (max_spectrum_length)\n",
    "c2 = dist - c1 * ground_energy_lower_bound\n",
    "\n",
    "eigenvalues_tr = eigenvalues_sort * c1 + c2\n",
    "a_values = np.array([np.cos(eig/2) for eig in eigenvalues_tr])\n",
    "\n",
    "print(\"a_max\", a_values[0])\n",
    "print(\"a_premax\", a_values[1])\n",
    "print(\"c1: \", c1)\n",
    "print(\"c2: \", c2)\n",
    "print(\"t: \", 0.5*c1)"
   ]
  },
  {
   "cell_type": "code",
   "execution_count": 5,
   "id": "f6782f6c",
   "metadata": {},
   "outputs": [
    {
     "name": "stdout",
     "output_type": "stream",
     "text": [
      "Running decomposition of two-qubit gates of the RQC Circuit...\n",
      "F(a_max)^2:  (0.2814077874002102+0j)\n",
      "Layer  0\n",
      "Layer  1\n",
      "Layer  2\n",
      "Layer  0\n",
      "Layer  1\n",
      "Layer  2\n"
     ]
    }
   ],
   "source": [
    "mu, d, c, phis_max_iter, = (0.99, 30, 0.95, 10)\n",
    "ket_0 = np.array([1,0])\n",
    "\n",
    "qc_RQC, qc_H_RQC, qc_STR, qc_H_STR = prepare_ground_state_qiskit(\n",
    "                       L, J, g, c1/2, mu, a_values, c2, 3, init_state=np.kron(ket_0, end_state_lind)\n",
    ")"
   ]
  },
  {
   "cell_type": "code",
   "execution_count": 8,
   "id": "5d95f415",
   "metadata": {},
   "outputs": [
    {
     "name": "stdout",
     "output_type": "stream",
     "text": [
      "getting counts\n",
      "gotten counts\n",
      "-7.721680000000001\n",
      "RQC, (Depolar. Error: 1e-10, t1 = 3e8, t2 = 3e8, gate_t = 0), L=6, nshots=100000.0:  0.0057266103125162005\n",
      "getting counts\n",
      "gotten counts\n",
      "-7.711419999999999\n",
      "Strang-3, (Depolar. Error: 1e-10, t1 = 3e8, t2 = 3e8, gate_t = 0), L=6, nshots=100000.0:  0.01598661031251858\n"
     ]
    }
   ],
   "source": [
    "err, reps, shots = (1e-10, 1, 1e5)\n",
    "\n",
    "print(f\"RQC, (Depolar. Error: {err}, t1 = 3e8, t2 = 3e8, gate_t = 0), L=6, nshots={shots}: \", get_error_from_sv(qc_RQC, qc_H_RQC, err, reps, L, J, g, \n",
    "                                    eigenvalues_sort[0], nshots=shots, t1=3e8, t2=3e8, gate_t=0))\n",
    "print(f\"Strang-3, (Depolar. Error: {err}, t1 = 3e8, t2 = 3e8, gate_t = 0), L=6, nshots={shots}: \", get_error_from_sv(qc_STR, qc_H_STR, err, reps, L, J, g, \n",
    "                                    eigenvalues_sort[0], nshots=shots, t1=3e8, t2=3e8, gate_t=0))"
   ]
  },
  {
   "cell_type": "code",
   "execution_count": 9,
   "id": "ebc5471a",
   "metadata": {},
   "outputs": [
    {
     "name": "stdout",
     "output_type": "stream",
     "text": [
      "getting counts\n",
      "gotten counts\n",
      "-7.605599999999998\n",
      "RQC, (Depolar. Error: 0.0001, t1 = 3e8, t2 = 3e8, gate_t = 0), L=6, nshots=100000.0:  0.12180661031251905\n",
      "getting counts\n",
      "gotten counts\n",
      "-7.612279999999996\n",
      "Strang-3, (Depolar. Error: 0.0001, t1 = 3e8, t2 = 3e8, gate_t = 0), L=6, nshots=100000.0:  0.11512661031252147\n"
     ]
    }
   ],
   "source": [
    "err, reps, shots = (1e-4, 1, 1e5)\n",
    "\n",
    "print(f\"RQC, (Depolar. Error: {err}, t1 = 3e8, t2 = 3e8, gate_t = 0), L=6, nshots={shots}: \", get_error_from_sv(qc_RQC, qc_H_RQC, err, reps, L, J, g, \n",
    "                                    eigenvalues_sort[0], nshots=shots, t1=3e8, t2=3e8, gate_t=0))\n",
    "print(f\"Strang-3, (Depolar. Error: {err}, t1 = 3e8, t2 = 3e8, gate_t = 0), L=6, nshots={shots}: \", get_error_from_sv(qc_STR, qc_H_STR, err, reps, L, J, g, \n",
    "                                    eigenvalues_sort[0], nshots=shots, t1=3e8, t2=3e8, gate_t=0))"
   ]
  },
  {
   "cell_type": "code",
   "execution_count": 10,
   "id": "551f7736",
   "metadata": {},
   "outputs": [
    {
     "name": "stdout",
     "output_type": "stream",
     "text": [
      "getting counts\n",
      "gotten counts\n",
      "-6.664060000000001\n",
      "RQC, (Depolar. Error: 0.001, t1 = 3e8, t2 = 3e8, gate_t = 0), L=6, nshots=100000.0:  1.0633466103125162\n",
      "getting counts\n",
      "gotten counts\n",
      "-6.667480000000001\n",
      "Strang-3, (Depolar. Error: 0.001, t1 = 3e8, t2 = 3e8, gate_t = 0), L=6, nshots=100000.0:  1.059926610312516\n"
     ]
    }
   ],
   "source": [
    "err, reps, shots = (1e-3, 1, 1e5)\n",
    "\n",
    "print(f\"RQC, (Depolar. Error: {err}, t1 = 3e8, t2 = 3e8, gate_t = 0), L=6, nshots={shots}: \", get_error_from_sv(qc_RQC, qc_H_RQC, err, reps, L, J, g, \n",
    "                                    eigenvalues_sort[0], nshots=shots, t1=3e8, t2=3e8, gate_t=0))\n",
    "print(f\"Strang-3, (Depolar. Error: {err}, t1 = 3e8, t2 = 3e8, gate_t = 0), L=6, nshots={shots}: \", get_error_from_sv(qc_STR, qc_H_STR, err, reps, L, J, g, \n",
    "                                    eigenvalues_sort[0], nshots=shots, t1=3e8, t2=3e8, gate_t=0))"
   ]
  },
  {
   "cell_type": "code",
   "execution_count": null,
   "id": "1df4344f",
   "metadata": {},
   "outputs": [],
   "source": []
  },
  {
   "cell_type": "code",
   "execution_count": null,
   "id": "df9530e7",
   "metadata": {},
   "outputs": [],
   "source": []
  }
 ],
 "metadata": {
  "kernelspec": {
   "display_name": "Python 3 (ipykernel)",
   "language": "python",
   "name": "python3"
  },
  "language_info": {
   "codemirror_mode": {
    "name": "ipython",
    "version": 3
   },
   "file_extension": ".py",
   "mimetype": "text/x-python",
   "name": "python",
   "nbconvert_exporter": "python",
   "pygments_lexer": "ipython3",
   "version": "3.10.13"
  }
 },
 "nbformat": 4,
 "nbformat_minor": 5
}
